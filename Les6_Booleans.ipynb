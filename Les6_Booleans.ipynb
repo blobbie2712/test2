{
 "cells": [
  {
   "attachments": {
    "613b4eef-dc9f-43b9-883b-387574b7ccca.jpg": {
     "image/jpeg": "[encoded data removed]"
    }
   },
   "cell_type": "markdown",
   "id": "4f3ec675-39b5-487d-8563-c55ac1c9ba08",
   "metadata": {
    "slideshow": {
     "slide_type": "slide"
    }
   },
   "source": [
    "## <center> Programming Fundamentals \n",
    "### <center> **Academiejaar 2024 - 2025** \n",
    "### <center> ![OIP.jpg](attachment:613b4eef-dc9f-43b9-883b-387574b7ccca.jpg)\n",
    "\n",
    "#### **Les 6 : Het boolean Data Type**\n",
    "    \n",
    "__1.__ Het boolean data type\n",
    "\n",
    "__2.__ Boolean comparators\n",
    "\n",
    "__3.__ Logische operatoren\n",
    "    \n",
    "__4.__ Typeconversie\n",
    "\n",
    "__5.__ Ternaire operator\n",
    "    \n",
    "        "
   ]
  },
  {
   "cell_type": "markdown",
   "id": "12d1d796-a695-4389-9de8-6a7642eea5da",
   "metadata": {
    "slideshow": {
     "slide_type": "slide"
    },
    "tags": []
   },
   "source": [
    "### <center> **1. Het boolean data type**"
   ]
  },
  {
   "cell_type": "markdown",
   "id": "2b21b5b4-c259-4958-9938-12de5058814e",
   "metadata": {
    "slideshow": {
     "slide_type": "fragment"
    },
    "tags": []
   },
   "source": [
    "<div class=\"alert fade alert-info\">\n",
    "    Een variabele van type <b> boolean </b> - <kbd> bool </kbd> in Python - kan slechts 2 waarden bevatten, ofwel <kbd> True </kbd> ofwel <kbd> False </kbd>."
   ]
  },
  {
   "cell_type": "markdown",
   "id": "06f39f29-ba50-4c32-995b-47fc13cd2e84",
   "metadata": {
    "slideshow": {
     "slide_type": "fragment"
    },
    "tags": []
   },
   "source": [
    "Boolean data types zijn essentieel wanneer je vragen of <b><span style=\"color:green;\"> condities </span></b> wil opnemen in je code. Je doet dit typisch via het gebruik van \n",
    "\n",
    "- vergelijkingsoperatoren of <b><span style=\"color:green;\"> boolean comparators </span></b>: <kbd> >, >=, <, <=, ==, != </kbd>. \n",
    "- logische operatoren: <kbd> and, or, not </kbd>. \n",
    "\n",
    "**Het resultaat van een vergelijkingsoperator of logische operator is steeds van type boolean.**"
   ]
  },
  {
   "cell_type": "code",
   "execution_count": 1,
   "id": "090f6f72-7ed6-4d0f-ad5d-c1b3da2969a6",
   "metadata": {
    "slideshow": {
     "slide_type": "subslide"
    },
    "tags": []
   },
   "outputs": [
    {
     "name": "stdout",
     "output_type": "stream",
     "text": [
      "<class 'bool'>\n"
     ]
    }
   ],
   "source": [
    "print(type(True))"
   ]
  },
  {
   "cell_type": "code",
   "execution_count": 2,
   "id": "4680302f-06c2-40c8-8cbe-54aa8aa21e64",
   "metadata": {
    "slideshow": {
     "slide_type": "fragment"
    },
    "tags": []
   },
   "outputs": [
    {
     "ename": "NameError",
     "evalue": "name 'false' is not defined",
     "output_type": "error",
     "traceback": [
      "\u001b[1;31m---------------------------------------------------------------------------\u001b[0m",
      "\u001b[1;31mNameError\u001b[0m                                 Traceback (most recent call last)",
      "Cell \u001b[1;32mIn[2], line 1\u001b[0m\n\u001b[1;32m----> 1\u001b[0m \u001b[38;5;28mprint\u001b[39m(\u001b[38;5;28mtype\u001b[39m(\u001b[43mfalse\u001b[49m))\n",
      "\u001b[1;31mNameError\u001b[0m: name 'false' is not defined"
     ]
    }
   ],
   "source": [
    "print(type(false))"
   ]
  },
  {
   "cell_type": "markdown",
   "id": "da5ce33f-1d0e-4f37-af9c-6aeacd76a85f",
   "metadata": {
    "slideshow": {
     "slide_type": "fragment"
    },
    "tags": []
   },
   "source": [
    "\n",
    "\n",
    "**Testen op gelijkheid of niet-gelijkheid** van 2 objecten kan via de operatoren **==**, **!=** en **is**.\n",
    "\n",
    "Daar waar <kbd> == </kbd> gelijkheid test in de zin van: _hebben beiden objecten dezelfde waarde?_, zal de <kbd>is</kbd> operator testen of 2 objecten dezelfde geheugenplaats delen. \n",
    "\n",
    "Met de functie <kbd> id </kbd> test je dus de gelijkheid van de _identity_ van de 2 objecten: id(a) == id(b)"
   ]
  },
  {
   "cell_type": "markdown",
   "id": "9b922f32-a8a3-4dfa-9a2c-3827205a24d1",
   "metadata": {
    "slideshow": {
     "slide_type": "slide"
    },
    "tags": []
   },
   "source": [
    "### <center> **2. Boolean comparators**"
   ]
  },
  {
   "cell_type": "markdown",
   "id": "2afebd1f-47bc-4eae-8939-9c886c0b78ce",
   "metadata": {
    "slideshow": {
     "slide_type": "fragment"
    },
    "tags": []
   },
   "source": [
    "### <center> Testen op gelijkheid"
   ]
  },
  {
   "cell_type": "code",
   "execution_count": 3,
   "id": "d7e2031a-c5be-457e-ae95-aff640cb4d3d",
   "metadata": {
    "slideshow": {
     "slide_type": "fragment"
    },
    "tags": []
   },
   "outputs": [
    {
     "data": {
      "text/plain": [
       "True"
      ]
     },
     "execution_count": 3,
     "metadata": {},
     "output_type": "execute_result"
    }
   ],
   "source": [
    "1 == 1"
   ]
  },
  {
   "cell_type": "code",
   "execution_count": 20,
   "id": "3c31f7a5-7141-4070-b3cb-9af361f30409",
   "metadata": {
    "slideshow": {
     "slide_type": "subslide"
    },
    "tags": []
   },
   "outputs": [
    {
     "name": "stderr",
     "output_type": "stream",
     "text": [
      "<>:1: SyntaxWarning: \"is\" with a literal. Did you mean \"==\"?\n",
      "<>:1: SyntaxWarning: \"is\" with a literal. Did you mean \"==\"?\n",
      "C:\\Users\\katja.verbeeck\\AppData\\Local\\Temp\\ipykernel_2768\\1728060598.py:1: SyntaxWarning: \"is\" with a literal. Did you mean \"==\"?\n",
      "  1 is 1\n"
     ]
    },
    {
     "data": {
      "text/plain": [
       "True"
      ]
     },
     "execution_count": 20,
     "metadata": {},
     "output_type": "execute_result"
    }
   ],
   "source": [
    "1 is 1"
   ]
  },
  {
   "cell_type": "code",
   "execution_count": 32,
   "id": "9adf0a17-eefc-43bf-a2a0-89eb2df05570",
   "metadata": {
    "slideshow": {
     "slide_type": "fragment"
    },
    "tags": []
   },
   "outputs": [],
   "source": [
    "naam = \"Kermit\""
   ]
  },
  {
   "cell_type": "code",
   "execution_count": 33,
   "id": "60459ddd-64ad-453b-9e7a-d9c3a32cbad0",
   "metadata": {
    "slideshow": {
     "slide_type": "fragment"
    },
    "tags": []
   },
   "outputs": [
    {
     "data": {
      "text/plain": [
       "True"
      ]
     },
     "execution_count": 33,
     "metadata": {},
     "output_type": "execute_result"
    }
   ],
   "source": [
    "naam == \"Kermit\""
   ]
  },
  {
   "cell_type": "code",
   "execution_count": 35,
   "id": "9eb54c92-1eb4-4fbb-9f61-838f3ea0f865",
   "metadata": {
    "slideshow": {
     "slide_type": "fragment"
    },
    "tags": []
   },
   "outputs": [
    {
     "name": "stderr",
     "output_type": "stream",
     "text": [
      "<>:1: SyntaxWarning: \"is\" with a literal. Did you mean \"==\"?\n",
      "<>:1: SyntaxWarning: \"is\" with a literal. Did you mean \"==\"?\n",
      "C:\\Users\\katja.verbeeck\\AppData\\Local\\Temp\\ipykernel_2768\\503321535.py:1: SyntaxWarning: \"is\" with a literal. Did you mean \"==\"?\n",
      "  naam is \"Kermit\"\n"
     ]
    },
    {
     "data": {
      "text/plain": [
       "True"
      ]
     },
     "execution_count": 35,
     "metadata": {},
     "output_type": "execute_result"
    }
   ],
   "source": [
    "naam is \"Kermit\""
   ]
  },
  {
   "cell_type": "code",
   "execution_count": 36,
   "id": "d60782a7-b941-4a6b-8c3e-c0e78dd25865",
   "metadata": {
    "slideshow": {
     "slide_type": "subslide"
    },
    "tags": []
   },
   "outputs": [
    {
     "data": {
      "text/plain": [
       "True"
      ]
     },
     "execution_count": 36,
     "metadata": {},
     "output_type": "execute_result"
    }
   ],
   "source": [
    "naam_voluit = \"Kermit de kikker\"\n",
    "naam_voluit == \"Kermit de kikker\""
   ]
  },
  {
   "cell_type": "code",
   "execution_count": 37,
   "id": "f445d3c2-b7c7-43c3-b715-34aca573189f",
   "metadata": {
    "slideshow": {
     "slide_type": "fragment"
    },
    "tags": []
   },
   "outputs": [
    {
     "name": "stderr",
     "output_type": "stream",
     "text": [
      "<>:1: SyntaxWarning: \"is\" with a literal. Did you mean \"==\"?\n",
      "<>:1: SyntaxWarning: \"is\" with a literal. Did you mean \"==\"?\n",
      "C:\\Users\\katja.verbeeck\\AppData\\Local\\Temp\\ipykernel_2768\\2982687340.py:1: SyntaxWarning: \"is\" with a literal. Did you mean \"==\"?\n",
      "  naam_voluit is \"Kermit de kikker\"\n"
     ]
    },
    {
     "data": {
      "text/plain": [
       "False"
      ]
     },
     "execution_count": 37,
     "metadata": {},
     "output_type": "execute_result"
    }
   ],
   "source": [
    "naam_voluit is \"Kermit de kikker\""
   ]
  },
  {
   "cell_type": "code",
   "execution_count": 28,
   "id": "e0b4de20-5274-453c-bb5e-a4426cda1dbf",
   "metadata": {
    "slideshow": {
     "slide_type": "fragment"
    },
    "tags": []
   },
   "outputs": [
    {
     "data": {
      "text/plain": [
       "True"
      ]
     },
     "execution_count": 28,
     "metadata": {},
     "output_type": "execute_result"
    }
   ],
   "source": [
    "id(naam) == id(\"Kermit\")"
   ]
  },
  {
   "cell_type": "code",
   "execution_count": 29,
   "id": "ebb695cb-3333-478a-8c20-03ae16c56438",
   "metadata": {
    "slideshow": {
     "slide_type": "fragment"
    },
    "tags": []
   },
   "outputs": [
    {
     "data": {
      "text/plain": [
       "False"
      ]
     },
     "execution_count": 29,
     "metadata": {},
     "output_type": "execute_result"
    }
   ],
   "source": [
    "id(naam_voluit) == id(\"Kermit de kikker\")"
   ]
  },
  {
   "cell_type": "markdown",
   "id": "f8791a3d-c17a-4e92-a1d2-474f2d3cf2dd",
   "metadata": {
    "slideshow": {
     "slide_type": "subslide"
    },
    "tags": []
   },
   "source": [
    "---\n",
    "**Merk op:**\n",
    "\n",
    "Het is vreemd dat bij de string \"Kermit\" de identities toch dezelfde blijken te zijn. De verklaring is dat voor korte strings (en ook bij getallen trouwens) Python ervoor zorgt dat aangemaakte objecten in de geheugencache blijven ook al wijst er geen variabele meer naar. De garbage collector gaat ze dus niet verwijderen. Wanneer deze korte strings daarna opnieuw aangemaakt worden, worden deze objecten uit de cache herbruikt. Vandaar dat de identities nog dezelfde zijn.\n",
    "\n",
    "Bij de langere string \"Kermit de kikker\" zal deze telkens opnieuw gemaakt worden en geeft dit ook telkens een andere id (= andere plaats in het geheugen).\n",
    "\n",
    "---"
   ]
  },
  {
   "cell_type": "code",
   "execution_count": 12,
   "id": "15c54e0f-4582-402e-8590-866b9459fe2f",
   "metadata": {
    "slideshow": {
     "slide_type": "fragment"
    },
    "tags": []
   },
   "outputs": [
    {
     "data": {
      "text/plain": [
       "False"
      ]
     },
     "execution_count": 12,
     "metadata": {},
     "output_type": "execute_result"
    }
   ],
   "source": [
    "123 == \"123\"  "
   ]
  },
  {
   "cell_type": "code",
   "execution_count": 25,
   "id": "87e2518f-ac7f-4965-945c-322ae202e89b",
   "metadata": {
    "slideshow": {
     "slide_type": "fragment"
    },
    "tags": []
   },
   "outputs": [
    {
     "name": "stderr",
     "output_type": "stream",
     "text": [
      "<>:1: SyntaxWarning: \"is\" with a literal. Did you mean \"==\"?\n",
      "<>:1: SyntaxWarning: \"is\" with a literal. Did you mean \"==\"?\n",
      "C:\\Users\\katja.verbeeck\\AppData\\Local\\Temp\\ipykernel_2768\\32399267.py:1: SyntaxWarning: \"is\" with a literal. Did you mean \"==\"?\n",
      "  123 is \"123\"\n"
     ]
    },
    {
     "data": {
      "text/plain": [
       "False"
      ]
     },
     "execution_count": 25,
     "metadata": {},
     "output_type": "execute_result"
    }
   ],
   "source": [
    "123 is \"123\""
   ]
  },
  {
   "cell_type": "code",
   "execution_count": 39,
   "id": "afda1550-ed6e-4666-931c-aadeca823bdb",
   "metadata": {
    "slideshow": {
     "slide_type": "subslide"
    },
    "tags": []
   },
   "outputs": [],
   "source": [
    "abc = \"ABC\""
   ]
  },
  {
   "cell_type": "code",
   "execution_count": 25,
   "id": "4f06edc5-e8bb-4ecf-80e0-164010480fe3",
   "metadata": {
    "slideshow": {
     "slide_type": "fragment"
    },
    "tags": []
   },
   "outputs": [
    {
     "data": {
      "text/plain": [
       "2623295843056"
      ]
     },
     "execution_count": 25,
     "metadata": {},
     "output_type": "execute_result"
    }
   ],
   "source": [
    "id(abc)"
   ]
  },
  {
   "cell_type": "code",
   "execution_count": 26,
   "id": "808fdc56-e555-4620-8efa-efd9e0322ccf",
   "metadata": {
    "slideshow": {
     "slide_type": "fragment"
    },
    "tags": []
   },
   "outputs": [
    {
     "data": {
      "text/plain": [
       "2623295839792"
      ]
     },
     "execution_count": 26,
     "metadata": {},
     "output_type": "execute_result"
    }
   ],
   "source": [
    "id(\"abc\")"
   ]
  },
  {
   "cell_type": "code",
   "execution_count": 27,
   "id": "c86d8958-ab27-482a-bc2e-b46a5a2135dc",
   "metadata": {
    "slideshow": {
     "slide_type": "fragment"
    },
    "tags": []
   },
   "outputs": [
    {
     "data": {
      "text/plain": [
       "2623295843056"
      ]
     },
     "execution_count": 27,
     "metadata": {},
     "output_type": "execute_result"
    }
   ],
   "source": [
    "id(\"ABC\")"
   ]
  },
  {
   "cell_type": "code",
   "execution_count": 40,
   "id": "1f0b5fd5-f867-47cd-9c02-028d710d1257",
   "metadata": {
    "slideshow": {
     "slide_type": "fragment"
    },
    "tags": []
   },
   "outputs": [
    {
     "data": {
      "text/plain": [
       "True"
      ]
     },
     "execution_count": 40,
     "metadata": {},
     "output_type": "execute_result"
    }
   ],
   "source": [
    "id(abc) == id(\"ABC\")"
   ]
  },
  {
   "cell_type": "code",
   "execution_count": 42,
   "id": "d4314519-d955-4ed0-8304-ecd3becf0994",
   "metadata": {
    "slideshow": {
     "slide_type": "fragment"
    },
    "tags": []
   },
   "outputs": [
    {
     "name": "stderr",
     "output_type": "stream",
     "text": [
      "<>:1: SyntaxWarning: \"is\" with a literal. Did you mean \"==\"?\n",
      "<>:1: SyntaxWarning: \"is\" with a literal. Did you mean \"==\"?\n",
      "C:\\Users\\katja.verbeeck\\AppData\\Local\\Temp\\ipykernel_2768\\1260353149.py:1: SyntaxWarning: \"is\" with a literal. Did you mean \"==\"?\n",
      "  abc is \"ABC\"\n"
     ]
    },
    {
     "data": {
      "text/plain": [
       "True"
      ]
     },
     "execution_count": 42,
     "metadata": {},
     "output_type": "execute_result"
    }
   ],
   "source": [
    "abc is \"ABC\""
   ]
  },
  {
   "cell_type": "markdown",
   "id": "54380d4f-6ca8-401b-a3fb-b27110cd97e8",
   "metadata": {
    "slideshow": {
     "slide_type": "subslide"
    },
    "tags": []
   },
   "source": [
    "### <center> Groter dan, kleiner dan"
   ]
  },
  {
   "cell_type": "markdown",
   "id": "0f312c57-fec1-4c70-93f8-5411c50f3fa5",
   "metadata": {
    "slideshow": {
     "slide_type": "fragment"
    },
    "tags": []
   },
   "source": [
    "De vergelijkingsoperatoren werken zowel op numerieke data als string data. Voor numerieke data types werken deze hetzelfde als de wiskundige vergelijkingsoperatoren. Voor strings worden de karakters omgezet naar hun rangnummer in de UTF-tabel. Karakter 'a' staat voor karakter 'b' in de tabel en karakter 'A' voor karakter 'a'. Elke 2 karakters uit de tabel kunnen dus met elkaar vergeleken worden."
   ]
  },
  {
   "cell_type": "code",
   "execution_count": 19,
   "id": "0d79bf58-2ce3-45fc-b8da-2ca11c57d79a",
   "metadata": {
    "slideshow": {
     "slide_type": "fragment"
    },
    "tags": []
   },
   "outputs": [
    {
     "data": {
      "text/plain": [
       "True"
      ]
     },
     "execution_count": 19,
     "metadata": {},
     "output_type": "execute_result"
    }
   ],
   "source": [
    "import math\n",
    "\n",
    "math.pi > math.e"
   ]
  },
  {
   "cell_type": "code",
   "execution_count": 7,
   "id": "17bf4ad2-d410-4410-975b-54cf8ae92515",
   "metadata": {
    "slideshow": {
     "slide_type": "fragment"
    },
    "tags": []
   },
   "outputs": [
    {
     "data": {
      "text/plain": [
       "True"
      ]
     },
     "execution_count": 7,
     "metadata": {},
     "output_type": "execute_result"
    }
   ],
   "source": [
    "\"good\" > \"bad\""
   ]
  },
  {
   "cell_type": "code",
   "execution_count": 60,
   "id": "6dbcac44-8a0a-46bd-8d2a-37ef79f68976",
   "metadata": {
    "slideshow": {
     "slide_type": "subslide"
    },
    "tags": []
   },
   "outputs": [
    {
     "data": {
      "text/plain": [
       "True"
      ]
     },
     "execution_count": 60,
     "metadata": {},
     "output_type": "execute_result"
    }
   ],
   "source": [
    "\"a\" < \"z\""
   ]
  },
  {
   "cell_type": "code",
   "execution_count": 62,
   "id": "18492cf7-c477-433b-ac77-db25b8dab7ac",
   "metadata": {
    "slideshow": {
     "slide_type": "fragment"
    },
    "tags": []
   },
   "outputs": [
    {
     "data": {
      "text/plain": [
       "True"
      ]
     },
     "execution_count": 62,
     "metadata": {},
     "output_type": "execute_result"
    }
   ],
   "source": [
    "\"z\" > \"A\""
   ]
  },
  {
   "cell_type": "code",
   "execution_count": 63,
   "id": "afb1872e-8cd4-46ed-a5d9-bfaac19616f4",
   "metadata": {
    "slideshow": {
     "slide_type": "fragment"
    },
    "tags": []
   },
   "outputs": [
    {
     "data": {
      "text/plain": [
       "True"
      ]
     },
     "execution_count": 63,
     "metadata": {},
     "output_type": "execute_result"
    }
   ],
   "source": [
    "\"9\" > \"5\""
   ]
  },
  {
   "cell_type": "code",
   "execution_count": 64,
   "id": "30cbc670-235c-46af-90a3-b2959ea02d3b",
   "metadata": {
    "slideshow": {
     "slide_type": "fragment"
    },
    "tags": []
   },
   "outputs": [
    {
     "data": {
      "text/plain": [
       "True"
      ]
     },
     "execution_count": 64,
     "metadata": {},
     "output_type": "execute_result"
    }
   ],
   "source": [
    "\"9\" < \"A\""
   ]
  },
  {
   "cell_type": "code",
   "execution_count": 65,
   "id": "56d5d93d-53c4-43f1-8018-9d5a3b18403b",
   "metadata": {
    "slideshow": {
     "slide_type": "fragment"
    },
    "tags": []
   },
   "outputs": [
    {
     "data": {
      "text/plain": [
       "True"
      ]
     },
     "execution_count": 65,
     "metadata": {},
     "output_type": "execute_result"
    }
   ],
   "source": [
    "\"9\" < \"A\" < \"a\""
   ]
  },
  {
   "cell_type": "code",
   "execution_count": 78,
   "id": "ac0e7ccb-7d1b-4b8d-b53f-b60e02953004",
   "metadata": {
    "slideshow": {
     "slide_type": "subslide"
    },
    "tags": []
   },
   "outputs": [
    {
     "data": {
      "text/plain": [
       "True"
      ]
     },
     "execution_count": 78,
     "metadata": {},
     "output_type": "execute_result"
    }
   ],
   "source": [
    "chr(ord(\"A\") + 32) ==  \"a\""
   ]
  },
  {
   "cell_type": "code",
   "execution_count": 79,
   "id": "5d6cf956-ca91-427f-a3ca-1d31125c58c0",
   "metadata": {
    "slideshow": {
     "slide_type": "fragment"
    },
    "tags": []
   },
   "outputs": [
    {
     "data": {
      "text/plain": [
       "True"
      ]
     },
     "execution_count": 79,
     "metadata": {},
     "output_type": "execute_result"
    }
   ],
   "source": [
    "chr(ord(\"X\") + 32) ==  \"x\""
   ]
  },
  {
   "cell_type": "code",
   "execution_count": 14,
   "id": "def3e337-fff2-4078-a395-9cd3c00ef1f1",
   "metadata": {
    "slideshow": {
     "slide_type": "fragment"
    },
    "tags": []
   },
   "outputs": [
    {
     "ename": "TypeError",
     "evalue": "'>' not supported between instances of 'int' and 'str'",
     "output_type": "error",
     "traceback": [
      "\u001b[1;31m---------------------------------------------------------------------------\u001b[0m",
      "\u001b[1;31mTypeError\u001b[0m                                 Traceback (most recent call last)",
      "Cell \u001b[1;32mIn[14], line 1\u001b[0m\n\u001b[1;32m----> 1\u001b[0m \u001b[38;5;241;43m123\u001b[39;49m\u001b[43m \u001b[49m\u001b[38;5;241;43m>\u001b[39;49m\u001b[43m \u001b[49m\u001b[38;5;124;43m\"\u001b[39;49m\u001b[38;5;124;43m123\u001b[39;49m\u001b[38;5;124;43m\"\u001b[39;49m\n",
      "\u001b[1;31mTypeError\u001b[0m: '>' not supported between instances of 'int' and 'str'"
     ]
    }
   ],
   "source": [
    "123 > \"123\"  # dit is niet gedefinieerd "
   ]
  },
  {
   "cell_type": "code",
   "execution_count": 15,
   "id": "e4615ba9-b8ba-4041-8073-671d68b9f6b8",
   "metadata": {
    "slideshow": {
     "slide_type": "subslide"
    },
    "tags": []
   },
   "outputs": [
    {
     "data": {
      "text/plain": [
       "True"
      ]
     },
     "execution_count": 15,
     "metadata": {},
     "output_type": "execute_result"
    }
   ],
   "source": [
    "True >= False "
   ]
  },
  {
   "cell_type": "code",
   "execution_count": 16,
   "id": "efd9fb4b-8472-4585-85cb-e79672d02281",
   "metadata": {
    "slideshow": {
     "slide_type": "fragment"
    },
    "tags": []
   },
   "outputs": [
    {
     "data": {
      "text/plain": [
       "False"
      ]
     },
     "execution_count": 16,
     "metadata": {},
     "output_type": "execute_result"
    }
   ],
   "source": [
    "False >= True # True en False hebben een rangorde"
   ]
  },
  {
   "cell_type": "code",
   "execution_count": 17,
   "id": "0d0ecfb7-5d90-4466-a380-3afb12058849",
   "metadata": {
    "slideshow": {
     "slide_type": "subslide"
    },
    "tags": []
   },
   "outputs": [
    {
     "data": {
      "text/plain": [
       "False"
      ]
     },
     "execution_count": 17,
     "metadata": {},
     "output_type": "execute_result"
    }
   ],
   "source": [
    "len == type # Functies zijn ook objecten"
   ]
  },
  {
   "cell_type": "code",
   "execution_count": 18,
   "id": "7639b291-4e8a-447b-880f-07ae50284ab2",
   "metadata": {
    "slideshow": {
     "slide_type": "fragment"
    },
    "tags": []
   },
   "outputs": [
    {
     "ename": "TypeError",
     "evalue": "'>=' not supported between instances of 'builtin_function_or_method' and 'type'",
     "output_type": "error",
     "traceback": [
      "\u001b[1;31m---------------------------------------------------------------------------\u001b[0m",
      "\u001b[1;31mTypeError\u001b[0m                                 Traceback (most recent call last)",
      "Cell \u001b[1;32mIn[18], line 1\u001b[0m\n\u001b[1;32m----> 1\u001b[0m \u001b[38;5;28;43mlen\u001b[39;49m\u001b[43m \u001b[49m\u001b[38;5;241;43m>\u001b[39;49m\u001b[38;5;241;43m=\u001b[39;49m\u001b[43m \u001b[49m\u001b[38;5;28;43mtype\u001b[39;49m\n",
      "\u001b[1;31mTypeError\u001b[0m: '>=' not supported between instances of 'builtin_function_or_method' and 'type'"
     ]
    }
   ],
   "source": [
    "len >= type"
   ]
  },
  {
   "cell_type": "code",
   "execution_count": 21,
   "id": "a61fb502-c6ce-42ec-a192-711b346616a2",
   "metadata": {
    "slideshow": {
     "slide_type": "subslide"
    },
    "tags": []
   },
   "outputs": [
    {
     "data": {
      "text/plain": [
       "False"
      ]
     },
     "execution_count": 21,
     "metadata": {},
     "output_type": "execute_result"
    }
   ],
   "source": [
    "\"katja\".count == len"
   ]
  },
  {
   "cell_type": "code",
   "execution_count": 23,
   "id": "5b862d63-2028-40d8-b21a-c2d8e7fec06c",
   "metadata": {
    "slideshow": {
     "slide_type": "fragment"
    },
    "tags": []
   },
   "outputs": [
    {
     "data": {
      "text/plain": [
       "builtin_function_or_method"
      ]
     },
     "execution_count": 23,
     "metadata": {},
     "output_type": "execute_result"
    }
   ],
   "source": [
    "type(\"katja\".count)"
   ]
  },
  {
   "cell_type": "code",
   "execution_count": 28,
   "id": "9d0c321a-b71b-479f-b05f-d52ff926d86e",
   "metadata": {
    "slideshow": {
     "slide_type": "fragment"
    },
    "tags": []
   },
   "outputs": [
    {
     "name": "stdout",
     "output_type": "stream",
     "text": [
      "2\n"
     ]
    }
   ],
   "source": [
    "print(\"katja\".count(\"a\"))"
   ]
  },
  {
   "cell_type": "markdown",
   "id": "df50fe51-d678-44a5-bb68-336024a8ebfd",
   "metadata": {
    "slideshow": {
     "slide_type": "slide"
    },
    "tags": []
   },
   "source": [
    "### <center> **3. Logische operatoren**"
   ]
  },
  {
   "cell_type": "markdown",
   "id": "bc7e4f29-b2e8-44b0-b454-367f0c6d2e32",
   "metadata": {
    "slideshow": {
     "slide_type": "fragment"
    },
    "tags": []
   },
   "source": [
    "Logische operatoren ( <kbd> and, or, not </kbd>) worden gebruikt om de waarheidswaarde van uitspraken na te gaan. De werking van deze operatoren wordt gedefinieerd door middel van waarheidstabellen."
   ]
  },
  {
   "cell_type": "markdown",
   "id": "f49125de-8398-463c-9823-32f31a2a4144",
   "metadata": {
    "slideshow": {
     "slide_type": "fragment"
    },
    "tags": []
   },
   "source": [
    "\n",
    "\n",
    "| a | b | a and b | a or b | not a | not b |\n",
    "|--:|:-:| :------:|:------:|:-----:|:-----:|\n",
    "| True | True | True | True | False | False |\n",
    "| False | True | False | True | True| False |\n",
    "| True | False | False | True | False | True |\n",
    "| False | False | False | False | True| True |\n",
    "\n",
    "\n",
    "\n"
   ]
  },
  {
   "cell_type": "code",
   "execution_count": 29,
   "id": "58fb3e8a-ec9a-4a95-8287-657894d412d4",
   "metadata": {
    "slideshow": {
     "slide_type": "subslide"
    },
    "tags": []
   },
   "outputs": [
    {
     "data": {
      "text/plain": [
       "True"
      ]
     },
     "execution_count": 29,
     "metadata": {},
     "output_type": "execute_result"
    }
   ],
   "source": [
    "1 < 2 and 3 < 4 # beide ware uitspraken"
   ]
  },
  {
   "cell_type": "code",
   "execution_count": 30,
   "id": "8d5833c4-8b91-41a6-934d-fe2f4e740aec",
   "metadata": {
    "slideshow": {
     "slide_type": "fragment"
    },
    "tags": []
   },
   "outputs": [
    {
     "data": {
      "text/plain": [
       "False"
      ]
     },
     "execution_count": 30,
     "metadata": {},
     "output_type": "execute_result"
    }
   ],
   "source": [
    "1 < 2 and 4 < 3 # 2de uitspraak vals"
   ]
  },
  {
   "cell_type": "code",
   "execution_count": 31,
   "id": "77bfe4e2-1d70-4a34-910f-9d17095fc08e",
   "metadata": {
    "slideshow": {
     "slide_type": "fragment"
    },
    "tags": []
   },
   "outputs": [
    {
     "data": {
      "text/plain": [
       "False"
      ]
     },
     "execution_count": 31,
     "metadata": {},
     "output_type": "execute_result"
    }
   ],
   "source": [
    "False and True"
   ]
  },
  {
   "cell_type": "code",
   "execution_count": 32,
   "id": "1f11676f-c83b-46ea-acff-c3facf815d90",
   "metadata": {
    "slideshow": {
     "slide_type": "fragment"
    },
    "tags": []
   },
   "outputs": [
    {
     "data": {
      "text/plain": [
       "True"
      ]
     },
     "execution_count": 32,
     "metadata": {},
     "output_type": "execute_result"
    }
   ],
   "source": [
    "False or True"
   ]
  },
  {
   "cell_type": "code",
   "execution_count": 35,
   "id": "2cb76228-c121-4386-a1e5-ff402de399e3",
   "metadata": {
    "slideshow": {
     "slide_type": "subslide"
    },
    "tags": []
   },
   "outputs": [
    {
     "data": {
      "text/plain": [
       "True"
      ]
     },
     "execution_count": 35,
     "metadata": {},
     "output_type": "execute_result"
    }
   ],
   "source": [
    "not 1 > 2"
   ]
  },
  {
   "cell_type": "code",
   "execution_count": 82,
   "id": "a63f943e-0894-4f66-ab87-5f8416de0e7e",
   "metadata": {
    "slideshow": {
     "slide_type": "fragment"
    },
    "tags": []
   },
   "outputs": [
    {
     "data": {
      "text/plain": [
       "False"
      ]
     },
     "execution_count": 82,
     "metadata": {},
     "output_type": "execute_result"
    }
   ],
   "source": [
    "not 1"
   ]
  },
  {
   "cell_type": "code",
   "execution_count": 80,
   "id": "25a550c0-1e19-44d9-aeae-8d613a8435ed",
   "metadata": {
    "slideshow": {
     "slide_type": "fragment"
    },
    "tags": []
   },
   "outputs": [
    {
     "data": {
      "text/plain": [
       "True"
      ]
     },
     "execution_count": 80,
     "metadata": {},
     "output_type": "execute_result"
    }
   ],
   "source": [
    "not 0"
   ]
  },
  {
   "cell_type": "code",
   "execution_count": 70,
   "id": "4ab843f2-f38d-4071-9228-57dfa8d54d4a",
   "metadata": {
    "slideshow": {
     "slide_type": "fragment"
    },
    "tags": []
   },
   "outputs": [
    {
     "data": {
      "text/plain": [
       "True"
      ]
     },
     "execution_count": 70,
     "metadata": {},
     "output_type": "execute_result"
    }
   ],
   "source": [
    "not True == False"
   ]
  },
  {
   "cell_type": "code",
   "execution_count": 71,
   "id": "c4b4016a-2c0e-49c6-9ec1-331bf3b27372",
   "metadata": {
    "slideshow": {
     "slide_type": "fragment"
    },
    "tags": []
   },
   "outputs": [
    {
     "data": {
      "text/plain": [
       "True"
      ]
     },
     "execution_count": 71,
     "metadata": {},
     "output_type": "execute_result"
    }
   ],
   "source": [
    "not False"
   ]
  },
  {
   "cell_type": "code",
   "execution_count": 69,
   "id": "798fde86-c62d-49d6-a60f-3db72a91b428",
   "metadata": {
    "slideshow": {
     "slide_type": "subslide"
    },
    "tags": []
   },
   "outputs": [
    {
     "ename": "SyntaxError",
     "evalue": "invalid syntax (3478025923.py, line 1)",
     "output_type": "error",
     "traceback": [
      "\u001b[1;36m  Cell \u001b[1;32mIn[69], line 1\u001b[1;36m\u001b[0m\n\u001b[1;33m    True == not False\u001b[0m\n\u001b[1;37m            ^\u001b[0m\n\u001b[1;31mSyntaxError\u001b[0m\u001b[1;31m:\u001b[0m invalid syntax\n"
     ]
    }
   ],
   "source": [
    "True == not False"
   ]
  },
  {
   "cell_type": "markdown",
   "id": "b4f04c01-dabd-49dc-9119-2517a6be0254",
   "metadata": {
    "slideshow": {
     "slide_type": "fragment"
    },
    "tags": []
   },
   "source": [
    "----------------\n",
    "| Volgorde van de vergelijkings en logische operatoren (hoog naar laag)|\n",
    "|:-------------------------------------------------------------------:|\n",
    "| ( ) |\n",
    "| < , <= , ==, !=,  >=, > |\n",
    "| not |\n",
    "| and |\n",
    "| or  |\n",
    " \n",
    " \n",
    " Bij twijfel gebruik haakjes, deze krijgen hoogste prioriteit"
   ]
  },
  {
   "cell_type": "code",
   "execution_count": 52,
   "id": "9a8793ee-9dea-4c22-8afc-8aeb09be0d25",
   "metadata": {
    "slideshow": {
     "slide_type": "subslide"
    },
    "tags": []
   },
   "outputs": [],
   "source": [
    "x = True\n",
    "y = False"
   ]
  },
  {
   "cell_type": "code",
   "execution_count": 53,
   "id": "53d2d434-11d6-40cb-bc00-6eeaefc87923",
   "metadata": {
    "slideshow": {
     "slide_type": "fragment"
    },
    "tags": []
   },
   "outputs": [
    {
     "data": {
      "text/plain": [
       "True"
      ]
     },
     "execution_count": 53,
     "metadata": {},
     "output_type": "execute_result"
    }
   ],
   "source": [
    "x and not y or x"
   ]
  },
  {
   "cell_type": "code",
   "execution_count": 56,
   "id": "d28b8e9d-2c67-4b1d-a312-f72c8861ec3b",
   "metadata": {
    "slideshow": {
     "slide_type": "fragment"
    },
    "tags": []
   },
   "outputs": [
    {
     "data": {
      "text/plain": [
       "False"
      ]
     },
     "execution_count": 56,
     "metadata": {},
     "output_type": "execute_result"
    }
   ],
   "source": [
    "not x and y"
   ]
  },
  {
   "cell_type": "code",
   "execution_count": 57,
   "id": "2fbb8edf-24ea-4aa8-90c5-b6473d099d04",
   "metadata": {
    "slideshow": {
     "slide_type": "fragment"
    },
    "tags": []
   },
   "outputs": [
    {
     "data": {
      "text/plain": [
       "True"
      ]
     },
     "execution_count": 57,
     "metadata": {},
     "output_type": "execute_result"
    }
   ],
   "source": [
    "not(x and y)"
   ]
  },
  {
   "cell_type": "code",
   "execution_count": 66,
   "id": "96467aa7-caab-4a85-ae62-f41258381f1e",
   "metadata": {
    "slideshow": {
     "slide_type": "subslide"
    },
    "tags": []
   },
   "outputs": [
    {
     "data": {
      "text/plain": [
       "False"
      ]
     },
     "execution_count": 66,
     "metadata": {},
     "output_type": "execute_result"
    }
   ],
   "source": [
    "(\"A\" > \"a\") or not (\"Z\" < \"z\")"
   ]
  },
  {
   "cell_type": "code",
   "execution_count": 67,
   "id": "23247654-3d8c-4ea8-af8f-357db3effaaa",
   "metadata": {
    "slideshow": {
     "slide_type": "fragment"
    },
    "tags": []
   },
   "outputs": [
    {
     "data": {
      "text/plain": [
       "True"
      ]
     },
     "execution_count": 67,
     "metadata": {},
     "output_type": "execute_result"
    }
   ],
   "source": [
    "(\"a\" > \"A\") and (\"z\" > \"Z\") "
   ]
  },
  {
   "cell_type": "code",
   "execution_count": 68,
   "id": "11d7fcc7-2a24-48e3-9ada-b0995778e146",
   "metadata": {
    "slideshow": {
     "slide_type": "fragment"
    },
    "tags": []
   },
   "outputs": [
    {
     "data": {
      "text/plain": [
       "False"
      ]
     },
     "execution_count": 68,
     "metadata": {},
     "output_type": "execute_result"
    }
   ],
   "source": [
    "True and False == True and False"
   ]
  },
  {
   "cell_type": "code",
   "execution_count": 69,
   "id": "01679e5a-0e02-450b-a31d-2b89ba2c72d5",
   "metadata": {
    "slideshow": {
     "slide_type": "fragment"
    },
    "tags": []
   },
   "outputs": [
    {
     "data": {
      "text/plain": [
       "True"
      ]
     },
     "execution_count": 69,
     "metadata": {},
     "output_type": "execute_result"
    }
   ],
   "source": [
    "(True and False) == (True and False)"
   ]
  },
  {
   "cell_type": "markdown",
   "id": "c51ae347-020b-4e99-bc6a-a9381bf2cdd1",
   "metadata": {
    "slideshow": {
     "slide_type": "slide"
    },
    "tags": []
   },
   "source": [
    "### <center> **4. Type conversie**"
   ]
  },
  {
   "cell_type": "markdown",
   "id": "379f5c95-0845-4606-a3a2-1361ee647107",
   "metadata": {
    "slideshow": {
     "slide_type": "fragment"
    },
    "tags": []
   },
   "source": [
    "--- \n",
    "**Het boolean type is eigenlijk een numeriek type.**\n",
    "\n",
    "---\n",
    "\n",
    "Alhoewel de keywords <kbd>True</kbd> en <kbd>False</kbd> duidelijk zijn, en handig in gebruik, zijn ze eigenlijk onderliggend gewoon 1 en 0. Wat maakt dat typeconversie van booleans naar andere types mogelijk is."
   ]
  },
  {
   "cell_type": "code",
   "execution_count": 1,
   "id": "5a1e10d2-5c73-468a-8dde-13acf308b065",
   "metadata": {
    "slideshow": {
     "slide_type": "fragment"
    },
    "tags": []
   },
   "outputs": [
    {
     "data": {
      "text/plain": [
       "1"
      ]
     },
     "execution_count": 1,
     "metadata": {},
     "output_type": "execute_result"
    }
   ],
   "source": [
    "int(True)"
   ]
  },
  {
   "cell_type": "code",
   "execution_count": 2,
   "id": "245aaf22-213a-4b6b-b7c4-2aa0a79b5b7c",
   "metadata": {
    "slideshow": {
     "slide_type": "fragment"
    },
    "tags": []
   },
   "outputs": [
    {
     "data": {
      "text/plain": [
       "0"
      ]
     },
     "execution_count": 2,
     "metadata": {},
     "output_type": "execute_result"
    }
   ],
   "source": [
    "int(False)"
   ]
  },
  {
   "cell_type": "code",
   "execution_count": 4,
   "id": "7aba0aff-17b1-40a4-98e7-6c4bd5fe3024",
   "metadata": {
    "slideshow": {
     "slide_type": "subslide"
    },
    "tags": []
   },
   "outputs": [
    {
     "data": {
      "text/plain": [
       "'False'"
      ]
     },
     "execution_count": 4,
     "metadata": {},
     "output_type": "execute_result"
    }
   ],
   "source": [
    "str(False)"
   ]
  },
  {
   "cell_type": "code",
   "execution_count": 5,
   "id": "db514020-f8c9-4f92-ba84-f9a359ad9651",
   "metadata": {
    "slideshow": {
     "slide_type": "fragment"
    },
    "tags": []
   },
   "outputs": [
    {
     "data": {
      "text/plain": [
       "'True'"
      ]
     },
     "execution_count": 5,
     "metadata": {},
     "output_type": "execute_result"
    }
   ],
   "source": [
    "str(True)"
   ]
  },
  {
   "cell_type": "code",
   "execution_count": 6,
   "id": "fb48c31d-d05f-4691-913a-9de8d4f4b28b",
   "metadata": {
    "slideshow": {
     "slide_type": "fragment"
    },
    "tags": []
   },
   "outputs": [
    {
     "data": {
      "text/plain": [
       "1.0"
      ]
     },
     "execution_count": 6,
     "metadata": {},
     "output_type": "execute_result"
    }
   ],
   "source": [
    "float(True)"
   ]
  },
  {
   "cell_type": "code",
   "execution_count": 17,
   "id": "be1b3f55-39ee-4083-9e75-a5c89b6941a2",
   "metadata": {
    "slideshow": {
     "slide_type": "fragment"
    },
    "tags": []
   },
   "outputs": [
    {
     "data": {
      "text/plain": [
       "True"
      ]
     },
     "execution_count": 17,
     "metadata": {},
     "output_type": "execute_result"
    }
   ],
   "source": [
    "True == 1"
   ]
  },
  {
   "cell_type": "code",
   "execution_count": 18,
   "id": "49d7db21-3fc1-4fc1-b8d7-b7e699d38c3f",
   "metadata": {
    "slideshow": {
     "slide_type": "subslide"
    },
    "tags": []
   },
   "outputs": [
    {
     "name": "stderr",
     "output_type": "stream",
     "text": [
      "<>:1: SyntaxWarning: \"is\" with a literal. Did you mean \"==\"?\n",
      "<>:1: SyntaxWarning: \"is\" with a literal. Did you mean \"==\"?\n",
      "C:\\Users\\katja.verbeeck\\AppData\\Local\\Temp\\ipykernel_2768\\812578685.py:1: SyntaxWarning: \"is\" with a literal. Did you mean \"==\"?\n",
      "  True is 1\n"
     ]
    },
    {
     "data": {
      "text/plain": [
       "False"
      ]
     },
     "execution_count": 18,
     "metadata": {},
     "output_type": "execute_result"
    }
   ],
   "source": [
    "True is 1"
   ]
  },
  {
   "cell_type": "code",
   "execution_count": 19,
   "id": "2c590357-a7b2-43ee-9a5c-919d98d350b5",
   "metadata": {
    "slideshow": {
     "slide_type": "fragment"
    },
    "tags": []
   },
   "outputs": [
    {
     "name": "stderr",
     "output_type": "stream",
     "text": [
      "<>:1: SyntaxWarning: \"is\" with a literal. Did you mean \"==\"?\n",
      "<>:1: SyntaxWarning: \"is\" with a literal. Did you mean \"==\"?\n",
      "C:\\Users\\katja.verbeeck\\AppData\\Local\\Temp\\ipykernel_2768\\249076228.py:1: SyntaxWarning: \"is\" with a literal. Did you mean \"==\"?\n",
      "  False is 0\n"
     ]
    },
    {
     "data": {
      "text/plain": [
       "False"
      ]
     },
     "execution_count": 19,
     "metadata": {},
     "output_type": "execute_result"
    }
   ],
   "source": [
    "False is 0"
   ]
  },
  {
   "cell_type": "code",
   "execution_count": 43,
   "id": "2c3d0fcc-197d-418d-8947-0ef52a6c2725",
   "metadata": {
    "slideshow": {
     "slide_type": "subslide"
    },
    "tags": []
   },
   "outputs": [
    {
     "data": {
      "text/plain": [
       "5"
      ]
     },
     "execution_count": 43,
     "metadata": {},
     "output_type": "execute_result"
    }
   ],
   "source": [
    "True + 4"
   ]
  },
  {
   "cell_type": "code",
   "execution_count": 44,
   "id": "0c535af2-9a4d-4cc1-9dfa-d02f25600fe3",
   "metadata": {
    "slideshow": {
     "slide_type": "fragment"
    },
    "tags": []
   },
   "outputs": [
    {
     "data": {
      "text/plain": [
       "4"
      ]
     },
     "execution_count": 44,
     "metadata": {},
     "output_type": "execute_result"
    }
   ],
   "source": [
    "False + 4"
   ]
  },
  {
   "cell_type": "code",
   "execution_count": 45,
   "id": "4f93c6ae-d158-4311-84b7-3b66d930bec7",
   "metadata": {
    "slideshow": {
     "slide_type": "fragment"
    },
    "tags": []
   },
   "outputs": [
    {
     "data": {
      "text/plain": [
       "0"
      ]
     },
     "execution_count": 45,
     "metadata": {},
     "output_type": "execute_result"
    }
   ],
   "source": [
    "False ** 2"
   ]
  },
  {
   "cell_type": "code",
   "execution_count": 46,
   "id": "befdf5d4-875c-40c6-afda-29f9ae50f0bd",
   "metadata": {
    "slideshow": {
     "slide_type": "fragment"
    },
    "tags": []
   },
   "outputs": [
    {
     "data": {
      "text/plain": [
       "1"
      ]
     },
     "execution_count": 46,
     "metadata": {},
     "output_type": "execute_result"
    }
   ],
   "source": [
    "True ** False"
   ]
  },
  {
   "cell_type": "markdown",
   "id": "dc78f4f3-c347-4c03-bfc9-4b8d2a56db05",
   "metadata": {
    "slideshow": {
     "slide_type": "subslide"
    },
    "tags": []
   },
   "source": [
    "---\n",
    "**Meer zelfs: elk object in Python heeft een waarheidswaarde.**\n",
    "\n",
    "---"
   ]
  },
  {
   "cell_type": "code",
   "execution_count": 7,
   "id": "60277e8b-688c-4cfe-9c39-b59710e21927",
   "metadata": {
    "slideshow": {
     "slide_type": "fragment"
    },
    "tags": []
   },
   "outputs": [
    {
     "data": {
      "text/plain": [
       "True"
      ]
     },
     "execution_count": 7,
     "metadata": {},
     "output_type": "execute_result"
    }
   ],
   "source": [
    "bool(\"Hallo\")"
   ]
  },
  {
   "cell_type": "code",
   "execution_count": 8,
   "id": "89facebc-8385-435f-b979-55cde58b5e9c",
   "metadata": {
    "slideshow": {
     "slide_type": "fragment"
    },
    "tags": []
   },
   "outputs": [
    {
     "data": {
      "text/plain": [
       "True"
      ]
     },
     "execution_count": 8,
     "metadata": {},
     "output_type": "execute_result"
    }
   ],
   "source": [
    "bool(12.3)"
   ]
  },
  {
   "cell_type": "code",
   "execution_count": 9,
   "id": "71d38ad8-dcf4-4c66-b5b0-d92e755f12af",
   "metadata": {
    "slideshow": {
     "slide_type": "fragment"
    },
    "tags": []
   },
   "outputs": [
    {
     "data": {
      "text/plain": [
       "False"
      ]
     },
     "execution_count": 9,
     "metadata": {},
     "output_type": "execute_result"
    }
   ],
   "source": [
    "bool(\"\")"
   ]
  },
  {
   "cell_type": "code",
   "execution_count": 10,
   "id": "0c4bf55e-0ed2-4b86-9e6c-43c90803b8d0",
   "metadata": {
    "slideshow": {
     "slide_type": "fragment"
    },
    "tags": []
   },
   "outputs": [
    {
     "data": {
      "text/plain": [
       "False"
      ]
     },
     "execution_count": 10,
     "metadata": {},
     "output_type": "execute_result"
    }
   ],
   "source": [
    "bool(0)"
   ]
  },
  {
   "cell_type": "code",
   "execution_count": 11,
   "id": "f17b6017-b479-4ab0-8189-04b67727b8b2",
   "metadata": {
    "slideshow": {
     "slide_type": "fragment"
    },
    "tags": []
   },
   "outputs": [
    {
     "data": {
      "text/plain": [
       "False"
      ]
     },
     "execution_count": 11,
     "metadata": {},
     "output_type": "execute_result"
    }
   ],
   "source": [
    "bool(())"
   ]
  },
  {
   "cell_type": "code",
   "execution_count": 12,
   "id": "adcba4a3-c200-4d0c-9c5b-cc3871f4f0eb",
   "metadata": {
    "slideshow": {
     "slide_type": "subslide"
    },
    "tags": []
   },
   "outputs": [
    {
     "data": {
      "text/plain": [
       "False"
      ]
     },
     "execution_count": 12,
     "metadata": {},
     "output_type": "execute_result"
    }
   ],
   "source": [
    "bool([])"
   ]
  },
  {
   "cell_type": "code",
   "execution_count": 13,
   "id": "21d62278-1e87-4473-8ac9-ba40595a02de",
   "metadata": {
    "slideshow": {
     "slide_type": "fragment"
    },
    "tags": []
   },
   "outputs": [
    {
     "data": {
      "text/plain": [
       "False"
      ]
     },
     "execution_count": 13,
     "metadata": {},
     "output_type": "execute_result"
    }
   ],
   "source": [
    "bool(None)"
   ]
  },
  {
   "cell_type": "code",
   "execution_count": 14,
   "id": "ec057e2c-0cda-4942-b635-6a364f380689",
   "metadata": {
    "slideshow": {
     "slide_type": "fragment"
    },
    "tags": []
   },
   "outputs": [
    {
     "data": {
      "text/plain": [
       "True"
      ]
     },
     "execution_count": 14,
     "metadata": {},
     "output_type": "execute_result"
    }
   ],
   "source": [
    "bool([1, 2, 3])"
   ]
  },
  {
   "cell_type": "markdown",
   "id": "92ef2bef-b544-4004-a11e-b01159f4527d",
   "metadata": {
    "slideshow": {
     "slide_type": "fragment"
    },
    "tags": []
   },
   "source": [
    "M.a.w. alles wat niet expliciet leeg of nul is is True, dat maakt ook dat je de logische operatoren op elk object kan toepassen in Python."
   ]
  },
  {
   "cell_type": "code",
   "execution_count": 15,
   "id": "c205fecb-8e3a-4851-a27e-04848a7df779",
   "metadata": {
    "slideshow": {
     "slide_type": "subslide"
    },
    "tags": []
   },
   "outputs": [
    {
     "data": {
      "text/plain": [
       "4"
      ]
     },
     "execution_count": 15,
     "metadata": {},
     "output_type": "execute_result"
    }
   ],
   "source": [
    "3 and 4"
   ]
  },
  {
   "cell_type": "code",
   "execution_count": 16,
   "id": "53f791a6-f2f4-43ec-9f97-f497627b7291",
   "metadata": {
    "slideshow": {
     "slide_type": "fragment"
    },
    "tags": []
   },
   "outputs": [
    {
     "data": {
      "text/plain": [
       "3"
      ]
     },
     "execution_count": 16,
     "metadata": {},
     "output_type": "execute_result"
    }
   ],
   "source": [
    "3 or 4"
   ]
  },
  {
   "cell_type": "markdown",
   "id": "3e6141dc-d3a2-452d-ac22-3282cd404f10",
   "metadata": {
    "slideshow": {
     "slide_type": "fragment"
    },
    "tags": []
   },
   "source": [
    "---\n",
    "Merk op:\n",
    "\n",
    "Logische operatoren worden **LAZY** geëvalueerd.\n",
    "\n",
    "---"
   ]
  },
  {
   "cell_type": "markdown",
   "id": "4ae27129-cb0f-4fcb-97cc-14c4ea8da60a",
   "metadata": {
    "slideshow": {
     "slide_type": "subslide"
    },
    "tags": []
   },
   "source": [
    "---\n",
    "**Samengevat: Booleaanse operaties in Python:**\n",
    "\n",
    "- Booleans zijn numeriek; **True** heeft de waarde 1, **False** heeft de waarde 0\n",
    "- Alle objecten in Python hebben inherent een waarheidswaarde die je kan opvragen met de functie **<kbd> bool() </kbd>**\n",
    "- Elk niet-leeg of niet nul object is waar.\n",
    "- Lege datastructuren, getal $0$ of $0.0$ en **_None_** zijn onwaar.\n",
    "- Testen op gelijkheid en vergelijkingsoperatoren geven een boolean als resultaat.\n",
    "- Er is een verschil tussen testen op gelijke waarden ($==$) en testen op dezelfde identities of gelijke geheugenplaatsen ($is$ operator).\n",
    "- Caching van kleine strings en getallen zorgt ervoor dat niet steeds nieuwe objecten hoeven aangemaakt te worden.\n",
    "- Logische operatoren geven objecten terug (niet noodzakelijk **True** of **False**)\n",
    "- Logische operatoren worden **_lazy_** geëvalueerd\n",
    "\n",
    "---\n"
   ]
  },
  {
   "cell_type": "markdown",
   "id": "668c78e6-eb66-4643-8a2f-599e63f87edc",
   "metadata": {
    "slideshow": {
     "slide_type": "slide"
    },
    "tags": []
   },
   "source": [
    "### <center> **5. De ternaire operator**"
   ]
  },
  {
   "cell_type": "markdown",
   "id": "37227904-8c69-4dd2-bb7f-483eeb4cab6b",
   "metadata": {
    "slideshow": {
     "slide_type": "fragment"
    },
    "tags": []
   },
   "source": [
    "De ternaire operator is een operator die 3 argumenten neemt en gebaseerd is op logische expressies. \n",
    "\n",
    "De syntax is als volgt :\n",
    "\n",
    "---\n",
    "<center>\n",
    "    [TrueExpressie]  <b>if</b> [conditie] <b> else </b> [FalseExpressie]\n",
    "\n",
    "---"
   ]
  },
  {
   "cell_type": "markdown",
   "id": "f376cb16-cc08-4d54-b675-4bac01781868",
   "metadata": {
    "slideshow": {
     "slide_type": "fragment"
    },
    "tags": []
   },
   "source": [
    "   \n",
    "waarbij:\n",
    "- [conditie] een expressie is, die evalueert naar _True_ of _False_\n",
    "- [TrueExpressie] een expressie is, die uitgevoerd wordt als de conditie naar _True_ evalueert\n",
    "- [FalseExpressie] een expressie is, die uitgevoerd wordt als de conditie naar _False_ evalueert"
   ]
  },
  {
   "cell_type": "code",
   "execution_count": 47,
   "id": "8bc2ae0f-9a48-44b6-8cb5-37a4719d0c4d",
   "metadata": {
    "slideshow": {
     "slide_type": "subslide"
    },
    "tags": []
   },
   "outputs": [
    {
     "data": {
      "text/plain": [
       "7"
      ]
     },
     "execution_count": 47,
     "metadata": {},
     "output_type": "execute_result"
    }
   ],
   "source": [
    "maximum = 7 if 7 > 3 else 3\n",
    "maximum"
   ]
  },
  {
   "cell_type": "markdown",
   "id": "ba8227b8-aa40-4746-a234-cbdf25db626c",
   "metadata": {
    "slideshow": {
     "slide_type": "fragment"
    },
    "tags": []
   },
   "source": [
    "Net zoals _and_ en _or_ wordt de ternaire operator op een lazy manier afgehandeld:"
   ]
  },
  {
   "cell_type": "code",
   "execution_count": 49,
   "id": "e983975b-0d73-4d50-9068-0ac1d546ac4b",
   "metadata": {
    "slideshow": {
     "slide_type": "fragment"
    },
    "tags": []
   },
   "outputs": [
    {
     "data": {
      "text/plain": [
       "'hallo'"
      ]
     },
     "execution_count": 49,
     "metadata": {},
     "output_type": "execute_result"
    }
   ],
   "source": [
    "nonsens = \"hallo\" if True else 7 / 0\n",
    "nonsens"
   ]
  },
  {
   "cell_type": "code",
   "execution_count": 50,
   "id": "7eff332f-f50f-48b0-be0f-8cdd76e219d0",
   "metadata": {
    "slideshow": {
     "slide_type": "fragment"
    },
    "tags": []
   },
   "outputs": [
    {
     "data": {
      "text/plain": [
       "'t'"
      ]
     },
     "execution_count": 50,
     "metadata": {},
     "output_type": "execute_result"
    }
   ],
   "source": [
    "letter = 't' if 'spam' else 'f'\n",
    "letter"
   ]
  },
  {
   "cell_type": "code",
   "execution_count": 51,
   "id": "f2b35f35-a4fe-4fdc-bf5d-c3d51e4157a5",
   "metadata": {
    "slideshow": {
     "slide_type": "fragment"
    },
    "tags": []
   },
   "outputs": [
    {
     "data": {
      "text/plain": [
       "'f'"
      ]
     },
     "execution_count": 51,
     "metadata": {},
     "output_type": "execute_result"
    }
   ],
   "source": [
    "letter = 't' if '' else 'f'\n",
    "letter"
   ]
  },
  {
   "cell_type": "markdown",
   "id": "8d08d12c-1a30-4b99-924d-e46b5c201842",
   "metadata": {
    "slideshow": {
     "slide_type": "subslide"
    },
    "tags": []
   },
   "source": [
    "Via de ternaire operator kan je 1 van de twee expressies selecteren om uit te voeren. Het is dan ook een compacte vorm van een if-test (meer hierover later). \n",
    "\n",
    "Maar logisch gezien is de ternaire operator equivalent met :\n",
    "\n",
    "---\n",
    "\n",
    "<center> ([conditie] <b>and</b> [TrueExpressie]) <b>or</b> [FalseExpressie]\n",
    "    \n",
    "---"
   ]
  },
  {
   "cell_type": "code",
   "execution_count": 53,
   "id": "9c252e8c-3ed5-4212-92fc-42f3ea6350fb",
   "metadata": {
    "slideshow": {
     "slide_type": "fragment"
    },
    "tags": []
   },
   "outputs": [
    {
     "data": {
      "text/plain": [
       "'f'"
      ]
     },
     "execution_count": 53,
     "metadata": {},
     "output_type": "execute_result"
    }
   ],
   "source": [
    "('' and 't') or 'f'"
   ]
  },
  {
   "cell_type": "code",
   "execution_count": 55,
   "id": "31295876-fda0-4b49-87b4-54a9d8957c8d",
   "metadata": {
    "slideshow": {
     "slide_type": "fragment"
    },
    "tags": []
   },
   "outputs": [
    {
     "data": {
      "text/plain": [
       "'t'"
      ]
     },
     "execution_count": 55,
     "metadata": {},
     "output_type": "execute_result"
    }
   ],
   "source": [
    "('spam' and't') or 'f'"
   ]
  },
  {
   "cell_type": "code",
   "execution_count": 57,
   "id": "efeb3e8b-a140-4963-840e-6a6919cc7488",
   "metadata": {
    "slideshow": {
     "slide_type": "fragment"
    },
    "tags": []
   },
   "outputs": [
    {
     "data": {
      "text/plain": [
       "'hallo'"
      ]
     },
     "execution_count": 57,
     "metadata": {},
     "output_type": "execute_result"
    }
   ],
   "source": [
    "(True and \"hallo\") or (7 /0 )"
   ]
  },
  {
   "cell_type": "code",
   "execution_count": 58,
   "id": "f2221127-89b1-493f-a1ab-9a0b2cc3f34d",
   "metadata": {
    "slideshow": {
     "slide_type": "fragment"
    },
    "tags": []
   },
   "outputs": [
    {
     "data": {
      "text/plain": [
       "7"
      ]
     },
     "execution_count": 58,
     "metadata": {},
     "output_type": "execute_result"
    }
   ],
   "source": [
    "((7 > 3) and 7) or 3"
   ]
  },
  {
   "cell_type": "markdown",
   "id": "9c214bda-0884-4966-a47e-9ca293e04217",
   "metadata": {
    "slideshow": {
     "slide_type": "slide"
    },
    "tags": []
   },
   "source": [
    "### <center> **Extra materiaal**"
   ]
  },
  {
   "cell_type": "markdown",
   "id": "7add1601-edf4-4855-b5d8-b8b34d690bb4",
   "metadata": {
    "slideshow": {
     "slide_type": "fragment"
    },
    "tags": []
   },
   "source": [
    "- [Logical Operators](https://realpython.com/python-operators-expressions/#logical-operators)\n"
   ]
  }
 ],
 "metadata": {
  "kernelspec": {
   "display_name": "Python 3 (ipykernel)",
   "language": "python",
   "name": "python3"
  },
  "language_info": {
   "codemirror_mode": {
    "name": "ipython",
    "version": 3
   },
   "file_extension": ".py",
   "mimetype": "text/x-python",
   "name": "python",
   "nbconvert_exporter": "python",
   "pygments_lexer": "ipython3",
   "version": "3.11.7"
  }
 },
 "nbformat": 4,
 "nbformat_minor": 5
}
