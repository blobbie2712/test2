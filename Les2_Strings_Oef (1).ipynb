{
 "cells": [
  {
   "cell_type": "markdown",
   "id": "qZYTFrnGtxPv",
   "metadata": {
    "id": "qZYTFrnGtxPv"
   },
   "source": [
    "### <center> ![logo_nieuw.jpg](data:image/jpeg;base64,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)\n",
    "\n",
    "## <center> **Opgaven Programming Fundamentals**\n",
    "### <center> **Prof. Bachelor ELO-ICT - Academiejaar 2023 - 2024**\n",
    "### <center> ![OIP.jpg](data:image/jpeg;base64,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)\n",
    "    "
   ]
  },
  {
   "cell_type": "markdown",
   "id": "dfb92fd0",
   "metadata": {
    "id": "dfb92fd0"
   },
   "source": [
    "# <center>  Les 2: Strings\n",
    "\n"
   ]
  },
  {
   "cell_type": "markdown",
   "id": "09a4f85f",
   "metadata": {
    "id": "09a4f85f"
   },
   "source": [
    "### Oefening 1\n",
    "Enkele korte oefeningen, print telkens het resultaat uit:\n",
    "\n",
    "1. Maak twee verschillende variabelen aan met respectievelijk de waarden \"tic\" en \"tac\". Concateneer beide tot één string, maar voorzie zie een spatie tussen beide woorden.\n",
    "2. Plak 3 puntjes achteraan het resultaat.\n",
    "3. Plak de bekomen string nu 10 keer aan elkaar.\n"
   ]
  },
  {
   "cell_type": "code",
   "execution_count": null,
   "id": "zQYCPFBU7gCw",
   "metadata": {
    "id": "zQYCPFBU7gCw"
   },
   "outputs": [],
   "source": []
  },
  {
   "cell_type": "markdown",
   "id": "ebcf6f4e",
   "metadata": {
    "id": "ebcf6f4e"
   },
   "source": [
    "### Oefening 2\n",
    "1. Maak een string aan die de zin \"Dit is een voorbeeldzin.\" bevat en wijs deze toe aan een variabele. Print daarna deze variabele.\n",
    "2. Vind en print de lengte van de vorige zin.\n",
    "3. Gebruik slicing om de substring \"s een voo\" van deze zin te extraheren. Print het resultaat ter controle.\n",
    "4. Maak de nieuwe zin \"Dit is een nieuwe zin\" door enkele woorden van de oorspronkelijke zin te vervangen. Doe dit op 2 verschillende manieren."
   ]
  },
  {
   "cell_type": "code",
   "execution_count": null,
   "id": "ifGramWR7kwf",
   "metadata": {
    "id": "ifGramWR7kwf"
   },
   "outputs": [],
   "source": []
  },
  {
   "cell_type": "markdown",
   "id": "d40d4b51",
   "metadata": {
    "id": "d40d4b51"
   },
   "source": [
    "### Oefening 3\n",
    "\n",
    "1. Zet de zin \"Python is een populaire programmeertaal.\" om in hoofdletters en print het resultaat.\n",
    "2. Zet nu dezelfde zin opnieuw om in kleine letters en print het resultaat.\n",
    "3. Zorg ervoor dat alleen de eerste letter van de zin omgezet wordt naar een hoofdletter. (doe dit op 2 verschillende manieren)"
   ]
  },
  {
   "cell_type": "code",
   "execution_count": null,
   "id": "8HCUnc8J7n7X",
   "metadata": {
    "id": "8HCUnc8J7n7X"
   },
   "outputs": [],
   "source": []
  },
  {
   "cell_type": "markdown",
   "id": "xsmZMuQ86tQi",
   "metadata": {
    "id": "xsmZMuQ86tQi"
   },
   "source": [
    "### Oefening 4\n",
    "\n",
    "Gegeven volgende multiline string:\n",
    "```\n",
    "Python wordt geleverd met een uitgebreide bibliotheek\n",
    "om van alles en nog wat standaard te kunnen bewerken.\n",
    "Het is erg eenvoudig om in Python herbruikbare code te schrijven.\n",
    "```\n",
    "\n",
    "- sla multiline string op in 1 variabele en print deze exact zo uit (met behoud van de newlines).\n",
    "- Vervang vervolgens het woord \"Python\" door het woord \"Java\""
   ]
  },
  {
   "cell_type": "code",
   "execution_count": null,
   "id": "6ZvobaKv7rCP",
   "metadata": {
    "id": "6ZvobaKv7rCP"
   },
   "outputs": [],
   "source": []
  },
  {
   "cell_type": "markdown",
   "id": "vFbpf-pl-mY5",
   "metadata": {
    "id": "vFbpf-pl-mY5"
   },
   "source": [
    "### Oefening 5\n",
    "\n",
    "Gegegeven het karakter '@'. Sla deze op in een variabele. Print  nu zowel de karakterwaarde als de numerieke waarde van deze variabele naar het scherm. Doe dit via een Python instructie.\n",
    "\n",
    "Output:\n",
    "```\n",
    "Dit is het karakter: @\n",
    "De numerieke waarde ervan is: 64\n",
    "```\n"
   ]
  },
  {
   "cell_type": "code",
   "execution_count": null,
   "id": "8FuobgH-7yZk",
   "metadata": {
    "id": "8FuobgH-7yZk"
   },
   "outputs": [],
   "source": []
  },
  {
   "cell_type": "markdown",
   "id": "afoiy4PU_dKp",
   "metadata": {
    "id": "afoiy4PU_dKp"
   },
   "source": [
    "### Oefening 6\n",
    "\n",
    "Schrijf een programma dat volgende zin op het scherm uitprint :\n",
    "```\n",
    "De decimale waarde van het € symbool = 8364\n",
    "```\n",
    "Zoek zelf eerst de UTF code-point (hexadecimale waarde) van het eurosymbool en zet deze dan via code om naar de juiste decimale waarde."
   ]
  },
  {
   "cell_type": "code",
   "execution_count": null,
   "id": "ek-VT9xB700T",
   "metadata": {
    "id": "ek-VT9xB700T"
   },
   "outputs": [],
   "source": []
  },
  {
   "cell_type": "markdown",
   "id": "ysUxAfnuDmz4",
   "metadata": {
    "id": "ysUxAfnuDmz4"
   },
   "source": [
    "### Oefening 7\n",
    "\n",
    "Zoek uit welk karakter overeenkomt met het getal: 8595. Doe dit via een Python instructie."
   ]
  },
  {
   "cell_type": "code",
   "execution_count": null,
   "id": "66S0w0g873Jb",
   "metadata": {
    "id": "66S0w0g873Jb"
   },
   "outputs": [],
   "source": []
  },
  {
   "cell_type": "markdown",
   "id": "6de30489",
   "metadata": {
    "id": "6de30489"
   },
   "source": [
    "### Oefening 8\n",
    "\n",
    "Gebruik escape characters om volgende string te creëren met slechts 1 instructie:\n",
    "\n",
    "```\n",
    "Deze tekst staat \"tussen dubbele quotes\",\n",
    "deze ’tussen enkele quotes’\n",
    "en die \\tussen back slashes\\\n",
    "```\n",
    "Print deze uit."
   ]
  },
  {
   "cell_type": "code",
   "execution_count": null,
   "id": "mbfeed5I75S2",
   "metadata": {
    "id": "mbfeed5I75S2"
   },
   "outputs": [],
   "source": []
  },
  {
   "cell_type": "markdown",
   "id": "IgLRouqDeJ4o",
   "metadata": {
    "id": "IgLRouqDeJ4o"
   },
   "source": [
    "### Oefening 9\n",
    "Ga na hoe je de string \"Sí Señor\" kan aanmaken in Python."
   ]
  },
  {
   "cell_type": "code",
   "execution_count": null,
   "id": "ZaHWbmEf77qm",
   "metadata": {
    "id": "ZaHWbmEf77qm"
   },
   "outputs": [],
   "source": []
  },
  {
   "cell_type": "markdown",
   "id": "dbda973c",
   "metadata": {
    "id": "dbda973c"
   },
   "source": [
    "### Oefening 10\n",
    "\n",
    "Vertrek telkens van de string \"Python Programmeren\" om volgende strings hieruit te extraheren via uitsluitend **slicing** operaties:\n",
    "\n",
    "- \"Python\"\n",
    "- \"Pto rgamrn\"\n",
    "- \"remmargo\""
   ]
  },
  {
   "cell_type": "code",
   "execution_count": null,
   "id": "LvAbQ5he79uu",
   "metadata": {
    "id": "LvAbQ5he79uu"
   },
   "outputs": [],
   "source": []
  },
  {
   "cell_type": "markdown",
   "id": "457a0a2e",
   "metadata": {
    "id": "457a0a2e"
   },
   "source": [
    "### Oefening 11\n",
    "\n",
    "Verwijder via de gepaste methode witruimte vooraan of achteraan van volgende zinnen:\n",
    "```\n",
    "zin1: \"Een herfstslaatje om mee te starten.     \"\n",
    "zin2:  \"    dan ... biefstuk met frietjes!\"\n",
    "zin3: \"   Tot slot, een lekker dessert, hmmm    \"\n",
    "```"
   ]
  },
  {
   "cell_type": "code",
   "execution_count": null,
   "id": "ltjDsH8O8ASW",
   "metadata": {
    "id": "ltjDsH8O8ASW"
   },
   "outputs": [],
   "source": []
  },
  {
   "cell_type": "markdown",
   "id": "7c11403d",
   "metadata": {
    "id": "7c11403d"
   },
   "source": [
    "### Oefening 12\n",
    "\n",
    "Gegegeven onderstaande zinnen. Controleer telkens of deze starten met de substring \"Be\". Indien niet, manipuleer de zin (via code) opdat dit toch het geval zou zijn:\n",
    "```\n",
    "zin1: \"België is een Europees land.\"\n",
    "zin2: \"bewaren is slim gezien.\"\n",
    "zin3: \"BE AWARE OF THE DANGER\"\n",
    "zin4: \"   bEautiful people ...\"\n",
    "```"
   ]
  },
  {
   "cell_type": "code",
   "execution_count": null,
   "id": "AQQvamx88CP3",
   "metadata": {
    "id": "AQQvamx88CP3"
   },
   "outputs": [],
   "source": []
  },
  {
   "cell_type": "markdown",
   "id": "a0c287d8",
   "metadata": {
    "id": "a0c287d8"
   },
   "source": [
    "### Oefening 13\n",
    "\n",
    "Zoek het eerste en het laatste woord uit de zin \"Het eerste en het laatste woord\". Doe via:\n",
    "- indexing en slicing\n",
    "- het gebruik van de methode _find()_"
   ]
  },
  {
   "cell_type": "code",
   "execution_count": null,
   "id": "13tMlU778EWI",
   "metadata": {
    "id": "13tMlU778EWI"
   },
   "outputs": [],
   "source": []
  },
  {
   "cell_type": "markdown",
   "id": "53d65baf",
   "metadata": {
    "id": "53d65baf"
   },
   "source": [
    "### Oefening 14\n",
    "\n",
    "Tel het aantal voorkomens van karakter 'e' in de zin: \"Etterige etters etteren elk etmaal eenmaal.\"."
   ]
  },
  {
   "cell_type": "code",
   "execution_count": null,
   "id": "3aKNIbbB8Gxo",
   "metadata": {
    "id": "3aKNIbbB8Gxo"
   },
   "outputs": [],
   "source": []
  },
  {
   "cell_type": "markdown",
   "id": "c1937277",
   "metadata": {
    "id": "c1937277"
   },
   "source": [
    "### Oefening 15\n",
    "\n",
    "Gebruik de `find()` methode om de index van het woord 'Python' in de string 'Welcome to Python programming.' te vinden. Print het resultaat."
   ]
  },
  {
   "cell_type": "code",
   "execution_count": null,
   "id": "STn4829y8TO_",
   "metadata": {
    "id": "STn4829y8TO_"
   },
   "outputs": [],
   "source": []
  },
  {
   "cell_type": "markdown",
   "id": "3961de87-9886-4076-9792-257820070025",
   "metadata": {
    "id": "3961de87-9886-4076-9792-257820070025"
   },
   "source": [
    "### Oefening 16\n",
    "\n",
    "Gegeven de string \"Python Programmeren\", gebruik string operaties om de string \"PyThOn PROGRAMMEREN\" te bekomen."
   ]
  },
  {
   "cell_type": "code",
   "execution_count": null,
   "id": "c845275e-42d6-4156-acce-0867c1b32735",
   "metadata": {
    "id": "c845275e-42d6-4156-acce-0867c1b32735"
   },
   "outputs": [],
   "source": []
  }
 ],
 "metadata": {
  "colab": {
   "provenance": []
  },
  "kernelspec": {
   "display_name": "Python 3 (ipykernel)",
   "language": "python",
   "name": "python3"
  },
  "language_info": {
   "codemirror_mode": {
    "name": "ipython",
    "version": 3
   },
   "file_extension": ".py",
   "mimetype": "text/x-python",
   "name": "python",
   "nbconvert_exporter": "python",
   "pygments_lexer": "ipython3",
   "version": "3.10.9"
  }
 },
 "nbformat": 4,
 "nbformat_minor": 5
}
