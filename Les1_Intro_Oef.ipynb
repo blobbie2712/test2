{
 "cells": [
  {
   "cell_type": "markdown",
   "id": "72a07c1f-8f20-4199-9b81-ba024fc0665c",
   "metadata": {
    "id": "72a07c1f-8f20-4199-9b81-ba024fc0665c"
   },
   "source": [
    "### <center> ![logo_nieuw.jpg](data:image/jpeg;base64,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)\n",
    "\n",
    "## <center> **Opgaven Programming Fundamentals**\n",
    "### <center> **Prof. Bachelor ELO-ICT - Academiejaar 2023 - 2024**\n",
    "### <center> ![OIP.jpg](data:image/jpeg;base64,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)\n",
    "    "
   ]
  },
  {
   "cell_type": "markdown",
   "id": "c40309e4",
   "metadata": {
    "id": "c40309e4"
   },
   "source": [
    "# <center> Les 1: Intro"
   ]
  },
  {
   "cell_type": "markdown",
   "id": "83f93461-2bb3-4607-a821-155ec250fc8d",
   "metadata": {
    "id": "83f93461-2bb3-4607-a821-155ec250fc8d"
   },
   "source": [
    "### Richtlijnen\n",
    "Vooraleer te starten met het programmeren in Python moet je eerst je ontwikkelomgeving goed instellen. De volgende stappen zal je moeten doornemen:\n",
    "- [Installeer de Python interpreter](https://www.python.org/downloads/)\n",
    "- [Installeer de IDE VS Code](https://code.visualstudio.com/)\n",
    "- [Installeer extensies in VS Code om Python te kunnen gebruiken in VS Code](https://marketplace.visualstudio.com/items?itemName=ms-python.python)\n",
    "- [Installeer extensies in VS Code om Jupyter Notebooks te activeren in VS Code](https://code.visualstudio.com/docs/datascience/jupyter-notebooks)\n",
    "\n",
    "\n",
    "In de eerste oefeningensessies zullen we korte programmeeroefeningen opgeven. Deze kan je rechtstreeks aanvullen in de notebook zelf.\n",
    "\n",
    "Maak een folder op je systeem, waaronder je al je Python oefeningen kan bewaren. Maak deze folder je workspace in VS Code."
   ]
  },
  {
   "cell_type": "markdown",
   "id": "2c173843",
   "metadata": {
    "id": "2c173843",
    "tags": []
   },
   "source": [
    "### Oefening 1\n",
    "Print volgende tekst naar het scherm:\n",
    "\n",
    "> Academiejaar 2024-2025:\n",
    "\n",
    "> Welkom ELO-ICT!\n"
   ]
  },
  {
   "cell_type": "code",
   "execution_count": 1,
   "id": "3f84ede4",
   "metadata": {},
   "outputs": [
    {
     "name": "stdout",
     "output_type": "stream",
     "text": [
      "Academiejaar 2024-2025:\n",
      "Welkom ELO-ICT!\n"
     ]
    }
   ],
   "source": [
    "print(\"Academiejaar 2024-2025:\")\n",
    "print(\"Welkom ELO-ICT!\")"
   ]
  },
  {
   "cell_type": "markdown",
   "id": "f407057b",
   "metadata": {},
   "source": []
  },
  {
   "cell_type": "markdown",
   "id": "30a4974d",
   "metadata": {
    "id": "30a4974d"
   },
   "source": [
    "### Oefening 2\n",
    "Creëer een variabele genaamd `greeting` met de waarde 'Hola Mundo!' en print de waarde van deze variabele."
   ]
  },
  {
   "cell_type": "code",
   "execution_count": 3,
   "id": "JaayhSGp6ik0",
   "metadata": {
    "id": "JaayhSGp6ik0"
   },
   "outputs": [
    {
     "name": "stdout",
     "output_type": "stream",
     "text": [
      "Hola Mundo!\n"
     ]
    }
   ],
   "source": [
    "greeting = \"Hola Mundo!\"\n",
    "print(greeting)"
   ]
  },
  {
   "cell_type": "markdown",
   "id": "c32c9def-e103-4f9e-b079-00df3e3807bd",
   "metadata": {
    "id": "c32c9def-e103-4f9e-b079-00df3e3807bd"
   },
   "source": [
    "### Oefening 3\n",
    "\n",
    "Welke van de onderstaande variabelenamen zijn toegelaten in Python? Bij variabelenamen die niet\n",
    "geldig zijn, geef de reden(en).\n",
    "- xyz\n",
    "- Variabele\n",
    "- 2good2go (door het cijfer die voor het woord staat krijg je de error code SyntaxError: invalid decimal literal)\n",
    "- een_zeer_lange_variabele_naam\n",
    "- _nog_een_zeer_lange_variabele_naam (je krijgt de NameError name is not defined)\n",
    "- toBeContinued\n",
    "- #ELO/ICT (je krijgt de fout code incomplete input)\n",
    "\n",
    "Controleer je antwoord door elk van de variabelen aan te maken en er een waarde aan toe te kennen."
   ]
  },
  {
   "cell_type": "code",
   "execution_count": 23,
   "id": "TUBgvOr36lrd",
   "metadata": {
    "id": "TUBgvOr36lrd"
   },
   "outputs": [
    {
     "name": "stdout",
     "output_type": "stream",
     "text": [
      "3\n",
      "4\n",
      "6\n"
     ]
    },
    {
     "ename": "NameError",
     "evalue": "name '_nog_een_zeer_lange_variable_naam' is not defined",
     "output_type": "error",
     "traceback": [
      "\u001b[1;31m---------------------------------------------------------------------------\u001b[0m",
      "\u001b[1;31mNameError\u001b[0m                                 Traceback (most recent call last)",
      "Cell \u001b[1;32mIn[23], line 12\u001b[0m\n\u001b[0;32m      9\u001b[0m \u001b[38;5;28mprint\u001b[39m(Variable)\n\u001b[0;32m     11\u001b[0m \u001b[38;5;28mprint\u001b[39m(een_zeer_lange_variabele_naam)\n\u001b[1;32m---> 12\u001b[0m \u001b[38;5;28mprint\u001b[39m(\u001b[43m_nog_een_zeer_lange_variable_naam\u001b[49m)\n\u001b[0;32m     13\u001b[0m \u001b[38;5;28mprint\u001b[39m(toBeContinued)\n",
      "\u001b[1;31mNameError\u001b[0m: name '_nog_een_zeer_lange_variable_naam' is not defined"
     ]
    }
   ],
   "source": [
    "xyz = \"3\"\n",
    "Variable = \"4\"\n",
    "\n",
    "een_zeer_lange_variabele_naam =\"6\"\n",
    "_nog_een_zeer_lange_variabele_naam = \"7\"\n",
    "toBeContinued = \"8\"\n",
    "#ELO/ICT = \"9\"\n",
    "print(xyz)\n",
    "print(Variable)\n",
    "print(2good2go)\n",
    "print(een_zeer_lange_variabele_naam)\n",
    "print(_nog_een_zeer_lange_variable_naam)\n",
    "print(toBeContinued)\n",
    "print(#ELO/ICT)\n"
   ]
  },
  {
   "cell_type": "markdown",
   "id": "88aacf59",
   "metadata": {
    "id": "88aacf59"
   },
   "source": [
    "### Oefening 4\n",
    "Los onderstaande oefeningen op, stop het resultaat in een variabele en print uit.\n",
    " - Bereken de som van 15 en 23.\n",
    " - Concateneer de volgende twee strings: 'Programming' en ' Fundamentals'.\n",
    " - Bereken: $4^{12}$\n",
    " - Bereken de rest wanneer je 17 deelt door 5\n",
    " - Maak een variabele om je voornaam in te bewaren, maak teven een variabele voor je achternaam. Plak beide aan elkaar."
   ]
  },
  {
   "cell_type": "code",
   "execution_count": 24,
   "id": "u2tH9e-Y6sel",
   "metadata": {
    "id": "u2tH9e-Y6sel"
   },
   "outputs": [
    {
     "name": "stdout",
     "output_type": "stream",
     "text": [
      "38\n"
     ]
    }
   ],
   "source": [
    "berekening = 15 + 23\n",
    "print((berekening))"
   ]
  },
  {
   "cell_type": "code",
   "execution_count": 29,
   "id": "rX-0L6156sXF",
   "metadata": {
    "id": "rX-0L6156sXF"
   },
   "outputs": [
    {
     "name": "stdout",
     "output_type": "stream",
     "text": [
      "Programming Fundamentals\n"
     ]
    }
   ],
   "source": [
    "programming = \"Programming\"\n",
    "fundamentals = \"Fundamentals\"\n",
    "print(programming + \" \" + fundamentals)"
   ]
  },
  {
   "cell_type": "code",
   "execution_count": 31,
   "id": "Q9IlwCD96sOl",
   "metadata": {
    "id": "Q9IlwCD96sOl"
   },
   "outputs": [
    {
     "data": {
      "text/plain": [
       "16777216"
      ]
     },
     "execution_count": 31,
     "metadata": {},
     "output_type": "execute_result"
    }
   ],
   "source": [
    "4**12 "
   ]
  },
  {
   "cell_type": "code",
   "execution_count": 35,
   "id": "EoPJhHsB6sE_",
   "metadata": {
    "id": "EoPJhHsB6sE_"
   },
   "outputs": [
    {
     "name": "stdout",
     "output_type": "stream",
     "text": [
      "2\n"
     ]
    }
   ],
   "source": [
    "a = 17\n",
    "b = 5\n",
    "print(a%b)"
   ]
  },
  {
   "cell_type": "code",
   "execution_count": 36,
   "id": "AAnSXmb56r2V",
   "metadata": {
    "id": "AAnSXmb56r2V"
   },
   "outputs": [
    {
     "name": "stdout",
     "output_type": "stream",
     "text": [
      "ThibautVernaeve\n"
     ]
    }
   ],
   "source": [
    "voornaam = \"Thibaut\"\n",
    "achternaam = \"Vernaeve\"\n",
    "print(voornaam + achternaam)"
   ]
  },
  {
   "cell_type": "markdown",
   "id": "fbafa30e-b688-4362-b817-58b9fa900523",
   "metadata": {
    "id": "fbafa30e-b688-4362-b817-58b9fa900523"
   },
   "source": [
    "### Oefening 5\n",
    "Schrijf een programma dat het volgende op het scherm doet verschijnen:\n",
    "````\n",
    "---------------------------------------\n",
    "WARNING\n",
    "Possible virus detected\n",
    "Reboot and run virus remover software\n",
    "---------------------------------------\n",
    "````"
   ]
  },
  {
   "cell_type": "code",
   "execution_count": 40,
   "id": "XJtitmo16w6-",
   "metadata": {
    "id": "XJtitmo16w6-"
   },
   "outputs": [
    {
     "name": "stdout",
     "output_type": "stream",
     "text": [
      "---------------------------------------\n",
      "WARNING\n",
      "Possible virus detected\n",
      "Reboot and run virus remover software\n",
      "--------------------------------------\n"
     ]
    }
   ],
   "source": [
    "print(\"---------------------------------------\\nWARNING\\nPossible virus detected\\nReboot and run virus remover software\\n--------------------------------------\")"
   ]
  },
  {
   "cell_type": "markdown",
   "id": "2945e9b2-9ea0-42f0-a267-dc0d7a111223",
   "metadata": {
    "id": "2945e9b2-9ea0-42f0-a267-dc0d7a111223"
   },
   "source": [
    "### Oefening 6\n",
    "\n",
    "Schrijf een programma dat het volgende op het scherm drukt:"
   ]
  },
  {
   "cell_type": "markdown",
   "id": "4fcee5b8-b869-4e4a-b252-8f368aea059e",
   "metadata": {
    "id": "4fcee5b8-b869-4e4a-b252-8f368aea059e"
   },
   "source": [
    "````\n",
    "*\n",
    "**\n",
    "***\n",
    "****\n",
    "````"
   ]
  },
  {
   "cell_type": "code",
   "execution_count": 41,
   "id": "bFEY-NWJ605Q",
   "metadata": {
    "id": "bFEY-NWJ605Q"
   },
   "outputs": [
    {
     "name": "stdout",
     "output_type": "stream",
     "text": [
      "*\n",
      "**\n",
      "***\n",
      "****\n"
     ]
    }
   ],
   "source": [
    "print(\"*\\n**\\n***\\n****\")"
   ]
  },
  {
   "cell_type": "markdown",
   "id": "z6PZ8b6BhzXU",
   "metadata": {
    "id": "z6PZ8b6BhzXU"
   },
   "source": [
    "### Oefening 7\n",
    "Schrijf een programma dat een datum kan afprinten in volgende vorm :  \n",
    "dag - maand - jaar.\n",
    "\n",
    "Gebruik hierbij 3 variabelen om respectievelijkde dag, maand en jaar bij te houden.  Op het scherm verschijnt bijvoorbeeld :\n",
    "\n",
    "De opgegeven datum is : 01 - 09 - 2024"
   ]
  },
  {
   "cell_type": "code",
   "execution_count": 51,
   "id": "a8y7RRtZ63b3",
   "metadata": {
    "id": "a8y7RRtZ63b3"
   },
   "outputs": [
    {
     "name": "stdout",
     "output_type": "stream",
     "text": [
      "de opgegeven datum is: 01-09-2024\n"
     ]
    }
   ],
   "source": [
    "dag = \"01\"\n",
    "maand = \"09\"\n",
    "jaar = \"2024\"\n",
    "print( \"de opgegeven datum is:\"+ \" \" +  dag + \"-\" + maand + \"-\" + jaar)"
   ]
  },
  {
   "cell_type": "markdown",
   "id": "794caacb-7747-4ad6-96dc-93852b4fe786",
   "metadata": {
    "id": "794caacb-7747-4ad6-96dc-93852b4fe786"
   },
   "source": [
    "### Oefening 8\n",
    "\n",
    "Ga na wat de gegevenstypes zijn van onderstaande Python objecten. Tijdens de komende lessen gaan we deze in meer detail bespreken.\n",
    "\n",
    "- 42\n",
    "- 42.0\n",
    "- 5 + 8j\n",
    "- ()\n",
    "- []\n",
    "- '#'\n",
    "- \"12345\"\n",
    "- \" \"\n",
    "- \"\"\n",
    "- (5.332, 'z')\n",
    "- [\"een\",\"vreemde\",\"zin\"]\n",
    "- {\"Belgium\":11144420, \"Netherlands\":16802463, \"Luxembourg\": 536761}\n",
    "- True\n",
    "- False"
   ]
  },
  {
   "cell_type": "code",
   "execution_count": null,
   "id": "Lu8hJ5MJ65zw",
   "metadata": {
    "id": "Lu8hJ5MJ65zw"
   },
   "outputs": [],
   "source": []
  },
  {
   "cell_type": "markdown",
   "id": "29bc67ac-a38a-4642-8e7e-cc1146bb3fa8",
   "metadata": {
    "id": "29bc67ac-a38a-4642-8e7e-cc1146bb3fa8"
   },
   "source": [
    "### Oefening 9\n",
    "\n",
    "Maak 2 variabelen aan:\n",
    "- ken aan beide een willekeurig geheel getal toe. Pas alle rekenkundige operaties op ze toe en print telkens het resultaat naar het scherm.\n",
    "- ken aan beide een willekeurig reëel getal toe.  Pas alle rekenkundige operaties op ze toe en print telkens het resultaat naar het scherm."
   ]
  },
  {
   "cell_type": "code",
   "execution_count": null,
   "id": "JcAEYR93697X",
   "metadata": {
    "id": "JcAEYR93697X"
   },
   "outputs": [],
   "source": [
    "a = 2"
   ]
  },
  {
   "cell_type": "markdown",
   "id": "a679ffb1-1aad-42e5-8b0a-72299cdb71d0",
   "metadata": {
    "id": "a679ffb1-1aad-42e5-8b0a-72299cdb71d0"
   },
   "source": [
    "### Oefening 10\n",
    "\n",
    "Bedenk zelf een programma met een syntax error en een programma met een runtime error. Geef telkens aan waar de fout zit."
   ]
  },
  {
   "cell_type": "code",
   "execution_count": 77,
   "id": "bdfdd09d-5af3-4663-93e1-e5eefbb90547",
   "metadata": {
    "id": "bdfdd09d-5af3-4663-93e1-e5eefbb90547"
   },
   "outputs": [
    {
     "ename": "NameError",
     "evalue": "name 'hello' is not defined",
     "output_type": "error",
     "traceback": [
      "\u001b[1;31m---------------------------------------------------------------------------\u001b[0m",
      "\u001b[1;31mNameError\u001b[0m                                 Traceback (most recent call last)",
      "Cell \u001b[1;32mIn[77], line 1\u001b[0m\n\u001b[1;32m----> 1\u001b[0m \u001b[38;5;28mprint\u001b[39m(\u001b[43mhello\u001b[49m, world)\n",
      "\u001b[1;31mNameError\u001b[0m: name 'hello' is not defined"
     ]
    }
   ],
   "source": [
    "print(\"hello, world)\n",
    "print(hello, world)"
   ]
  },
  {
   "cell_type": "markdown",
   "id": "0cca4374-4950-4c53-86a2-4f8d5341f007",
   "metadata": {
    "id": "0cca4374-4950-4c53-86a2-4f8d5341f007"
   },
   "source": [
    "### Oefening 11\n",
    "\n",
    "Corrigeer de syntax en runtime fouten in volgende oefening.\n",
    "\n",
    "```\n",
    "prin(\"Welkom bij de Python les\")\n",
    "def som_functie(a, b)\n",
    "    return a + b\n",
    "resultaat = som_functie(5, \"10\")\n",
    "print(\"Het resultaat is: \", resultaat\n",
    "```"
   ]
  },
  {
   "cell_type": "code",
   "execution_count": 64,
   "id": "TNzc1Koh7BaW",
   "metadata": {
    "id": "TNzc1Koh7BaW"
   },
   "outputs": [
    {
     "name": "stdout",
     "output_type": "stream",
     "text": [
      "Welkom bij de Python les\n",
      "Het resultaat is:  15\n"
     ]
    }
   ],
   "source": [
    "print(\"Welkom bij de Python les\")\n",
    "def som_functie(a, b):\n",
    "     return a + b\n",
    "resultaat = som_functie(5, int(\"10\"))\n",
    "print(\"Het resultaat is: \", resultaat)"
   ]
  },
  {
   "cell_type": "markdown",
   "id": "43ea3931-0b89-483e-ae08-831fba8d1fb3",
   "metadata": {
    "id": "43ea3931-0b89-483e-ae08-831fba8d1fb3"
   },
   "source": [
    "### Oefening 12\n",
    "Bekijk de volgende instructies en tracht te verklaren waarom een foutmelding optreedt.\n",
    "\n",
    "```\n",
    "x = 2\n",
    "print ( x + 5)\n",
    "print ( y = x + 5)\n"
   ]
  },
  {
   "cell_type": "code",
   "execution_count": 83,
   "id": "tiQ_SbC97Imn",
   "metadata": {
    "id": "tiQ_SbC97Imn"
   },
   "outputs": [
    {
     "name": "stdout",
     "output_type": "stream",
     "text": [
      "7\n",
      "True\n"
     ]
    }
   ],
   "source": [
    "x = 2\n",
    "print ( x + 5)\n",
    "print ( y == x + 5)\n",
    "# Er werdt 1 gelijksaanteken gebruikt deze wordt gebruikt om een variabele zijn waarde aan te duiden en werkt niet als gelijkaansteken zoals deze in de wiskunde wordt gebruikt."
   ]
  },
  {
   "cell_type": "markdown",
   "id": "fc5bf70c-9048-4273-9b89-a20cde0c5af0",
   "metadata": {
    "id": "fc5bf70c-9048-4273-9b89-a20cde0c5af0"
   },
   "source": [
    "### Oefening 13\n",
    "\n",
    "Print een tabel die minstens 20 keywords bevat. Je tabel bevat\n",
    "4 kolommen ( en dus minstens 5 rijen)."
   ]
  },
  {
   "cell_type": "code",
   "execution_count": 85,
   "id": "fZbM-AQX7L3I",
   "metadata": {
    "id": "fZbM-AQX7L3I"
   },
   "outputs": [
    {
     "name": "stdout",
     "output_type": "stream",
     "text": [
      "and\tas\tassert\tbreak\n",
      "def\tdel\telif\telse\n"
     ]
    }
   ],
   "source": [
    "print(\"and\\tas\\tassert\\tbreak\\ndef\\tdel\\telif\\telse\")"
   ]
  },
  {
   "cell_type": "markdown",
   "id": "LXYxz_sO1KAI",
   "metadata": {
    "id": "LXYxz_sO1KAI"
   },
   "source": [
    "### Oefening 14\n",
    "\n",
    "Voer de volgende instructies uit:\n",
    "\n",
    "```\n",
    "dier = \"hond\"\n",
    "voorwerp = \"stoel\"\n",
    "getal = 12\n",
    "dier = voorwerp\n",
    "voorwerp = getal\n",
    "getal = dier\n",
    "\n",
    "```\n",
    "\n",
    "- Wat zijn de uiteindelijke waarden van de variabelen dier, voorwerp en getal?\n",
    "- Kan je elke waarde nog terugvinden?"
   ]
  },
  {
   "cell_type": "code",
   "execution_count": null,
   "id": "pzyQYUCe7OaH",
   "metadata": {
    "id": "pzyQYUCe7OaH"
   },
   "outputs": [],
   "source": []
  },
  {
   "cell_type": "markdown",
   "id": "a8e6_wmLjcTq",
   "metadata": {
    "id": "a8e6_wmLjcTq"
   },
   "source": [
    "### Oefening 15\n",
    "\n",
    "Schrijf een programma dat 3 variabelen met respektievelijke namen _var1_, _var2_ en _var3_ aanmaakt en er 3 verschillende float waarden aan toekent. Je programma moet deze nu cyclisch permuteren, m.a.w. var1  krijgt de waarde van var2, var2 de waarde van var3 en var3 de waarde van var1. Merk op de waarden moeten effectief van geheugenlocatie worden gewisseld! De printout instructies voor en na de permutatie zijn exact dezelfde.\n",
    "Voorbeeld output van je programma :\n",
    "\n",
    "```\n",
    "Variabele var1 is: 1.4\n",
    "Variabele var2 is: 1.5\n",
    "Variabele var3 is: 1.6\n",
    "Na permutatie\n",
    "Variabele var1 is: 1.5\n",
    "Variabele var2 is: 1.6\n",
    "Variabele var3 is: 1.4\n",
    "```"
   ]
  },
  {
   "cell_type": "code",
   "execution_count": null,
   "id": "sM-M4PEF7Rbn",
   "metadata": {
    "id": "sM-M4PEF7Rbn"
   },
   "outputs": [],
   "source": []
  },
  {
   "cell_type": "markdown",
   "id": "62896b8b-e67a-4b0b-8101-bf8ca92d2df6",
   "metadata": {
    "id": "62896b8b-e67a-4b0b-8101-bf8ca92d2df6"
   },
   "source": [
    "### Oefening 16\n",
    "Op aarde hebben mensen dezelfde massa als op de maan, maar hun gewicht is anders. Schrijf een programma, waarin je zowel je gewicht op de aarde als op de maan berekent. Print beide uit.\n",
    "\n",
    "Neem je massa op aarde en stop deze in een variabele (een weegschaal op aarde meet eigenlijk je gewicht op aarde maar rekent dit dan om naar een massa).   \n",
    "\n",
    "Hou rekening met de valversnelling op:\n",
    "- de aarde $= 9.81 \\frac{m}{s^2}$\n",
    "- de maan $= 1.62 \\frac{m}{s^2}$.\n",
    "\n",
    "Maak voor deze beide waarden constanten aan in je programma.\n",
    "\n",
    "Een gewicht druk je uit in Newton, een massa in kg."
   ]
  },
  {
   "cell_type": "code",
   "execution_count": null,
   "id": "j7sqSiP57TAf",
   "metadata": {
    "id": "j7sqSiP57TAf"
   },
   "outputs": [],
   "source": []
  }
 ],
 "metadata": {
  "colab": {
   "provenance": []
  },
  "kernelspec": {
   "display_name": "Python 3 (ipykernel)",
   "language": "python",
   "name": "python3"
  },
  "language_info": {
   "codemirror_mode": {
    "name": "ipython",
    "version": 3
   },
   "file_extension": ".py",
   "mimetype": "text/x-python",
   "name": "python",
   "nbconvert_exporter": "python",
   "pygments_lexer": "ipython3",
   "version": "3.12.6"
  }
 },
 "nbformat": 4,
 "nbformat_minor": 5
}
