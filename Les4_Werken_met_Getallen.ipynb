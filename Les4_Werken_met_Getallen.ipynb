{
 "cells": [
  {
   "attachments": {
    "613b4eef-dc9f-43b9-883b-387574b7ccca.jpg": {
     "image/jpeg": "[encoded data removed]"
    }
   },
   "cell_type": "markdown",
   "id": "4ca73282-1a38-4261-8279-5fa5079b8ec0",
   "metadata": {
    "slideshow": {
     "slide_type": "slide"
    }
   },
   "source": [
    "## <center> Programming Fundamentals \n",
    "### <center> **Academiejaar 2024 - 2025** \n",
    "### <center> ![OIP.jpg](attachment:613b4eef-dc9f-43b9-883b-387574b7ccca.jpg)\n",
    "\n",
    "#### **Les 4 : Werken met Getallen**\n",
    "\n",
    "__1.__ Numerieke data types in Python\n",
    "    \n",
    "__2.__ Numerieke Operatoren\n",
    "\n",
    "__3.__ Wiskundige functies en methoden\n",
    "    \n",
    "__4.__ Formatteren van getallen\n",
    "    \n",
    "        "
   ]
  },
  {
   "cell_type": "markdown",
   "id": "8ce5bfa6-1e87-4893-9163-00818ce4e49c",
   "metadata": {
    "slideshow": {
     "slide_type": "slide"
    },
    "tags": []
   },
   "source": [
    "### <center> **1. Numerieke data types in Python**"
   ]
  },
  {
   "cell_type": "markdown",
   "id": "32ff9f00-3f2e-453e-b918-3e99600b149a",
   "metadata": {
    "slideshow": {
     "slide_type": "fragment"
    },
    "tags": []
   },
   "source": [
    "Python heeft 3 verschillende numerieke data types ingebouwd. Dit zijn: &nbsp; <kbd> integer </kbd> &nbsp;, &nbsp; <kbd> float </kbd> &nbsp; en &nbsp; <kbd> complex </kbd> &nbsp; "
   ]
  },
  {
   "cell_type": "markdown",
   "id": "c25f13b0-2bda-42b4-89da-1088117c634e",
   "metadata": {
    "slideshow": {
     "slide_type": "subslide"
    },
    "tags": []
   },
   "source": [
    "#### <center> **Integers**"
   ]
  },
  {
   "cell_type": "markdown",
   "id": "e1c7e51f-938e-4d5b-b245-21e051cc4440",
   "metadata": {
    "slideshow": {
     "slide_type": "fragment"
    },
    "tags": []
   },
   "source": [
    "<div class=\"alert fade alert-info\">\n",
    "    Het ingebouwde <b> integer </b> data type stelt de verzameling van gehele getallen voor. De naam van het type is &nbsp; <kbd> int</kbd>. \n"
   ]
  },
  {
   "cell_type": "code",
   "execution_count": 1,
   "id": "b472f0a1-3594-4a07-88ef-5e1dc59ed1f2",
   "metadata": {
    "slideshow": {
     "slide_type": "fragment"
    },
    "tags": []
   },
   "outputs": [
    {
     "data": {
      "text/plain": [
       "int"
      ]
     },
     "execution_count": 1,
     "metadata": {},
     "output_type": "execute_result"
    }
   ],
   "source": [
    "getal = 145\n",
    "type(getal)"
   ]
  },
  {
   "cell_type": "code",
   "execution_count": 2,
   "id": "e0f1f70b-1bb2-4fc8-869d-fef5670cfe16",
   "metadata": {
    "slideshow": {
     "slide_type": "fragment"
    },
    "tags": []
   },
   "outputs": [
    {
     "data": {
      "text/plain": [
       "int"
      ]
     },
     "execution_count": 2,
     "metadata": {},
     "output_type": "execute_result"
    }
   ],
   "source": [
    "type(-145)"
   ]
  },
  {
   "cell_type": "code",
   "execution_count": 3,
   "id": "c0b28fdf-4764-4323-ab7e-1ee8a974df8a",
   "metadata": {
    "slideshow": {
     "slide_type": "subslide"
    },
    "tags": []
   },
   "outputs": [
    {
     "data": {
      "text/plain": [
       "10000000000000"
      ]
     },
     "execution_count": 3,
     "metadata": {},
     "output_type": "execute_result"
    }
   ],
   "source": [
    "groot_getal = 10000000000000 \n",
    "            # Er is geen theoretisch maximum\n",
    "groot_getal"
   ]
  },
  {
   "cell_type": "code",
   "execution_count": 4,
   "id": "d52dd7c0-6165-4fcc-a35d-f9400cbe843d",
   "metadata": {
    "slideshow": {
     "slide_type": "fragment"
    },
    "tags": []
   },
   "outputs": [
    {
     "data": {
      "text/plain": [
       "10000000000000"
      ]
     },
     "execution_count": 4,
     "metadata": {},
     "output_type": "execute_result"
    }
   ],
   "source": [
    "groot_getal = 10_000_000_000_000 \n",
    "            # underscores kan je gebruiken voor de leesbaarheid\n",
    "groot_getal"
   ]
  },
  {
   "cell_type": "markdown",
   "id": "2461b033-f3e7-408a-bd2b-10e209765d4f",
   "metadata": {
    "slideshow": {
     "slide_type": "subslide"
    },
    "tags": []
   },
   "source": [
    "#### <center> **Floats**"
   ]
  },
  {
   "cell_type": "markdown",
   "id": "8f37b88c-d052-455a-8fba-72914d29f171",
   "metadata": {
    "slideshow": {
     "slide_type": "fragment"
    },
    "tags": []
   },
   "source": [
    "<div class=\"alert fade alert-info\">\n",
    "    Het ingebouwde <b> float </b> data type stelt de verzameling van reële getallen (kommagetallen) voor. De naam van het type is &nbsp; <kbd> float</kbd>. \n"
   ]
  },
  {
   "cell_type": "code",
   "execution_count": 5,
   "id": "3baf1599-35f2-4305-8465-6f835c504a88",
   "metadata": {
    "slideshow": {
     "slide_type": "fragment"
    },
    "tags": []
   },
   "outputs": [
    {
     "name": "stdout",
     "output_type": "stream",
     "text": [
      "<class 'float'>\n",
      "1.25\n"
     ]
    }
   ],
   "source": [
    "print(type(1.25))\n",
    "print(1.25)"
   ]
  },
  {
   "cell_type": "code",
   "execution_count": 6,
   "id": "bdb64b40-13c8-4170-affb-be7f68d81b62",
   "metadata": {
    "slideshow": {
     "slide_type": "fragment"
    },
    "tags": []
   },
   "outputs": [
    {
     "name": "stdout",
     "output_type": "stream",
     "text": [
      "<class 'float'>\n",
      "125.0\n"
     ]
    }
   ],
   "source": [
    "getal = 125.00\n",
    "print(type(getal))\n",
    "print(getal)"
   ]
  },
  {
   "cell_type": "markdown",
   "id": "bd2a174f-5cd9-476e-854f-e31864161748",
   "metadata": {
    "slideshow": {
     "slide_type": "subslide"
    },
    "tags": []
   },
   "source": [
    "---\n",
    "**Merk op:**\n",
    "In Python kan je geen komma gebruiken om een reëel getal aan te maken!\n",
    "\n",
    "___\n"
   ]
  },
  {
   "cell_type": "code",
   "execution_count": 7,
   "id": "f2495e5a-e5e0-4776-8353-69ca10166f0a",
   "metadata": {
    "slideshow": {
     "slide_type": "fragment"
    },
    "tags": []
   },
   "outputs": [
    {
     "name": "stdout",
     "output_type": "stream",
     "text": [
      "<class 'tuple'>\n",
      "(125, 0)\n"
     ]
    }
   ],
   "source": [
    "getal = 125,0 # we kunnen geen komma's gebruiken\n",
    "print(type(getal))\n",
    "print(getal)"
   ]
  },
  {
   "cell_type": "markdown",
   "id": "e756b48a-de9a-4e64-bd30-751380a2daad",
   "metadata": {
    "slideshow": {
     "slide_type": "subslide"
    },
    "tags": []
   },
   "source": [
    "Je kan ook floating-points maken via de **E** notatie (wetenschappelijke notatie, of exponentiële notatie). Elk reëel getal kan je steeds schrijven als een produkt met een macht van 10. \n",
    "\n",
    "$0.000000000653 = 6.53 \\; . \\; 10^{-10}$"
   ]
  },
  {
   "cell_type": "code",
   "execution_count": 8,
   "id": "9ea427ef-e9f5-470a-ba59-d9f407702cf5",
   "metadata": {},
   "outputs": [
    {
     "data": {
      "text/plain": [
       "6.53e-10"
      ]
     },
     "execution_count": 8,
     "metadata": {},
     "output_type": "execute_result"
    }
   ],
   "source": [
    "0.000000000653"
   ]
  },
  {
   "cell_type": "code",
   "execution_count": 9,
   "id": "52b5ffb7-4a49-4631-b37f-414a656b7e0e",
   "metadata": {
    "slideshow": {
     "slide_type": "fragment"
    },
    "tags": []
   },
   "outputs": [
    {
     "data": {
      "text/plain": [
       "1e+18"
      ]
     },
     "execution_count": 9,
     "metadata": {},
     "output_type": "execute_result"
    }
   ],
   "source": [
    "groot_getal = 1_000_000_000_000_000_000.0\n",
    "groot_getal"
   ]
  },
  {
   "cell_type": "code",
   "execution_count": 10,
   "id": "1486a122-5bf4-4cd3-a90b-2e8d14fe591d",
   "metadata": {
    "slideshow": {
     "slide_type": "subslide"
    },
    "tags": []
   },
   "outputs": [
    {
     "data": {
      "text/plain": [
       "1e-18"
      ]
     },
     "execution_count": 10,
     "metadata": {},
     "output_type": "execute_result"
    }
   ],
   "source": [
    "klein_getal = 1e-18\n",
    "klein_getal"
   ]
  },
  {
   "cell_type": "code",
   "execution_count": 11,
   "id": "88c065d6-a3bf-4b22-9023-ce685facad44",
   "metadata": {
    "slideshow": {
     "slide_type": "fragment"
    },
    "tags": []
   },
   "outputs": [
    {
     "data": {
      "text/plain": [
       "-8.2"
      ]
     },
     "execution_count": 11,
     "metadata": {},
     "output_type": "execute_result"
    }
   ],
   "source": [
    "neg_getal = -0.82e1\n",
    "neg_getal"
   ]
  },
  {
   "cell_type": "code",
   "execution_count": 12,
   "id": "7cf4e192-8772-4cbc-84ea-8918dbc5a643",
   "metadata": {},
   "outputs": [
    {
     "data": {
      "text/plain": [
       "'1.234000e+03'"
      ]
     },
     "execution_count": 12,
     "metadata": {},
     "output_type": "execute_result"
    }
   ],
   "source": [
    "# Omzetten naar wetenschappelijke notatie\n",
    "f'{1234:e}'"
   ]
  },
  {
   "cell_type": "code",
   "execution_count": 13,
   "id": "d164bf17-29dc-4565-a9c8-94b5eb6d7a35",
   "metadata": {
    "slideshow": {
     "slide_type": "fragment"
    },
    "tags": []
   },
   "outputs": [
    {
     "name": "stdout",
     "output_type": "stream",
     "text": [
      "inf\n",
      "<class 'float'>\n"
     ]
    }
   ],
   "source": [
    "n = 2e400 # maximum floating point number\n",
    "print(n)\n",
    "print(type(n))"
   ]
  },
  {
   "cell_type": "markdown",
   "id": "a6498322-5dbb-4fb6-80a1-14a0f864e2f5",
   "metadata": {
    "slideshow": {
     "slide_type": "subslide"
    },
    "tags": []
   },
   "source": [
    "#### <center> **Complexe getallen**"
   ]
  },
  {
   "cell_type": "markdown",
   "id": "2b0d6c28-5ffd-4c54-bb94-7b67a2f9a7be",
   "metadata": {
    "slideshow": {
     "slide_type": "fragment"
    },
    "tags": []
   },
   "source": [
    "Python is 1 van de weinige talen die ondersteuning geeft voor complexe getallen.\n",
    "Een complex getal kan voorgesteld worden door 2 reële getallen, eentje voor het reële deel, eentje voor het imaginaire deel."
   ]
  },
  {
   "cell_type": "code",
   "execution_count": 14,
   "id": "33b6601c-1bc2-4cff-b298-35241ccdab82",
   "metadata": {
    "slideshow": {
     "slide_type": "fragment"
    },
    "tags": []
   },
   "outputs": [],
   "source": [
    "n = 1 + 2j"
   ]
  },
  {
   "cell_type": "code",
   "execution_count": 15,
   "id": "9b6e9eba-1fb6-48e8-ad2d-eace5f4d68cf",
   "metadata": {
    "slideshow": {
     "slide_type": "fragment"
    },
    "tags": []
   },
   "outputs": [
    {
     "data": {
      "text/plain": [
       "complex"
      ]
     },
     "execution_count": 15,
     "metadata": {},
     "output_type": "execute_result"
    }
   ],
   "source": [
    "type(n)"
   ]
  },
  {
   "cell_type": "code",
   "execution_count": 16,
   "id": "3831573c-3b7a-412c-81ae-3107ba45c517",
   "metadata": {
    "slideshow": {
     "slide_type": "subslide"
    },
    "tags": []
   },
   "outputs": [
    {
     "data": {
      "text/plain": [
       "1.0"
      ]
     },
     "execution_count": 16,
     "metadata": {},
     "output_type": "execute_result"
    }
   ],
   "source": [
    "n.real # merk op, dit is data en geen methode !"
   ]
  },
  {
   "cell_type": "code",
   "execution_count": 17,
   "id": "24eded30-0d58-4582-ab70-f453ad83d1a9",
   "metadata": {
    "slideshow": {
     "slide_type": "fragment"
    },
    "tags": []
   },
   "outputs": [
    {
     "data": {
      "text/plain": [
       "2.0"
      ]
     },
     "execution_count": 17,
     "metadata": {},
     "output_type": "execute_result"
    }
   ],
   "source": [
    "n.imag # merk op, dit is data geen methode !"
   ]
  },
  {
   "cell_type": "code",
   "execution_count": 18,
   "id": "fd8b075d-3e98-45bc-af8a-23b4093520a5",
   "metadata": {
    "slideshow": {
     "slide_type": "fragment"
    },
    "tags": []
   },
   "outputs": [
    {
     "data": {
      "text/plain": [
       "(1-2j)"
      ]
     },
     "execution_count": 18,
     "metadata": {},
     "output_type": "execute_result"
    }
   ],
   "source": [
    "n.conjugate() # dit is wel een methode!"
   ]
  },
  {
   "cell_type": "code",
   "execution_count": 19,
   "id": "0d33404b-a5cc-4991-b340-2a66747ec676",
   "metadata": {
    "slideshow": {
     "slide_type": "fragment"
    },
    "tags": []
   },
   "outputs": [
    {
     "name": "stdout",
     "output_type": "stream",
     "text": [
      "42\n",
      "0\n",
      "3.14\n",
      "0.0\n"
     ]
    }
   ],
   "source": [
    "x = 42\n",
    "y = 3.14\n",
    "print(x.real)\n",
    "print(x.imag)\n",
    "print(y.real)\n",
    "print(y.imag)\n"
   ]
  },
  {
   "cell_type": "markdown",
   "id": "51a36c26-7df2-4fdd-8553-fd4062d9bd2a",
   "metadata": {
    "slideshow": {
     "slide_type": "slide"
    },
    "tags": []
   },
   "source": [
    "### <center> **2. Numerieke Operatoren**"
   ]
  },
  {
   "cell_type": "markdown",
   "id": "350ad086-eb33-45c7-8d1a-277f25a5ad94",
   "metadata": {
    "slideshow": {
     "slide_type": "fragment"
    },
    "tags": []
   },
   "source": [
    "De typische numerieke operatoren zoals je ze kent uit de rekenlessen zijn allen ook voorhandig in Python.\n",
    "\n",
    "Deze zijn: \n",
    "- optelling &nbsp; <kbd> + </kbd>\n",
    "- aftrekking &nbsp; <kbd> - </kbd>\n",
    "- vermenigvuldiging &nbsp; <kbd> * </kbd>\n",
    "- reëele deling &nbsp; <kbd> / </kbd>\n",
    "- gehele deling &nbsp; <kbd> // </kbd>\n",
    "- modulus &nbsp; <kbd> % </kbd>\n",
    "- exponent &nbsp; <kbd> ** </kbd>\n",
    "\n",
    "Operatoren werken op de data die je ze geeft, dit noemt men <span style=\"color:green;\">de operanden</span>."
   ]
  },
  {
   "cell_type": "code",
   "execution_count": 20,
   "id": "0c72e9cb-3ba4-490d-96f3-ace0b28e3ee5",
   "metadata": {
    "slideshow": {
     "slide_type": "subslide"
    },
    "tags": []
   },
   "outputs": [
    {
     "name": "stdout",
     "output_type": "stream",
     "text": [
      "3\n",
      "3.0\n",
      "0\n",
      "0.0\n",
      "-2.8\n",
      "4\n",
      "4\n",
      "4\n",
      "4\n",
      "17.6\n"
     ]
    }
   ],
   "source": [
    "print(1 + 2) # operator + met operanden 1 en 2\n",
    "print(1 + 2.0)\n",
    "print(1 - 1)\n",
    "print(1.0 - 1)\n",
    "print(-2.8)\n",
    "print(1 - -3)\n",
    "print(1 -- 3) # niet ok volgens PEP 8\n",
    "print(1- -3)  # niet ok volgens PEP 8\n",
    "print(1 - (-3))\n",
    "print(2 * 8.8)"
   ]
  },
  {
   "cell_type": "markdown",
   "id": "99e2b77b-73e2-40dd-b106-580abf2f330f",
   "metadata": {
    "slideshow": {
     "slide_type": "subslide"
    },
    "tags": []
   },
   "source": [
    "--- \n",
    "**Merk op:**\n",
    "\n",
    "- Operanden moeten numeriek zijn voor de numerieke operatoren, maar ze hoeven niet van hetzelfde type te zijn. \n",
    "\n",
    "- Het type van het resultaat van de bewerking is _int_ als beide operanden van type _int_ zijn.\n",
    "\n",
    "- Het type van het resultaat van de bewerking is _float_ als minstens 1 operand van type _float_ is, behalve voor de deling.\n",
    "\n",
    "- Operatoren hebben een ariteit, ze kunnen _unair_, _binair_ of _ternair_ zijn. Dit heeft te maken met het aantal operanden die ze nodig hebben om te kunnen werken. Bvb. De vermenigvuldiging is _binair_ , maar de optelling en aftrekking kan _unair_ of _binair_ zijn.\n",
    "\n",
    "---"
   ]
  },
  {
   "cell_type": "markdown",
   "id": "944aa6dd-9c8f-4f55-826f-f1345ef2ce79",
   "metadata": {
    "slideshow": {
     "slide_type": "subslide"
    },
    "tags": []
   },
   "source": [
    "---\n",
    "\n",
    "- Python hanteert de _infix_ notatie, d.w.z. de operator staat tussen de operanden.\n",
    "\n",
    "- Volgens PEP 8 stijlregels laat je telkens een spatie tussen de operanden en de operator\n",
    "\n",
    "- Net zoals in de wiskunde, is er bij het evalueren van expressies een volgorde van de bewerkingen die je moet respecteren.\n",
    "\n",
    "Prioriteit van hoog naar laag:\n"
   ]
  },
  {
   "attachments": {
    "e68af6f5-7435-44ec-9844-c69bd5b9fff9.png": {
     "image/png": "[encoded data removed]"
    }
   },
   "cell_type": "markdown",
   "id": "a34fcf76-3f2d-4e61-9fbf-1adcfd68c11a",
   "metadata": {},
   "source": [
    "    \n",
    "![image.png](attachment:e68af6f5-7435-44ec-9844-c69bd5b9fff9.png)"
   ]
  },
  {
   "cell_type": "markdown",
   "id": "19c0dc60-8250-426d-bdc5-9bc8637ceaa2",
   "metadata": {
    "slideshow": {
     "slide_type": "subslide"
    },
    "tags": []
   },
   "source": [
    "#### <center> **De deling**"
   ]
  },
  {
   "cell_type": "markdown",
   "id": "a26fa2bb-c511-430c-981d-d74a7bbd8019",
   "metadata": {
    "slideshow": {
     "slide_type": "fragment"
    },
    "tags": []
   },
   "source": [
    "De gewone (reële) deling _/_ zal steeds een _float_ als resultaat geven, zelfs als beide operanden van type _int_ zijn en de deling perfect geheel kan:"
   ]
  },
  {
   "cell_type": "code",
   "execution_count": 21,
   "id": "c9376203-2430-4a0c-b579-fb49ddfcf453",
   "metadata": {
    "slideshow": {
     "slide_type": "fragment"
    },
    "tags": []
   },
   "outputs": [
    {
     "data": {
      "text/plain": [
       "1.8"
      ]
     },
     "execution_count": 21,
     "metadata": {},
     "output_type": "execute_result"
    }
   ],
   "source": [
    "9 / 5"
   ]
  },
  {
   "cell_type": "code",
   "execution_count": 22,
   "id": "74897f18-eff2-4e5e-9bbd-e9970e33e80c",
   "metadata": {
    "slideshow": {
     "slide_type": "fragment"
    },
    "tags": []
   },
   "outputs": [
    {
     "data": {
      "text/plain": [
       "3.0"
      ]
     },
     "execution_count": 22,
     "metadata": {},
     "output_type": "execute_result"
    }
   ],
   "source": [
    "9 / 3"
   ]
  },
  {
   "cell_type": "markdown",
   "id": "ffc5f5a6-6b85-4a3c-961f-99a1898eb9fb",
   "metadata": {
    "slideshow": {
     "slide_type": "subslide"
    },
    "tags": []
   },
   "source": [
    "De **gehele deling _//_** geeft het gehele deel van de deling terug als resultaat, dat is het deel voor de komma zonder de rest van de deling (stuk achter de komma). Het resultaat kan zowel _int_ als _float_ zijn,  afhankelijk of 1 van de operanden van het _float_ type is:"
   ]
  },
  {
   "cell_type": "code",
   "execution_count": 23,
   "id": "ac6f4386-4bc3-4e8e-800a-ebe37d79ac01",
   "metadata": {
    "slideshow": {
     "slide_type": "fragment"
    },
    "tags": []
   },
   "outputs": [
    {
     "data": {
      "text/plain": [
       "3"
      ]
     },
     "execution_count": 23,
     "metadata": {},
     "output_type": "execute_result"
    }
   ],
   "source": [
    "9 // 3"
   ]
  },
  {
   "cell_type": "code",
   "execution_count": 24,
   "id": "b4c00e0f-1337-4f1f-9fa2-88f71ddc5463",
   "metadata": {
    "slideshow": {
     "slide_type": "fragment"
    },
    "tags": []
   },
   "outputs": [
    {
     "data": {
      "text/plain": [
       "3.0"
      ]
     },
     "execution_count": 24,
     "metadata": {},
     "output_type": "execute_result"
    }
   ],
   "source": [
    "9 // 3.0"
   ]
  },
  {
   "cell_type": "code",
   "execution_count": 25,
   "id": "52040de4-b95d-4074-b8ae-94d56aa921b1",
   "metadata": {
    "slideshow": {
     "slide_type": "fragment"
    },
    "tags": []
   },
   "outputs": [
    {
     "data": {
      "text/plain": [
       "5"
      ]
     },
     "execution_count": 25,
     "metadata": {},
     "output_type": "execute_result"
    }
   ],
   "source": [
    "17 // 3"
   ]
  },
  {
   "cell_type": "code",
   "execution_count": 26,
   "id": "adc9fb82-8908-4b6e-8043-1ee314a3e281",
   "metadata": {
    "slideshow": {
     "slide_type": "fragment"
    },
    "tags": []
   },
   "outputs": [
    {
     "data": {
      "text/plain": [
       "-6"
      ]
     },
     "execution_count": 26,
     "metadata": {},
     "output_type": "execute_result"
    }
   ],
   "source": [
    "-17 // 3"
   ]
  },
  {
   "cell_type": "markdown",
   "id": "42253d0a-daff-4415-856b-bb66260b41c2",
   "metadata": {
    "slideshow": {
     "slide_type": "subslide"
    },
    "tags": []
   },
   "source": [
    "De **modulo operator _%_** geeft de rest bij deling terug, het stuk na de komma dus. Het type van het resultaat is afhankelijk van de operanden. "
   ]
  },
  {
   "cell_type": "code",
   "execution_count": 27,
   "id": "376212e9-82d5-4c4a-a065-10a284b49a28",
   "metadata": {
    "slideshow": {
     "slide_type": "fragment"
    },
    "tags": []
   },
   "outputs": [
    {
     "data": {
      "text/plain": [
       "1"
      ]
     },
     "execution_count": 27,
     "metadata": {},
     "output_type": "execute_result"
    }
   ],
   "source": [
    "7 % 3"
   ]
  },
  {
   "cell_type": "code",
   "execution_count": 9,
   "id": "40c79207-0c7c-434c-acfb-38e108fac1af",
   "metadata": {
    "slideshow": {
     "slide_type": "fragment"
    },
    "tags": []
   },
   "outputs": [
    {
     "data": {
      "text/plain": [
       "2.0"
      ]
     },
     "execution_count": 9,
     "metadata": {},
     "output_type": "execute_result"
    }
   ],
   "source": [
    "17.0 % 3"
   ]
  },
  {
   "cell_type": "markdown",
   "id": "a3b02c1d-fa4d-4ac8-9bb9-fbb95e81dc19",
   "metadata": {
    "slideshow": {
     "slide_type": "subslide"
    },
    "tags": []
   },
   "source": [
    "Het teken van het resultaat is steeds hetzelfde als dat van het deeltal. Dit is het gevolg van de berekening die achterliggend gebeurt:\n",
    "\n",
    "> a % b = a - math.floor(a / b) * b"
   ]
  },
  {
   "cell_type": "code",
   "execution_count": 5,
   "id": "f52a513e-60d5-4a6d-8616-1bd166172f87",
   "metadata": {
    "slideshow": {
     "slide_type": "fragment"
    },
    "tags": []
   },
   "outputs": [
    {
     "data": {
      "text/plain": [
       "-1.0"
      ]
     },
     "execution_count": 5,
     "metadata": {},
     "output_type": "execute_result"
    }
   ],
   "source": [
    "17.0 % -3 # = 17 - math.floor(17 / (-3)) * (-3)"
   ]
  },
  {
   "cell_type": "code",
   "execution_count": 7,
   "id": "c15fff98-83fe-4cd1-a81a-ccf6474940cd",
   "metadata": {
    "slideshow": {
     "slide_type": "fragment"
    },
    "tags": []
   },
   "outputs": [
    {
     "data": {
      "text/plain": [
       "1"
      ]
     },
     "execution_count": 7,
     "metadata": {},
     "output_type": "execute_result"
    }
   ],
   "source": [
    "-17 % 3 # = - 17 - math.floor(-17 / 3) * 3"
   ]
  },
  {
   "cell_type": "code",
   "execution_count": 31,
   "id": "1f20e949-7551-4d19-95ec-8de9969c4afb",
   "metadata": {
    "slideshow": {
     "slide_type": "fragment"
    },
    "tags": []
   },
   "outputs": [
    {
     "data": {
      "text/plain": [
       "1"
      ]
     },
     "execution_count": 31,
     "metadata": {},
     "output_type": "execute_result"
    }
   ],
   "source": [
    "import math\n",
    "-17 - math.floor(-17 / 3) * 3"
   ]
  },
  {
   "cell_type": "markdown",
   "id": "6cd552f8-d412-4d50-be47-ed869c5e05c3",
   "metadata": {
    "jp-MarkdownHeadingCollapsed": true,
    "slideshow": {
     "slide_type": "subslide"
    },
    "tags": []
   },
   "source": [
    "Opgelet, delen door $0$ is niet gedefineerd en zal aanleiding geven tot een &nbsp; <kbd> ZeroDivisionError </kbd>"
   ]
  },
  {
   "cell_type": "code",
   "execution_count": 32,
   "id": "63fb4576-c60c-4948-9114-b1b2ea90d3f0",
   "metadata": {
    "slideshow": {
     "slide_type": "fragment"
    },
    "tags": []
   },
   "outputs": [
    {
     "ename": "ZeroDivisionError",
     "evalue": "division by zero",
     "output_type": "error",
     "traceback": [
      "\u001b[1;31m---------------------------------------------------------------------------\u001b[0m",
      "\u001b[1;31mZeroDivisionError\u001b[0m                         Traceback (most recent call last)",
      "Cell \u001b[1;32mIn[32], line 1\u001b[0m\n\u001b[1;32m----> 1\u001b[0m \u001b[38;5;241;43m1\u001b[39;49m\u001b[43m \u001b[49m\u001b[38;5;241;43m/\u001b[39;49m\u001b[43m \u001b[49m\u001b[38;5;241;43m0\u001b[39;49m\n",
      "\u001b[1;31mZeroDivisionError\u001b[0m: division by zero"
     ]
    }
   ],
   "source": [
    "1 / 0"
   ]
  },
  {
   "cell_type": "code",
   "execution_count": 33,
   "id": "a23b0f38-8a21-48ab-88b8-9196320766ec",
   "metadata": {
    "slideshow": {
     "slide_type": "subslide"
    },
    "tags": []
   },
   "outputs": [
    {
     "ename": "ZeroDivisionError",
     "evalue": "integer division or modulo by zero",
     "output_type": "error",
     "traceback": [
      "\u001b[1;31m---------------------------------------------------------------------------\u001b[0m",
      "\u001b[1;31mZeroDivisionError\u001b[0m                         Traceback (most recent call last)",
      "Cell \u001b[1;32mIn[33], line 1\u001b[0m\n\u001b[1;32m----> 1\u001b[0m \u001b[38;5;241;43m1\u001b[39;49m\u001b[43m \u001b[49m\u001b[38;5;241;43m%\u001b[39;49m\u001b[43m \u001b[49m\u001b[38;5;241;43m0\u001b[39;49m\n",
      "\u001b[1;31mZeroDivisionError\u001b[0m: integer division or modulo by zero"
     ]
    }
   ],
   "source": [
    "1 % 0"
   ]
  },
  {
   "cell_type": "markdown",
   "id": "e8f5688f-77c3-4ea6-8014-f75a44642c9c",
   "metadata": {
    "slideshow": {
     "slide_type": "subslide"
    },
    "tags": []
   },
   "source": [
    "#### <center> **Hoe worden getallen bijgehouden in het geheugen?**"
   ]
  },
  {
   "cell_type": "markdown",
   "id": "20117280-a279-42df-b98e-9099bff37f44",
   "metadata": {
    "slideshow": {
     "slide_type": "fragment"
    },
    "tags": []
   },
   "source": [
    "In een computergeheugen worden getallen niet bijgehouden met grondtal 10, maar binair (grondtal 2)\n",
    "Bijvoorbeeld:\n",
    "\n",
    "$$ 5 = 1 . 2^2 + 0 . 2^1 + 1 . 2^0  \\\\\n",
    "   \\to  5 = 101 $$\n",
    "   \n",
    "$$ 255 = 1 . 2^7 + 1 . 2^6 + 1 . 2^5 + 1 . 2^4 + 1 . 2^3 + 1 . 2^2 + 1 . 2^1 + 1 . 2^0 \\\\\n",
    "\\to 255= 11111111 $$"
   ]
  },
  {
   "cell_type": "code",
   "execution_count": 34,
   "id": "4fd6115a-0e21-4c62-88ca-35daee9fcd22",
   "metadata": {
    "slideshow": {
     "slide_type": "subslide"
    },
    "tags": []
   },
   "outputs": [
    {
     "name": "stdout",
     "output_type": "stream",
     "text": [
      "101\n",
      "11111111\n",
      "8\n"
     ]
    }
   ],
   "source": [
    "# eenvoudig omzetten van 10-tallig naar binair stelsel\n",
    "print(f'{5:b}')\n",
    "print(f'{255:b}')\n",
    "x = 255\n",
    "print(x.bit_length())"
   ]
  },
  {
   "attachments": {
    "21dcf7d0-d69f-4a24-b3e8-bf07439c50db.png": {
     "image/png": "[encoded data removed]"
    }
   },
   "cell_type": "markdown",
   "id": "3ec375ee-48b6-4d9f-adce-83c77dae0ca1",
   "metadata": {
    "slideshow": {
     "slide_type": "subslide"
    },
    "tags": []
   },
   "source": [
    "In een typische 2-complements encodering (waarbij slechts 1 representatie is voor 0) worden _signed integers_  als volgt voorgesteld:\n",
    "\n",
    "![bits.png](attachment:21dcf7d0-d69f-4a24-b3e8-bf07439c50db.png)"
   ]
  },
  {
   "attachments": {
    "76ef503f-f5d4-4839-a249-000ab2de5212.png": {
     "image/png": "[encoded data removed]"
    }
   },
   "cell_type": "markdown",
   "id": "056910f8-994d-45b4-ac39-aa7f1da282d5",
   "metadata": {
    "slideshow": {
     "slide_type": "subslide"
    },
    "tags": []
   },
   "source": [
    "![2complement.png](attachment:76ef503f-f5d4-4839-a249-000ab2de5212.png)"
   ]
  },
  {
   "cell_type": "markdown",
   "id": "b87f35f3-d9de-443f-909f-507c2465622e",
   "metadata": {
    "slideshow": {
     "slide_type": "subslide"
    },
    "tags": []
   },
   "source": [
    "De meeste programmeertalen gebruiken 32bit (_int_ in Java of C# bvb.) of 64bit (_long_ in Java of C# bvb.) vaste bitlengtes dus om integers bij te houden. Python gebruikt echter geen fix nummers of bits om integers te bewaren (vandaar dat dit type ook geen maximwaarde heeft, alles hangt af van het beschikbare geheugen). \n",
    "\n",
    "**Python gebruikt dus een variabel aantal bits om integers voor te stellen**: 8 bits, 16 bits, 32 bits, 64 bits, 128 bits, en zo verder."
   ]
  },
  {
   "cell_type": "markdown",
   "id": "331f2ba8-e21f-4b4e-88f7-40b18f979d73",
   "metadata": {
    "slideshow": {
     "slide_type": "subslide"
    },
    "tags": []
   },
   "source": [
    "Echter, **integers zijn objecten**, met naast **primitieve operatoren** ook **methoden** beschikbaar (zie verder). Python voorziet een vaste overhead voor het bijhouden van objecten, dus dit komt extra bovenop de grootte van de waarde van de integer. M.a.w. hoe groter de getallen worden, hoe trager de operaties erop zullen verlopen. \n",
    "Python heeft gelukkig wel hele goede packages (zoals NumPy) om heel efficiënt te gaan rekenen."
   ]
  },
  {
   "cell_type": "markdown",
   "id": "bd5235b3-853e-4f5d-8201-76528898f5aa",
   "metadata": {
    "slideshow": {
     "slide_type": "subslide"
    },
    "tags": []
   },
   "source": [
    "We kunnen via de functie _getsizeof()_ uit de module _sys_ wel opvragen wat het aantal bytes is nodig om die variabele bij te houden:"
   ]
  },
  {
   "cell_type": "code",
   "execution_count": 35,
   "id": "16f287ab-7851-41d3-8a01-2d682f9a2462",
   "metadata": {
    "slideshow": {
     "slide_type": "fragment"
    },
    "tags": []
   },
   "outputs": [
    {
     "name": "stdout",
     "output_type": "stream",
     "text": [
      "24\n",
      "36\n"
     ]
    }
   ],
   "source": [
    "from sys import getsizeof\n",
    "\n",
    "counter1 = 0\n",
    "counter2 = 2**64\n",
    "size1 = getsizeof(counter1)\n",
    "size2 = getsizeof(counter2)\n",
    "print(size1)\n",
    "print(size2) "
   ]
  },
  {
   "cell_type": "markdown",
   "id": "251027a5-4e34-4210-afab-c2406db50609",
   "metadata": {
    "slideshow": {
     "slide_type": "subslide"
    },
    "tags": []
   },
   "source": [
    "#### <center> **Floating Point Representation**"
   ]
  },
  {
   "cell_type": "markdown",
   "id": "ba17ad8e-ebae-459f-9128-b9ac6f5ccfe1",
   "metadata": {
    "slideshow": {
     "slide_type": "fragment"
    },
    "tags": []
   },
   "source": [
    "Het bijhouden van reële getallen is iets complexer en geeft aanleiding tot de zogenaamde **floating point representation errors**. Iets dat niet eigen is aan Python maar waar alle programeertalen last van hebben.\n",
    "Een voorbeeld:"
   ]
  },
  {
   "cell_type": "code",
   "execution_count": 36,
   "id": "8a913e09-6731-4caf-9021-bf3a22158c0e",
   "metadata": {
    "slideshow": {
     "slide_type": "fragment"
    },
    "tags": []
   },
   "outputs": [
    {
     "data": {
      "text/plain": [
       "0.2"
      ]
     },
     "execution_count": 36,
     "metadata": {},
     "output_type": "execute_result"
    }
   ],
   "source": [
    "0.1 + 0.1"
   ]
  },
  {
   "cell_type": "code",
   "execution_count": 37,
   "id": "ba66733d-5b0f-4109-bddf-7e4b764c5490",
   "metadata": {
    "slideshow": {
     "slide_type": "fragment"
    },
    "tags": []
   },
   "outputs": [
    {
     "data": {
      "text/plain": [
       "0.30000000000000004"
      ]
     },
     "execution_count": 37,
     "metadata": {},
     "output_type": "execute_result"
    }
   ],
   "source": [
    "0.1 + 0.2 "
   ]
  },
  {
   "cell_type": "code",
   "execution_count": 38,
   "id": "f52ab67f-2d89-460d-8632-fcf1df4155d9",
   "metadata": {
    "slideshow": {
     "slide_type": "subslide"
    },
    "tags": []
   },
   "outputs": [
    {
     "data": {
      "text/plain": [
       "0.30000000000000004"
      ]
     },
     "execution_count": 38,
     "metadata": {},
     "output_type": "execute_result"
    }
   ],
   "source": [
    "(1 / 10) + (2 / 10)"
   ]
  },
  {
   "cell_type": "markdown",
   "id": "d3a5fb92-b3ad-412a-b5ca-37311ebe9f10",
   "metadata": {
    "slideshow": {
     "slide_type": "fragment"
    },
    "tags": []
   },
   "source": [
    "Wat gebeurt er hier precies?\n",
    "\n",
    "Je kan het vergelijken met de breuk $1 / 3$ in het decimale (10-talligstelsel). Er bestaat geen eindige representatie voor deze breuk want $\\frac{1}{3} = 0.333333333 \\ldots $\n",
    "\n",
    "Dit is precies ook geval met $1/10$ in het 2-tallig stelsel. Het is een oneindig herhalende sequentie\n",
    "$\\frac{1}{10} = 0.0001100110011001100110011001100110011001100\\ldots$\n",
    "\n",
    "Er wordt dus een benadering van $0.1$ bijgehouden, alleen zien we dat niet doordat de print-out een afgeronde versie toont. Bij het rekenen met getallen worden deze benaderingen en afrondingen toch zichtbaar."
   ]
  },
  {
   "cell_type": "code",
   "execution_count": 39,
   "id": "add76dc7-93f1-4c4c-88c9-2576c289c431",
   "metadata": {
    "slideshow": {
     "slide_type": "subslide"
    },
    "tags": []
   },
   "outputs": [
    {
     "data": {
      "text/plain": [
       "False"
      ]
     },
     "execution_count": 39,
     "metadata": {},
     "output_type": "execute_result"
    }
   ],
   "source": [
    "0.1 + 0.1 + 0.1 == 0.3"
   ]
  },
  {
   "cell_type": "markdown",
   "id": "2a970e98-7659-46b5-bc2b-e2d4c78eefdc",
   "metadata": {
    "slideshow": {
     "slide_type": "fragment"
    },
    "tags": []
   },
   "source": [
    "Wanneer je berekening correct moet zijn (wetenschappelijke applicaties of financiële applicaties bvb.) dan kan je beter werken met daartoe voorziene modules zoals: <kbd> decimal </kbd>, <kbd> fractions </kbd> of <kbd> numpy </kbd> "
   ]
  },
  {
   "cell_type": "code",
   "execution_count": 40,
   "id": "d49bf0dc-5a23-418a-90e1-e5fd4d2630a7",
   "metadata": {
    "slideshow": {
     "slide_type": "fragment"
    },
    "tags": []
   },
   "outputs": [
    {
     "data": {
      "text/plain": [
       "(3537115888337719, 1125899906842624)"
      ]
     },
     "execution_count": 40,
     "metadata": {},
     "output_type": "execute_result"
    }
   ],
   "source": [
    "x = 3.14159\n",
    "x.as_integer_ratio()"
   ]
  },
  {
   "cell_type": "code",
   "execution_count": 41,
   "id": "029ea2b0-55b7-4061-9898-7ed7aaf2545e",
   "metadata": {
    "slideshow": {
     "slide_type": "fragment"
    },
    "tags": []
   },
   "outputs": [
    {
     "data": {
      "text/plain": [
       "True"
      ]
     },
     "execution_count": 41,
     "metadata": {},
     "output_type": "execute_result"
    }
   ],
   "source": [
    "x == 3537115888337719 / 1125899906842624"
   ]
  },
  {
   "cell_type": "markdown",
   "id": "eb7ec435-4591-4619-a24c-f4cac98206f5",
   "metadata": {
    "slideshow": {
     "slide_type": "subslide"
    },
    "tags": []
   },
   "source": [
    "Een floating point in Python wordt bijgehouden als een $64$ bit double precision. Het doet dit op basis van een IEEE standaard waarbij een soort van wetenschappelijke notatie gebruikt wordt voor getallen maar nu in basis 2 :\n",
    "\n",
    "$$ 1.M \\times 2^E $$\n",
    "\n",
    "$$ 10 = 1.25 \\times 8 = 1.25 \\times 2^3$$\n",
    "\n",
    "$$3.14159 = 1.5707949999999999 \\times  2^1$$\n",
    "\n",
    "$$20.475 = 1.2796875000000001 \\times 2^4$$\n",
    "\n",
    "$$0.475 = 1.8999999999999999 \\times 2^{-2}$$\n",
    "\n",
    "$M$ noemt men _de mantisse_ en $E$ _de exponent_. Een floating-point getal encoderen kan dus via het opslaan van de mantisse en de exponent en een extra bit voor het teken. \n",
    "\n",
    "In het voorbeeld van het getal $10$ : $M = .25$ en $E=3$ en dus \n",
    "\n",
    "$$M =  0 \\times 2^{-1} + 1 \\times 2^{-2} = .01$$\n",
    "$$E = 1 \\times 2^{1} + 1 \\times 2^{0} = 11$$\n",
    "\n",
    "en dus $$10 = 1.01 \\times 2^{11}$$"
   ]
  },
  {
   "cell_type": "markdown",
   "id": "1348f9a5-5093-4fb6-ac0c-8583f57f287f",
   "metadata": {
    "slideshow": {
     "slide_type": "subslide"
    },
    "tags": []
   },
   "source": [
    "Hoeveel bits gebruikt worden om de 3 onderdelen van de float (teken, mantisse en exponent) op te slaan is vastgelegd in de IEEE standaard:\n",
    "- **Float 64** (“double precision”) reserveert 53 bits voor de mantisse, 11 bits voor de exponent en 1 tekenbit.\n",
    "\n",
    "- **Float 32** (“single precision”) reserveert 24 bits voor de mantisse, 8 bits voor de  exponent en 1 tekenbit"
   ]
  },
  {
   "cell_type": "markdown",
   "id": "4d4f8521-9a32-47bd-bec0-68df80284b6c",
   "metadata": {
    "slideshow": {
     "slide_type": "slide"
    },
    "tags": []
   },
   "source": [
    "### <center> **3. Wiskundige functies en methoden**"
   ]
  },
  {
   "cell_type": "markdown",
   "id": "8f66a5b7-50dd-4e4d-aaee-3cc38122f9c9",
   "metadata": {
    "slideshow": {
     "slide_type": "fragment"
    },
    "tags": []
   },
   "source": [
    "Python heeft verschillende _built-in_ functies voor het werken met getallen zoals <kbd> round() </kbd>, <kbd> abs() </kbd> en <kbd> pow() </kbd>:"
   ]
  },
  {
   "cell_type": "code",
   "execution_count": 42,
   "id": "03348f4a-4623-47ca-b8ea-2c6202f9e9f0",
   "metadata": {
    "slideshow": {
     "slide_type": "fragment"
    },
    "tags": []
   },
   "outputs": [
    {
     "data": {
      "text/plain": [
       "2"
      ]
     },
     "execution_count": 42,
     "metadata": {},
     "output_type": "execute_result"
    }
   ],
   "source": [
    "round(2.3)"
   ]
  },
  {
   "cell_type": "code",
   "execution_count": 43,
   "id": "a08de29f-6ec2-4547-8364-dc30cbebb015",
   "metadata": {
    "slideshow": {
     "slide_type": "fragment"
    },
    "tags": []
   },
   "outputs": [
    {
     "data": {
      "text/plain": [
       "3"
      ]
     },
     "execution_count": 43,
     "metadata": {},
     "output_type": "execute_result"
    }
   ],
   "source": [
    "round(2.7)"
   ]
  },
  {
   "cell_type": "code",
   "execution_count": 68,
   "id": "4da256b2-a054-48f5-a462-b4abcf3a8f72",
   "metadata": {
    "slideshow": {
     "slide_type": "subslide"
    },
    "tags": []
   },
   "outputs": [
    {
     "data": {
      "text/plain": [
       "2"
      ]
     },
     "execution_count": 68,
     "metadata": {},
     "output_type": "execute_result"
    }
   ],
   "source": [
    "round(2.5)"
   ]
  },
  {
   "cell_type": "code",
   "execution_count": 69,
   "id": "2e0fd1a1-38f1-43da-98d9-a0a381e4946d",
   "metadata": {
    "slideshow": {
     "slide_type": "fragment"
    },
    "tags": []
   },
   "outputs": [
    {
     "data": {
      "text/plain": [
       "4"
      ]
     },
     "execution_count": 69,
     "metadata": {},
     "output_type": "execute_result"
    }
   ],
   "source": [
    "round(3.5)"
   ]
  },
  {
   "cell_type": "markdown",
   "id": "79348fd8-80c6-4939-9ce3-d9847c6699ab",
   "metadata": {
    "slideshow": {
     "slide_type": "fragment"
    },
    "tags": []
   },
   "source": [
    "Het antwoord van vorige voorbeelden lijkt vreemd. Waarom wordt $2.5$ niet naar boven afgerond en $3.5$ wel?\n",
    "\n",
    "Python volgt hierin de IEEE aanbeveling door af te ronden volgens het principe van **rounding ties to even** , dwz. $2$ is even en zal dus niet naar boven afgerond worden naar iets niet-even, terwijl $3$ wel afgerond wordt naar een even getal. Dit is een strategie om floating point representatie errors te minimaliseren."
   ]
  },
  {
   "cell_type": "markdown",
   "id": "1a016284-3ff1-48f0-94a4-cf73cce65973",
   "metadata": {
    "slideshow": {
     "slide_type": "subslide"
    },
    "tags": []
   },
   "source": [
    "Je kan ook meegeven tot op welke decimaal je wil afronden door een extra geheel argument mee te geven:"
   ]
  },
  {
   "cell_type": "code",
   "execution_count": 46,
   "id": "3b312cda-d999-47ef-9e56-d3ccb4a3cf16",
   "metadata": {
    "slideshow": {
     "slide_type": "fragment"
    },
    "tags": []
   },
   "outputs": [
    {
     "data": {
      "text/plain": [
       "3.142"
      ]
     },
     "execution_count": 46,
     "metadata": {},
     "output_type": "execute_result"
    }
   ],
   "source": [
    "round(3.14159,3)"
   ]
  },
  {
   "cell_type": "code",
   "execution_count": 80,
   "id": "1105ba16-fb77-4047-9474-287c0fb69279",
   "metadata": {
    "slideshow": {
     "slide_type": "fragment"
    },
    "tags": []
   },
   "outputs": [
    {
     "data": {
      "text/plain": [
       "3.144"
      ]
     },
     "execution_count": 80,
     "metadata": {},
     "output_type": "execute_result"
    }
   ],
   "source": [
    "round(3.1445,3)"
   ]
  },
  {
   "cell_type": "code",
   "execution_count": 81,
   "id": "26bb4cd5-c6cc-4982-94c5-f31f23480a00",
   "metadata": {
    "slideshow": {
     "slide_type": "fragment"
    },
    "tags": []
   },
   "outputs": [
    {
     "data": {
      "text/plain": [
       "7.125"
      ]
     },
     "execution_count": 81,
     "metadata": {},
     "output_type": "execute_result"
    }
   ],
   "source": [
    "round(7.1245,3) # ook het effect van presentatie van float getallen"
   ]
  },
  {
   "cell_type": "markdown",
   "id": "36178114-9039-4c59-b8c7-7a629adc8372",
   "metadata": {
    "slideshow": {
     "slide_type": "subslide"
    },
    "tags": []
   },
   "source": [
    "De <kbd> abs() </kbd> functie zal de absolute waarde van een getal teruggeven. Dit is uiteraard altijd een positief getal en heeft het type van de input:"
   ]
  },
  {
   "cell_type": "code",
   "execution_count": 48,
   "id": "2f3e5b88-41d2-4693-9ebe-7c6063b48163",
   "metadata": {
    "slideshow": {
     "slide_type": "fragment"
    },
    "tags": []
   },
   "outputs": [
    {
     "data": {
      "text/plain": [
       "25"
      ]
     },
     "execution_count": 48,
     "metadata": {},
     "output_type": "execute_result"
    }
   ],
   "source": [
    "abs(25)"
   ]
  },
  {
   "cell_type": "code",
   "execution_count": 49,
   "id": "c65e5b3e-6980-418b-88e5-25ec31e3d3cd",
   "metadata": {
    "slideshow": {
     "slide_type": "fragment"
    },
    "tags": []
   },
   "outputs": [
    {
     "data": {
      "text/plain": [
       "25.0"
      ]
     },
     "execution_count": 49,
     "metadata": {},
     "output_type": "execute_result"
    }
   ],
   "source": [
    "abs(-25.0)"
   ]
  },
  {
   "cell_type": "markdown",
   "id": "7330e0e2-776b-49db-85f3-96115dff1846",
   "metadata": {
    "slideshow": {
     "slide_type": "subslide"
    },
    "tags": []
   },
   "source": [
    "De <kbd> pow() </kbd> functie berekent machten aan de hand van een basis en exponent. Deze functie doet hetzelfde als de operator **"
   ]
  },
  {
   "cell_type": "code",
   "execution_count": 50,
   "id": "546d9f53-2c24-416c-8319-027af21d1453",
   "metadata": {
    "slideshow": {
     "slide_type": "fragment"
    },
    "tags": []
   },
   "outputs": [
    {
     "data": {
      "text/plain": [
       "8"
      ]
     },
     "execution_count": 50,
     "metadata": {},
     "output_type": "execute_result"
    }
   ],
   "source": [
    "pow(2,3) # 2 is de basis - 3 de exponent : 2^3"
   ]
  },
  {
   "cell_type": "code",
   "execution_count": 51,
   "id": "2a33aada-ded2-4a1a-ae1e-485e28853756",
   "metadata": {
    "slideshow": {
     "slide_type": "fragment"
    },
    "tags": []
   },
   "outputs": [
    {
     "data": {
      "text/plain": [
       "0.25"
      ]
     },
     "execution_count": 51,
     "metadata": {},
     "output_type": "execute_result"
    }
   ],
   "source": [
    "pow(2,-2)"
   ]
  },
  {
   "cell_type": "code",
   "execution_count": 52,
   "id": "48681896-e788-4751-aa11-abd3ee3b1a97",
   "metadata": {
    "slideshow": {
     "slide_type": "fragment"
    },
    "tags": []
   },
   "outputs": [
    {
     "data": {
      "text/plain": [
       "4"
      ]
     },
     "execution_count": 52,
     "metadata": {},
     "output_type": "execute_result"
    }
   ],
   "source": [
    "pow(-2,2)"
   ]
  },
  {
   "cell_type": "code",
   "execution_count": 53,
   "id": "d20082bb-5699-40ce-b12d-18a952ffee06",
   "metadata": {
    "slideshow": {
     "slide_type": "fragment"
    },
    "tags": []
   },
   "outputs": [
    {
     "data": {
      "text/plain": [
       "4.840000000000001"
      ]
     },
     "execution_count": 53,
     "metadata": {},
     "output_type": "execute_result"
    }
   ],
   "source": [
    "pow(2.2 , 2) # basis kan reëel zijn"
   ]
  },
  {
   "cell_type": "code",
   "execution_count": 54,
   "id": "2241b4cb-7193-4478-b188-3e3d412b1785",
   "metadata": {
    "slideshow": {
     "slide_type": "fragment"
    },
    "tags": []
   },
   "outputs": [
    {
     "data": {
      "text/plain": [
       "4.59479341998814"
      ]
     },
     "execution_count": 54,
     "metadata": {},
     "output_type": "execute_result"
    }
   ],
   "source": [
    "pow(2,2.2) # exponent kan reëel zijn"
   ]
  },
  {
   "cell_type": "markdown",
   "id": "ae4dcd82-4c10-4c90-a7e8-194626d2f191",
   "metadata": {
    "slideshow": {
     "slide_type": "subslide"
    },
    "tags": []
   },
   "source": [
    "Wanneer _pow()_ 3 argumenten krijgt gedraagt de functie zich als volgt:\n",
    "\n",
    "$pow(x,y,z) = (x ** y) \\; \\% \\;z$"
   ]
  },
  {
   "cell_type": "code",
   "execution_count": 55,
   "id": "d4c12c8f-ff1a-4b45-969d-d3506552e39c",
   "metadata": {
    "slideshow": {
     "slide_type": "fragment"
    },
    "tags": []
   },
   "outputs": [
    {
     "data": {
      "text/plain": [
       "0"
      ]
     },
     "execution_count": 55,
     "metadata": {},
     "output_type": "execute_result"
    }
   ],
   "source": [
    "pow(2,3,2)"
   ]
  },
  {
   "cell_type": "code",
   "execution_count": 56,
   "id": "51a2cade-a169-464b-af0b-c6c2ac6ef981",
   "metadata": {
    "slideshow": {
     "slide_type": "fragment"
    },
    "tags": []
   },
   "outputs": [
    {
     "data": {
      "text/plain": [
       "1"
      ]
     },
     "execution_count": 56,
     "metadata": {},
     "output_type": "execute_result"
    }
   ],
   "source": [
    "pow(3,2,2)"
   ]
  },
  {
   "cell_type": "code",
   "execution_count": 16,
   "id": "94e7c539-8038-4c3b-a024-ec710ddb3a76",
   "metadata": {
    "slideshow": {
     "slide_type": "subslide"
    },
    "tags": []
   },
   "outputs": [
    {
     "data": {
      "text/plain": [
       "'0b1100'"
      ]
     },
     "execution_count": 16,
     "metadata": {},
     "output_type": "execute_result"
    }
   ],
   "source": [
    "bin(12)"
   ]
  },
  {
   "cell_type": "code",
   "execution_count": 12,
   "id": "cc0f0cb5-7cb3-47b4-8d21-0d9350572aa4",
   "metadata": {
    "slideshow": {
     "slide_type": "fragment"
    },
    "tags": []
   },
   "outputs": [
    {
     "data": {
      "text/plain": [
       "'0xc'"
      ]
     },
     "execution_count": 12,
     "metadata": {},
     "output_type": "execute_result"
    }
   ],
   "source": [
    "hex(12)"
   ]
  },
  {
   "cell_type": "code",
   "execution_count": 14,
   "id": "2c3a1694-1419-4bec-9f03-15d351bcb7d6",
   "metadata": {
    "slideshow": {
     "slide_type": "fragment"
    },
    "tags": []
   },
   "outputs": [
    {
     "data": {
      "text/plain": [
       "'0o14'"
      ]
     },
     "execution_count": 14,
     "metadata": {},
     "output_type": "execute_result"
    }
   ],
   "source": [
    "oct(12)"
   ]
  },
  {
   "cell_type": "markdown",
   "id": "0c705235-1bf9-49e1-bf4f-e97370d3d3ea",
   "metadata": {
    "slideshow": {
     "slide_type": "subslide"
    },
    "tags": []
   },
   "source": [
    "#### <center> **Methoden versus functies**"
   ]
  },
  {
   "cell_type": "markdown",
   "id": "5205e1dd-85c6-4b9c-8024-4dfae0c5dd12",
   "metadata": {
    "slideshow": {
     "slide_type": "fragment"
    },
    "tags": []
   },
   "source": [
    "Zoals eerder vermeld, alles in Python is een object, dus ook de basis numerieke types. Naast functies bestaan er dan ook methoden die specifiek werken op de numerieke types. De <kbd> is_integer() </kbd> methode is zo eentje die je kan toepassen op float types om na te gaan of het onderliggende getal eigenlijk geheel is.\n",
    "\n",
    "<div class=\"alert fade alert-info\">\n",
    "\n",
    "- Methoden kan je alleen toepassen op data van een specifiek type, namelijk dit type waarin de methode gedefinieerd is. Methoden voor numerieke types werken alleen op numerieke data.\n",
    "\n",
    "- Het toepassen van een methode doe je via de <b> dot operator </b>\n"
   ]
  },
  {
   "cell_type": "code",
   "execution_count": 57,
   "id": "30bd0c37-be40-4545-8140-dd400b214b19",
   "metadata": {
    "slideshow": {
     "slide_type": "subslide"
    },
    "tags": []
   },
   "outputs": [
    {
     "name": "stdout",
     "output_type": "stream",
     "text": [
      "<class 'float'>\n"
     ]
    },
    {
     "data": {
      "text/plain": [
       "False"
      ]
     },
     "execution_count": 57,
     "metadata": {},
     "output_type": "execute_result"
    }
   ],
   "source": [
    "num1 = 3.14159\n",
    "print(type(num1))\n",
    "num1.is_integer()"
   ]
  },
  {
   "cell_type": "code",
   "execution_count": 58,
   "id": "f0692e6b-857f-4a01-ba93-0a03149a96cd",
   "metadata": {
    "slideshow": {
     "slide_type": "fragment"
    },
    "tags": []
   },
   "outputs": [
    {
     "name": "stdout",
     "output_type": "stream",
     "text": [
      "<class 'float'>\n"
     ]
    },
    {
     "data": {
      "text/plain": [
       "True"
      ]
     },
     "execution_count": 58,
     "metadata": {},
     "output_type": "execute_result"
    }
   ],
   "source": [
    "num2 = 10.0\n",
    "print(type(num2))\n",
    "num2.is_integer()"
   ]
  },
  {
   "cell_type": "code",
   "execution_count": 59,
   "id": "334e84f1-8d95-488b-ac50-34697366cda1",
   "metadata": {
    "slideshow": {
     "slide_type": "subslide"
    },
    "tags": []
   },
   "outputs": [
    {
     "name": "stdout",
     "output_type": "stream",
     "text": [
      "<class 'int'>\n"
     ]
    },
    {
     "ename": "AttributeError",
     "evalue": "'int' object has no attribute 'is_integer'",
     "output_type": "error",
     "traceback": [
      "\u001b[1;31m---------------------------------------------------------------------------\u001b[0m",
      "\u001b[1;31mAttributeError\u001b[0m                            Traceback (most recent call last)",
      "Cell \u001b[1;32mIn[59], line 3\u001b[0m\n\u001b[0;32m      1\u001b[0m num3 \u001b[38;5;241m=\u001b[39m \u001b[38;5;241m10\u001b[39m\n\u001b[0;32m      2\u001b[0m \u001b[38;5;28mprint\u001b[39m(\u001b[38;5;28mtype\u001b[39m(num3))\n\u001b[1;32m----> 3\u001b[0m \u001b[43mnum3\u001b[49m\u001b[38;5;241;43m.\u001b[39;49m\u001b[43mis_integer\u001b[49m()\n",
      "\u001b[1;31mAttributeError\u001b[0m: 'int' object has no attribute 'is_integer'"
     ]
    }
   ],
   "source": [
    "num3 = 10\n",
    "print(type(num3))\n",
    "num3.is_integer()"
   ]
  },
  {
   "cell_type": "markdown",
   "id": "208547b2-6d41-41f7-a6bc-b46024a64cc8",
   "metadata": {
    "slideshow": {
     "slide_type": "slide"
    },
    "tags": []
   },
   "source": [
    "### <center> **4. Formatteren van getallen**"
   ]
  },
  {
   "cell_type": "markdown",
   "id": "38fb57da-0812-4495-8a80-53ddcee62644",
   "metadata": {
    "slideshow": {
     "slide_type": "fragment"
    },
    "tags": []
   },
   "source": [
    "**f-strings** kan je eveneens gebruiken om getallen netjes te formatteren zoals gewenst. Je kan het aantal decimalen bepalen, waarbij onderliggend de _round()_ methode wordt toegepast. Maar zoals ook eerder al getoond, je kan ook formatteren naar wetenschappelijke notatie of zelfs binair of hexadecimale representaties eenvoudig weergeven. "
   ]
  },
  {
   "cell_type": "code",
   "execution_count": 60,
   "id": "94e5fd3d-7c38-4bde-84e6-0904239e75d6",
   "metadata": {
    "slideshow": {
     "slide_type": "fragment"
    },
    "tags": []
   },
   "outputs": [
    {
     "data": {
      "text/plain": [
       "'een afgeronde versie van het getal π : 3.14'"
      ]
     },
     "execution_count": 60,
     "metadata": {},
     "output_type": "execute_result"
    }
   ],
   "source": [
    "n = 3.14159\n",
    "f'een afgeronde versie van het getal \\u03C0 : {n:.2f}'"
   ]
  },
  {
   "cell_type": "code",
   "execution_count": 61,
   "id": "13f10b9c-f3e5-4b05-b32c-ab8d95d4a3dd",
   "metadata": {
    "slideshow": {
     "slide_type": "fragment"
    },
    "tags": []
   },
   "outputs": [
    {
     "data": {
      "text/plain": [
       "'een afgeronde versie van het getal π : 3.1416'"
      ]
     },
     "execution_count": 61,
     "metadata": {},
     "output_type": "execute_result"
    }
   ],
   "source": [
    "n = 3.14159\n",
    "f'een afgeronde versie van het getal \\u03C0 : {n:.4f}'"
   ]
  },
  {
   "cell_type": "code",
   "execution_count": 62,
   "id": "5d5184fa-5389-4a10-8b07-7b5c319e9f1f",
   "metadata": {
    "slideshow": {
     "slide_type": "subslide"
    },
    "tags": []
   },
   "outputs": [
    {
     "name": "stdout",
     "output_type": "stream",
     "text": [
      "1.500\n"
     ]
    }
   ],
   "source": [
    "float_val = 1.5\n",
    "precision = 3\n",
    "\n",
    "print(f\"{float_val:.{precision}f}\")"
   ]
  },
  {
   "cell_type": "code",
   "execution_count": 70,
   "id": "6206dc30-4314-4aae-92c9-d69d49ed4e15",
   "metadata": {
    "slideshow": {
     "slide_type": "fragment"
    },
    "tags": []
   },
   "outputs": [
    {
     "name": "stdout",
     "output_type": "stream",
     "text": [
      "Percentage1: 50.000000%\n",
      "Percentage1: 50%\n",
      "Percentage2: 125.5%\n"
     ]
    }
   ],
   "source": [
    "percentage1 = 0.5\n",
    "percentage2 = 1.255\n",
    "\n",
    "print(f\"Percentage1: {percentage1:%}\")\n",
    "print(f\"Percentage1: {percentage1:.0%}\")\n",
    "print(f\"Percentage2: {percentage2:.1%}\")"
   ]
  },
  {
   "cell_type": "code",
   "execution_count": 64,
   "id": "ef225625-b460-4084-bb90-684f9dcd0937",
   "metadata": {
    "slideshow": {
     "slide_type": "subslide"
    },
    "tags": []
   },
   "outputs": [
    {
     "name": "stdout",
     "output_type": "stream",
     "text": [
      "10\n",
      "10\n",
      "10000\n",
      "1.600000e+01\n"
     ]
    }
   ],
   "source": [
    "val = 16\n",
    "\n",
    "# hexadecimal lower\n",
    "print(f'{val:x}')\n",
    "\n",
    "# hexadecimal upper\n",
    "print(f'{val:X}')\n",
    "\n",
    "# binary\n",
    "print(f'{val:b}')\n",
    "\n",
    "# scientific\n",
    "print(f'{val:e}')"
   ]
  },
  {
   "cell_type": "markdown",
   "id": "14298b1d-ce7c-4a40-a3e5-41170c37168c",
   "metadata": {
    "slideshow": {
     "slide_type": "fragment"
    },
    "tags": []
   },
   "source": [
    "Een goed overzicht van de werkwijze van _f-strings_ vind je op [Python f-string cheat sheet](https://fstring.help/cheat/)\n"
   ]
  },
  {
   "cell_type": "markdown",
   "id": "0762c2f0-dc15-4a3c-8472-a27c10b7166c",
   "metadata": {
    "slideshow": {
     "slide_type": "slide"
    },
    "tags": []
   },
   "source": [
    "### <center> **Oefening**\n",
    "    \n",
    "Radioactief verval treedt op wanneer een instabiel atoom energie verliest door ioniserende straling uit te zenden. De snelheid van radioactief verval wordt gemeten met behulp van de halfwaardetijd $T$, wat de tijd is die nodig is om de helft van de hoeveelheid van de atoomkern te laten vervallen. \n",
    "Je kunt het vervalproces berekenen met de volgende formule:\n",
    "$$\n",
    "N_{(t)} = N_{(0)} e^{\\frac{-ln(2) * t}{T}} \n",
    "$$\n",
    "Hierin is:\n",
    "- $N(0)$ de initiële hoeveelheid van de instantie\n",
    "- $N(t)$ de hoeveelheid van de instantie die nog niet vervallen is op tijdstip t\n",
    "- T is de halfwaardetijd\n",
    "- e is het getal van Euler\n",
    "    \n",
    "Wat is de hoeveelheid van de radio-actieve stof die overblijft na een gegeven aantal jaren?"
   ]
  },
  {
   "cell_type": "markdown",
   "id": "5c1b65a7-8920-4cca-8fd1-aeb67bed845e",
   "metadata": {
    "slideshow": {
     "slide_type": "subslide"
    },
    "tags": []
   },
   "source": [
    "\n",
    "**Voorbeeld:** de radioisotope strontium-90 heeft een $T=38.1$, de initiële hoeveelheid is $100 mg$. Wat is de hoeveelheid niet vervallen Sr-90 na 100 jaar?"
   ]
  },
  {
   "cell_type": "code",
   "execution_count": 4,
   "id": "1a39e63c-c725-4a45-83c0-1a9b5e97f4fd",
   "metadata": {
    "slideshow": {
     "slide_type": "fragment"
    },
    "tags": []
   },
   "outputs": [
    {
     "name": "stdout",
     "output_type": "stream",
     "text": [
      "Remaining quantity of Sr-90: 16.21418\n"
     ]
    }
   ],
   "source": [
    "import math\n",
    "\n",
    "half_life = 38.1\n",
    "initial = 100\n",
    "time = 100\n",
    "remaining = initial * math.exp(- math.log(2) * time / half_life)\n",
    "\n",
    "print(f\"Remaining quantity of Sr-90: {remaining:.5f}\")"
   ]
  },
  {
   "cell_type": "markdown",
   "id": "79b461ce-1685-48e1-9b0f-b526fa0679a0",
   "metadata": {
    "slideshow": {
     "slide_type": "slide"
    },
    "tags": []
   },
   "source": [
    "### <center> **Extra materiaal**"
   ]
  },
  {
   "cell_type": "markdown",
   "id": "e768e56f-1a51-4b35-9872-609fbf3c0de2",
   "metadata": {
    "slideshow": {
     "slide_type": "fragment"
    },
    "tags": []
   },
   "source": [
    "- [Basic data types in Python: Integers](https://realpython.com/python-data-types/#integers)\n",
    "\n",
    "- [Basic data types in Python: floating point numbers](https://realpython.com/python-data-types/#floating-point-numbers)\n",
    "\n",
    "- [Floating point numbers and rounding errors - a crash course in Python](https://www.tomasbeuzen.com/post/floating-point-numbers/)\n",
    "\n",
    "- [The Python math Module: Everything You Need to Know](https://realpython.com/python-math-module/)\n",
    " \n",
    "- [Python f-string](https://zetcode.com/python/fstring/)\n",
    " \n",
    "- [Online Quiz](https://realpython.com/quizzes/pybasics-numbers/)"
   ]
  }
 ],
 "metadata": {
  "kernelspec": {
   "display_name": "Python 3 (ipykernel)",
   "language": "python",
   "name": "python3"
  },
  "language_info": {
   "codemirror_mode": {
    "name": "ipython",
    "version": 3
   },
   "file_extension": ".py",
   "mimetype": "text/x-python",
   "name": "python",
   "nbconvert_exporter": "python",
   "pygments_lexer": "ipython3",
   "version": "3.11.7"
  }
 },
 "nbformat": 4,
 "nbformat_minor": 5
}
