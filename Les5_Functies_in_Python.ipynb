{
 "cells": [
  {
   "attachments": {
    "613b4eef-dc9f-43b9-883b-387574b7ccca.jpg": {
     "image/jpeg": "[encoded data removed]"
    }
   },
   "cell_type": "markdown",
   "id": "6dfceb07-9d8e-4bf5-b053-4e30014a92e3",
   "metadata": {
    "slideshow": {
     "slide_type": "slide"
    }
   },
   "source": [
    "## <center> Programming Fundamentals \n",
    "### <center> **Academiejaar 2024 - 2025** \n",
    "### <center> ![OIP.jpg](attachment:613b4eef-dc9f-43b9-883b-387574b7ccca.jpg)\n",
    "\n",
    "#### **Les 5 : Functies in Python**\n",
    "\n",
    "__1.__ Wat zijn functies?\n",
    "\n",
    "__2.__ Built-in functies, packages en modules\n",
    "\n",
    "__3.__ Zelf functies schrijven\n",
    "    \n",
    "__4.__ Documentatie van functies\n",
    "    \n",
    "        "
   ]
  },
  {
   "cell_type": "markdown",
   "id": "d5796763-8332-4991-93a4-cb6f559aab30",
   "metadata": {
    "slideshow": {
     "slide_type": "slide"
    },
    "tags": []
   },
   "source": [
    "### <center> **1. Wat zijn functies?**"
   ]
  },
  {
   "cell_type": "markdown",
   "id": "39baf05e-860d-4d7f-9430-bd1125f8ce12",
   "metadata": {
    "slideshow": {
     "slide_type": "fragment"
    },
    "tags": []
   },
   "source": [
    "<div class=\"alert fade alert-info\">\n",
    "Een <b> functie </b> in Python voert een welbepaalde taak uit, waarbij mogelijke inputparameters omgezet worden naar een bepaalde output. \n",
    "    \n",
    "Een functie bestaat uit een :\n",
    " \n",
    "- een <b> definitie </b> met een <b> functienaam </b> en <b> parameters </b>. Dit noemt men ook de <b> signatuur </b> van de functie.\n",
    "   \n",
    "- een <b> body </b> die de lijnen code bevat, met hierin de instructies die uitgevoerd worden als de functie wordt <b> opgeroepen </b>.\n",
    "    "
   ]
  },
  {
   "cell_type": "markdown",
   "id": "1b1f232d-a85c-4fb2-bf32-13ace15b299a",
   "metadata": {
    "slideshow": {
     "slide_type": "fragment"
    },
    "tags": []
   },
   "source": [
    "Python heeft een heleboel ingebouwde functies zoals bijv. &nbsp; <kbd> print() </kbd>, &nbsp; <kbd> len() </kbd> en &nbsp; <kbd> round() </kbd>\n",
    "\n",
    "Maar het is ook mogelijk om zelf je eigen functies te definiëren. "
   ]
  },
  {
   "cell_type": "markdown",
   "id": "21de7791-72f7-4f7a-bb18-5f694c386e01",
   "metadata": {
    "slideshow": {
     "slide_type": "subslide"
    },
    "tags": []
   },
   "source": [
    "   \n",
    "- Een functie is een vorm van **abstractie**, de instructies in de body worden als het ware verstopt voor de gebruiker van de functie. Je hoeft alleen de naam te kennen en weten wat het type van de inputparameters en output zijn om de functie te kunnen gebruiken. Op die manier kan je complexe code toch gebruiken in je eigen programma's.\n",
    "\n",
    "- Een functie heeft **1 bepaalde taak**. Deze taak wordt 1 x gecodeerd in de functiebody, en deze kan dan oneindig veel opgeroepen worden. Op deze manier voorkom je dat dezelfde taak telkens opnieuw moet gecodeerd worden.\n",
    "\n",
    "- Door een grote taak op te splitsen in deeltaken, en per deeltaak een functie te voorzien, zorg je ervoor dat je code opgedeeld wordt in overzichtelijke, **onderhoudbare** en **herbruikbare** blokken.\n"
   ]
  },
  {
   "cell_type": "markdown",
   "id": "0b550ebb-9f58-4dd6-9736-c72d6ccf220c",
   "metadata": {
    "slideshow": {
     "slide_type": "subslide"
    },
    "tags": []
   },
   "source": [
    "Functies zijn (zoals alles in Python) objecten van een bepaald type:"
   ]
  },
  {
   "cell_type": "code",
   "execution_count": 1,
   "id": "0c73be5d-cef2-45ca-bdfb-cfb90a20588c",
   "metadata": {
    "slideshow": {
     "slide_type": "fragment"
    },
    "tags": []
   },
   "outputs": [
    {
     "data": {
      "text/plain": [
       "<function len(obj, /)>"
      ]
     },
     "execution_count": 1,
     "metadata": {},
     "output_type": "execute_result"
    }
   ],
   "source": [
    "len"
   ]
  },
  {
   "cell_type": "code",
   "execution_count": 56,
   "id": "dbce8e99-c1b4-4a70-bf8b-01634116a82e",
   "metadata": {
    "slideshow": {
     "slide_type": "fragment"
    },
    "tags": []
   },
   "outputs": [
    {
     "name": "stdout",
     "output_type": "stream",
     "text": [
      "<class 'builtin_function_or_method'>\n"
     ]
    }
   ],
   "source": [
    "print(type(len))"
   ]
  },
  {
   "attachments": {
    "acc471ee-b8fc-47ff-88ce-7b64bb95d7e0.png": {
     "image/png": "[encoded data removed]"
    }
   },
   "cell_type": "markdown",
   "id": "d7762602-0c63-4cd9-ae5e-4c6c0f765a2a",
   "metadata": {
    "slideshow": {
     "slide_type": "subslide"
    },
    "tags": []
   },
   "source": [
    "<div class=\"alert alert-block alert-danger\">\n",
    "<b>Opgelet:</b>  namen van functies zijn geen voorbehouden namen in Python, je kan ze perfect overschrijven.\n",
    "</div>\n",
    "\n",
    "![len.png](attachment:acc471ee-b8fc-47ff-88ce-7b64bb95d7e0.png)"
   ]
  },
  {
   "cell_type": "markdown",
   "id": "54fc6a9b-8ac1-4fd6-9eb9-65a70b3fd205",
   "metadata": {
    "slideshow": {
     "slide_type": "subslide"
    },
    "tags": []
   },
   "source": [
    "Een **functie oproepen** doe je altijd door de naam van de functie te laten volgen door ronde haakjes &nbsp; <kbd> () </kbd> met hierin de eventuele parameterwaarden."
   ]
  },
  {
   "cell_type": "code",
   "execution_count": 1,
   "id": "5c99bba8-ea14-427e-a6d8-72777f2aec52",
   "metadata": {
    "slideshow": {
     "slide_type": "fragment"
    },
    "tags": []
   },
   "outputs": [
    {
     "data": {
      "text/plain": [
       "<function len(obj, /)>"
      ]
     },
     "execution_count": 1,
     "metadata": {},
     "output_type": "execute_result"
    }
   ],
   "source": [
    "len "
   ]
  },
  {
   "cell_type": "code",
   "execution_count": 2,
   "id": "b41d55ea-2052-4448-a630-ae26be9ac0ec",
   "metadata": {},
   "outputs": [
    {
     "data": {
      "text/plain": [
       "1738214167776"
      ]
     },
     "execution_count": 2,
     "metadata": {},
     "output_type": "execute_result"
    }
   ],
   "source": [
    "id(len)  # ook een functie is een object met een id"
   ]
  },
  {
   "cell_type": "code",
   "execution_count": 4,
   "id": "8529d72b-693d-4f2d-8ab8-8d4183dc744c",
   "metadata": {
    "slideshow": {
     "slide_type": "fragment"
    },
    "tags": []
   },
   "outputs": [
    {
     "ename": "TypeError",
     "evalue": "len() takes exactly one argument (0 given)",
     "output_type": "error",
     "traceback": [
      "\u001b[1;31m---------------------------------------------------------------------------\u001b[0m",
      "\u001b[1;31mTypeError\u001b[0m                                 Traceback (most recent call last)",
      "Cell \u001b[1;32mIn[4], line 1\u001b[0m\n\u001b[1;32m----> 1\u001b[0m \u001b[38;5;28;43mlen\u001b[39;49m\u001b[43m(\u001b[49m\u001b[43m)\u001b[49m\n",
      "\u001b[1;31mTypeError\u001b[0m: len() takes exactly one argument (0 given)"
     ]
    }
   ],
   "source": [
    "len()"
   ]
  },
  {
   "cell_type": "code",
   "execution_count": 5,
   "id": "549d4c2e-12a6-449b-ae91-40a7a6b4281d",
   "metadata": {
    "slideshow": {
     "slide_type": "fragment"
    },
    "tags": []
   },
   "outputs": [
    {
     "data": {
      "text/plain": [
       "15"
      ]
     },
     "execution_count": 5,
     "metadata": {},
     "output_type": "execute_result"
    }
   ],
   "source": [
    "len(\"hoelang ben ik?\")"
   ]
  },
  {
   "cell_type": "markdown",
   "id": "5b5f8865-e3d6-4b06-ac80-9ee23a4fa54b",
   "metadata": {
    "slideshow": {
     "slide_type": "subslide"
    },
    "tags": []
   },
   "source": [
    "De volgende stappen worden doorlopen wanneer een functie opgeroepen wordt:\n",
    "\n",
    "1. **OPROEP:** de functie wordt opgroepen en eerst worden de eventuele inputparameters geëvalueerd.\n",
    "\n",
    "2. **EVALUATIE:** de body van de functie wordt uitgevoerd en hierbij worden de eventuele parameterwaarden gebruikt.\n",
    "\n",
    "3. **RETURN:** de oproep eindigt doordat het resultaat van de functie wordt teruggeven, de oproep wordt vervangen door de eventuele berekende output "
   ]
  },
  {
   "cell_type": "markdown",
   "id": "8226508c-ee38-4964-bf1e-16fa96c83fbc",
   "metadata": {
    "slideshow": {
     "slide_type": "fragment"
    },
    "tags": []
   },
   "source": [
    "```\n",
    "lengte = len(\"hoelang ben ik?\")\n",
    "\n",
    "```\n",
    "\n",
    "na oproep van de _len()_ functie staat er eigenlijk:\n",
    "\n",
    "```\n",
    "lengte = 15\n",
    "\n",
    "```\n"
   ]
  },
  {
   "cell_type": "markdown",
   "id": "8bc0fa20-76ff-4b11-ba97-4305a34cd43e",
   "metadata": {
    "slideshow": {
     "slide_type": "subslide"
    },
    "tags": []
   },
   "source": [
    "De inputparameters kunnen zelf ook het resultaat van een oproep zijn:"
   ]
  },
  {
   "cell_type": "code",
   "execution_count": 9,
   "id": "739d1ae5-2d83-40c1-a724-48a064467227",
   "metadata": {
    "slideshow": {
     "slide_type": "fragment"
    },
    "tags": []
   },
   "outputs": [
    {
     "data": {
      "text/plain": [
       "15"
      ]
     },
     "execution_count": 9,
     "metadata": {},
     "output_type": "execute_result"
    }
   ],
   "source": [
    "round(len(\"hoelang ben ik?\")) # oproep len wordt eerst geëvalueerd "
   ]
  },
  {
   "cell_type": "code",
   "execution_count": 10,
   "id": "a9e98ce6-8e19-4623-9f6e-d978d303185f",
   "metadata": {},
   "outputs": [
    {
     "data": {
      "text/plain": [
       "19"
      ]
     },
     "execution_count": 10,
     "metadata": {},
     "output_type": "execute_result"
    }
   ],
   "source": [
    "round(2.1 ** 4) # eerst wordt de macht uitgerekend"
   ]
  },
  {
   "cell_type": "markdown",
   "id": "e68429f6-01e3-4d45-8447-ca5d61d0ddb7",
   "metadata": {
    "slideshow": {
     "slide_type": "subslide"
    },
    "tags": []
   },
   "source": [
    "**Functies hoeven geen input te nemen of output te genereren** om nuttig te zijn.\n",
    "Een functie kan immers ook **side-effects** genereren.\n",
    "\n",
    "Bijvoorbeeld de _print()_ methode neemt wel een input (een string bvb) maar creeërt geen nieuwe waarde als output. Wat er wel gebeurt na uitvoeren van _print()_ is dat de input op de terminal / Python shell verschijnt."
   ]
  },
  {
   "cell_type": "code",
   "execution_count": 12,
   "id": "a2e7a6b6-da38-46bc-a346-4d7fb6d63499",
   "metadata": {
    "slideshow": {
     "slide_type": "fragment"
    },
    "tags": []
   },
   "outputs": [
    {
     "name": "stdout",
     "output_type": "stream",
     "text": [
      "Welke output genereer ik?\n"
     ]
    }
   ],
   "source": [
    "waarde = print(\"Welke output genereer ik?\")"
   ]
  },
  {
   "cell_type": "code",
   "execution_count": 14,
   "id": "6deb981d-ee9e-47d0-a7c7-37fd45880ef7",
   "metadata": {
    "slideshow": {
     "slide_type": "fragment"
    },
    "tags": []
   },
   "outputs": [
    {
     "name": "stdout",
     "output_type": "stream",
     "text": [
      "None\n"
     ]
    }
   ],
   "source": [
    "print(waarde)"
   ]
  },
  {
   "cell_type": "markdown",
   "id": "830385a7-32ea-443d-9a3a-247e4a86120a",
   "metadata": {
    "slideshow": {
     "slide_type": "slide"
    },
    "tags": []
   },
   "source": [
    "### <center> **2. Built-in functies, packages en modules**"
   ]
  },
  {
   "attachments": {
    "2b871b96-fdda-45d2-bbab-4a6d9669adf5.png": {
     "image/png": "[encoded data removed]"
    }
   },
   "cell_type": "markdown",
   "id": "fc1f382e-fcd2-4f6f-a38f-ba3f79c5a005",
   "metadata": {
    "slideshow": {
     "slide_type": "fragment"
    },
    "tags": []
   },
   "source": [
    "Python heeft heel wat vooraf gedefinieerde functies ter beschikking die altijd beschikbaar zijn, zoals <kbd> abs() </kbd> en <kbd> pow() </kbd> enz. Een overzicht kan je gewoon opzoeken in de doc files van Python : [Python Built-in Functions](https://docs.python.org/3/library/functions.html)\n",
    "\n",
    "![built-in.png](attachment:2b871b96-fdda-45d2-bbab-4a6d9669adf5.png)"
   ]
  },
  {
   "attachments": {
    "f1505719-33ee-4632-beb0-909d35a42467.png": {
     "image/png": "[encoded data removed]"
    }
   },
   "cell_type": "markdown",
   "id": "c2faf6eb-cae5-4b72-a9f6-ad001be59419",
   "metadata": {
    "slideshow": {
     "slide_type": "subslide"
    },
    "tags": []
   },
   "source": [
    "Wanneer je op 1 van deze functies klikt, krijg je de bijbehorende documentatie ervan (zoals je deze ook te zien krijgt in je IDE)\n",
    "\n",
    "![abs.png](attachment:f1505719-33ee-4632-beb0-909d35a42467.png)"
   ]
  },
  {
   "cell_type": "markdown",
   "id": "cd8a2daa-44c5-4aa6-8227-f5d16de3d6de",
   "metadata": {
    "slideshow": {
     "slide_type": "subslide"
    },
    "tags": []
   },
   "source": [
    "Python beschikt echter ook over een **library** van <b><span style=\"color:green;\"> modules en packages </span></b>. Modules zijn Python scripts die een heleboel functies en variabelen bevatten die je kan gebruiken in je eigen code. Deze worden wel niet standaard geladen en zal je zelf eerst moeten importeren via <kbd> import </kbd>.\n",
    "\n",
    "Modules en packages zijn mechanismen om code modulair te organiseren, d.w.z. in logische kleinere blokken waardoor applicaties :\n",
    "\n",
    "- eenvoudiger worden\n",
    "- beter onderhoudbaar zijn\n",
    "- herbruikbaar zijn\n",
    "- per module een aparte **scope of namespace** kunnen hebben enzo naamgeving eenvoudiger kunnen houden (zonder collisions).\n",
    "\n",
    "Een package is een directory met hierin een hierarchie aan modules.\n",
    "Wanneer je grote applicaties bouwt, is het aangeraden om je code zelf ook te organiseren in modules en packages."
   ]
  },
  {
   "cell_type": "markdown",
   "id": "f4eb382e-9795-4e96-9dc6-2c5b2b24d275",
   "metadata": {
    "slideshow": {
     "slide_type": "subslide"
    },
    "tags": []
   },
   "source": [
    "Nuttige built-in modules zijn:\n",
    "\n",
    "- math\n",
    "- sys\n",
    "- random\n",
    "- os\n",
    "- time\n",
    "- ...\n",
    "\n",
    "Om ze allemaal op te vragen typ je: <kbd> help('modules') </kbd>"
   ]
  },
  {
   "cell_type": "markdown",
   "id": "9a95ee18-5ef1-4c37-8dce-cf95e9706f14",
   "metadata": {
    "slideshow": {
     "slide_type": "subslide"
    },
    "tags": []
   },
   "source": [
    "Het <kbd> import </kbd> statement kan op verschillende manieren gebruikt worden:\n",
    "```\n",
    "- import <module_name>\n",
    "- from <module_name> import <name(s)>\n",
    "- from <module_name> import *\n",
    "- from <module_name> import <name> as <alt_name>\n",
    "```"
   ]
  },
  {
   "cell_type": "code",
   "execution_count": 1,
   "id": "882fe5bd-2cc7-4729-8719-8fd4b55ab6f7",
   "metadata": {
    "slideshow": {
     "slide_type": "subslide"
    },
    "tags": []
   },
   "outputs": [
    {
     "name": "stdout",
     "output_type": "stream",
     "text": [
      "Value of cos30 is: 0.8660254037844387\n",
      "Value of tan10 is: 0.17632698070846498\n",
      "Value of pie is: 3.141592653589793\n",
      "The random number generated using random int function: 11\n"
     ]
    }
   ],
   "source": [
    "import math # inladen van de math module\n",
    "import random # inladen van de random module\n",
    "\n",
    "# oproepen van enkele fucties uit de math module\n",
    "cos30 = math.cos(math.pi/6)\n",
    "tan10 = math.tan(math.radians(10))\n",
    "pie = math.pi\n",
    "\n",
    "# genereren van een random geheel getal in [0,20[\n",
    "random_int = random.randint(0,20)\n",
    "\n",
    "\n",
    "print(f'Value of cos30 is: {cos30}')\n",
    "print(f'Value of tan10 is: {tan10}')\n",
    "print(f'Value of pie is: {pie}')\n",
    "print(f'The random number generated using random int function: {random_int}')"
   ]
  },
  {
   "cell_type": "code",
   "execution_count": 50,
   "id": "7841aeb8-dcb5-42b6-b9f9-f98cf1d64786",
   "metadata": {
    "slideshow": {
     "slide_type": "subslide"
    },
    "tags": []
   },
   "outputs": [
    {
     "name": "stdout",
     "output_type": "stream",
     "text": [
      "3.141592653589793\n",
      "-0.8733119827746476\n",
      "0.0\n"
     ]
    }
   ],
   "source": [
    "from math import * \n",
    "\n",
    "# prefix math hoeft nu niet meer gebruikt te worden\n",
    "\n",
    "print(pi)\n",
    "print(sin(155))\n",
    "print(tan(0))"
   ]
  },
  {
   "cell_type": "code",
   "execution_count": 48,
   "id": "b0e09b01-22b8-4478-b630-e8c7aff7d9e5",
   "metadata": {
    "slideshow": {
     "slide_type": "fragment"
    },
    "tags": []
   },
   "outputs": [
    {
     "name": "stdout",
     "output_type": "stream",
     "text": [
      "10.0\n",
      "3628800\n",
      "3.141592653589793\n"
     ]
    }
   ],
   "source": [
    "from math import sqrt, factorial, pi\n",
    "\n",
    "# enkel sqrt, factorial en pi zijn rechtstreeks aanspreekbaar\n",
    "print(sqrt(100))\n",
    "print(factorial(10))\n",
    "print(pi)"
   ]
  },
  {
   "cell_type": "code",
   "execution_count": 49,
   "id": "2041a19e-74fa-4373-8693-b51cd28223c7",
   "metadata": {
    "slideshow": {
     "slide_type": "subslide"
    },
    "tags": []
   },
   "outputs": [
    {
     "name": "stdout",
     "output_type": "stream",
     "text": [
      "3.141592653589793\n",
      "2\n",
      "1.23.5\n"
     ]
    }
   ],
   "source": [
    "import math as m\n",
    "import numpy as np\n",
    "import random as r\n",
    "\n",
    "# functies en data zijn aanspreekbaar via een alias\n",
    "print(m.pi)\n",
    "print(r.randint(0,10))\n",
    "print(np.__version__)"
   ]
  },
  {
   "cell_type": "markdown",
   "id": "1286dbba-df20-4323-b388-b85bc84b3d37",
   "metadata": {
    "slideshow": {
     "slide_type": "fragment"
    },
    "tags": []
   },
   "source": [
    "---\n",
    "**Merk op:**\n",
    "\n",
    "Om geen collisions te krijgen met naamgeving van objecten in je huidige code (of tussen die van verschillende modules) is het aangeraden om aliases te gebruiken of functies en data aan te spreken via de modulenaam.\n",
    "\n",
    "---"
   ]
  },
  {
   "cell_type": "markdown",
   "id": "49a3a2e8-4a04-4eb0-ab93-52714e693d1a",
   "metadata": {
    "slideshow": {
     "slide_type": "slide"
    },
    "tags": []
   },
   "source": [
    "### <center> **3. Zelf functies schrijven**"
   ]
  },
  {
   "cell_type": "markdown",
   "id": "83a343a0-be27-4cf6-bb77-c70c131bbb7a",
   "metadata": {
    "slideshow": {
     "slide_type": "fragment"
    },
    "tags": []
   },
   "source": [
    "Een functie bestaat uit een **signatuur** en een **body**. Beide moeten gedefinieerd worden bij het aanmaken van een nieuwe functie.\n",
    "\n",
    "Met het keyword <kbd> def </kbd> kan je nieuwe functie aanmaken. \n",
    "De signatuur van de functie moet aan volgende syntax voldoen:\n",
    "\n",
    "> <kbd> def functie_naam ( param_1, param_2, ... ): </kbd>\n",
    "\n",
    "na <kbd> : </kbd> volgt dan de functie_body. Deze bestaat uit een aantal lijnen Python code, die allen 1 tab (4 spaties) inspringen t.o.v. de signatuur. \n",
    "\n",
    "Wanneer de functie een resultaat teruggeeft dan begint de laatste lijn code met het keyword <kbd> return </kbd>.\n"
   ]
  },
  {
   "cell_type": "markdown",
   "id": "11ed9468-1008-4a98-9d97-eef6274688ea",
   "metadata": {
    "slideshow": {
     "slide_type": "subslide"
    },
    "tags": []
   },
   "source": [
    "**Voorbeeld:** Schrijf een functie die 2 getallen als input neemt en de vermenigvuldiging van beide getallen als resultaat teruggeeft:"
   ]
  },
  {
   "cell_type": "code",
   "execution_count": 2,
   "id": "4b54450e-f73b-4350-9899-7eff2a61e5d7",
   "metadata": {
    "slideshow": {
     "slide_type": "fragment"
    },
    "tags": []
   },
   "outputs": [],
   "source": [
    "def maal(getal1, getal2): # deze lijn is de signatuur\n",
    "    # hier begint de body - 1 tab ingesprongen\n",
    "    produkt = getal1 * getal2\n",
    "    return produkt # het resultaat wordt teruggegeven"
   ]
  },
  {
   "cell_type": "code",
   "execution_count": 3,
   "id": "4fbf2dfb-cd70-4a0d-8b20-b445945c9801",
   "metadata": {
    "slideshow": {
     "slide_type": "fragment"
    },
    "tags": []
   },
   "outputs": [
    {
     "data": {
      "text/plain": [
       "20"
      ]
     },
     "execution_count": 3,
     "metadata": {},
     "output_type": "execute_result"
    }
   ],
   "source": [
    "maal(4,5)"
   ]
  },
  {
   "cell_type": "code",
   "execution_count": 4,
   "id": "9ce6451c-b3b9-4dde-8cb2-d9296db9ec8e",
   "metadata": {
    "slideshow": {
     "slide_type": "fragment"
    },
    "tags": []
   },
   "outputs": [
    {
     "data": {
      "text/plain": [
       "-37.1"
      ]
     },
     "execution_count": 4,
     "metadata": {},
     "output_type": "execute_result"
    }
   ],
   "source": [
    "result = maal(-7,5.3)\n",
    "result"
   ]
  },
  {
   "cell_type": "code",
   "execution_count": 6,
   "id": "6cbfdfc1-ac02-4bca-9bc7-e197af315dbc",
   "metadata": {
    "slideshow": {
     "slide_type": "fragment"
    },
    "tags": []
   },
   "outputs": [
    {
     "name": "stdout",
     "output_type": "stream",
     "text": [
      "<class 'function'>\n"
     ]
    }
   ],
   "source": [
    "print(type(maal))"
   ]
  },
  {
   "cell_type": "markdown",
   "id": "65d56b0a-8b12-403e-b7c5-234a5d700703",
   "metadata": {
    "slideshow": {
     "slide_type": "subslide"
    },
    "tags": []
   },
   "source": [
    "---\n",
    "**Merk op:**\n",
    "\n",
    "Namen van functies moeten voldoen aan dezelfde voorwaarden als variabelenamen: ze kunnen getallen, letters en underscores bevatten maar kunnen niet starten met een getal.\n",
    "\n",
    "---"
   ]
  },
  {
   "cell_type": "markdown",
   "id": "fd56d72d-8853-45d8-8bae-c2b0a5f1be97",
   "metadata": {
    "slideshow": {
     "slide_type": "fragment"
    },
    "tags": []
   },
   "source": [
    "---\n",
    "**Merk op:** \n",
    "\n",
    "Het einde van de body van de functie wordt aangegeven door de **indentatie** (het inspringen). Elke lijn moet exact evenveel spaties inspringen (4 volgens PEP8)\n",
    "\n",
    "---"
   ]
  },
  {
   "cell_type": "code",
   "execution_count": 21,
   "id": "88311d6d-646c-4aeb-9172-d3160540183c",
   "metadata": {
    "slideshow": {
     "slide_type": "subslide"
    },
    "tags": []
   },
   "outputs": [
    {
     "ename": "SyntaxError",
     "evalue": "'return' outside function (3906105441.py, line 4)",
     "output_type": "error",
     "traceback": [
      "\u001b[1;36m  Cell \u001b[1;32mIn[21], line 4\u001b[1;36m\u001b[0m\n\u001b[1;33m    return produkt # het resultaat wordt teruggegeven\u001b[0m\n\u001b[1;37m    ^\u001b[0m\n\u001b[1;31mSyntaxError\u001b[0m\u001b[1;31m:\u001b[0m 'return' outside function\n"
     ]
    }
   ],
   "source": [
    "def maal(getal1, getal2): # deze lijn is de signatuur\n",
    "    # hier begint de body - 1 tab ingesprongen\n",
    "    produkt = getal1 * getal2\n",
    "return produkt # zit niet meer in de body"
   ]
  },
  {
   "cell_type": "code",
   "execution_count": 26,
   "id": "d70bc2d9-ad72-40c1-a6c0-274de69420eb",
   "metadata": {
    "slideshow": {
     "slide_type": "fragment"
    },
    "tags": []
   },
   "outputs": [
    {
     "name": "stdout",
     "output_type": "stream",
     "text": [
      "dit wordt wel geprint\n",
      "24\n"
     ]
    }
   ],
   "source": [
    "def maal(getal1, getal2): # deze lijn is de signatuur\n",
    "    # hier begint de body - 1 tab ingesprongen\n",
    "    produkt = getal1 * getal2\n",
    "    return produkt # het resultaat wordt teruggegeven\n",
    "\n",
    "    print(\"dit wordt nooit geprint\") # dit zit nog in de functie body\n",
    "\n",
    "print(\"dit wordt wel geprint\") # dit zit niet in de functie body\n",
    "print(maal(4, 6))\n",
    "    "
   ]
  },
  {
   "cell_type": "markdown",
   "id": "3a953a72-db07-4b07-9293-554ff09f8800",
   "metadata": {
    "slideshow": {
     "slide_type": "subslide"
    },
    "tags": []
   },
   "source": [
    "---\n",
    "**Merk op:**\n",
    "\n",
    "Wanneer een **return** statement wordt uitgevoerd, stopt de functie en wordt de returnwaarde teruggegeven. Code die onder het return statement staat en nog tot de body behoort (door de indentatie) zal niet meer uitgevoerd worden.\n",
    "\n",
    "---\n"
   ]
  },
  {
   "cell_type": "markdown",
   "id": "147d8a90-0a8f-460b-a634-84970d101592",
   "metadata": {
    "slideshow": {
     "slide_type": "subslide"
    },
    "tags": []
   },
   "source": [
    "#### <center> **Formele versus actuele parameters**"
   ]
  },
  {
   "cell_type": "markdown",
   "id": "bd66ff54-8f93-47be-8585-a34ced9fb09c",
   "metadata": {
    "slideshow": {
     "slide_type": "fragment"
    },
    "tags": []
   },
   "source": [
    "Tussen de ronde haken in de signatuur staat de parameterlijst. Deze kan bestaan uit 0, 1 of meerdere inputparameters. \n",
    "\n",
    "Een parameter gebruik je in de body van de functie als een variabele. Maar deze krijgt pas zijn <b> <span style=\"color:green;\"> actuele parameterwaarde </span> </b> wanneer de functie wordt aangeroepen. Bij het aanmaken van de functie is de parameter slechts een placeholder voor die actuele waarde, we noemen dit ook wel de <b><span style=\"color:green;\"> formele parameter </span></b>. De actuele parameter wordt ook wel <b><span style=\"color:green;\"> een argument </span></b> genoemd.\n",
    "    \n",
    "In het voorbeeld van de functie _maal()_ zijn _getal1_ en _getal2_ formele parameters die als variabelen gebruikt worden in de body. In de oproep \n",
    " ```\n",
    " maal(-7, 5.3)\n",
    " \n",
    " ```\n",
    " zijn $-7$ en $5.3$ de actuele parameterwaarden of argumenten."
   ]
  },
  {
   "cell_type": "markdown",
   "id": "27794c37-9b5d-4d21-87a8-002abc2d33f7",
   "metadata": {
    "slideshow": {
     "slide_type": "subslide"
    },
    "tags": []
   },
   "source": [
    "---\n",
    "**Merk op:**\n",
    "\n",
    "In de definitie van een functie, specifieer je niet expliciet wat het type van de argumenten moet zijn. Toch is het type van het argument wel degelijk belangrijk. Wanneer je de functie oproept met argumenten waarvoor de functie niet bedoeld was krijg je een <kbd> TypeError </kbd>.  \n",
    "\n",
    "---"
   ]
  },
  {
   "cell_type": "code",
   "execution_count": 38,
   "id": "5dcd5ea4-e2f0-4015-8a49-a8435e67aeac",
   "metadata": {
    "slideshow": {
     "slide_type": "skip"
    },
    "tags": []
   },
   "outputs": [
    {
     "data": {
      "text/plain": [
       "'getal1getal1getal1'"
      ]
     },
     "execution_count": 38,
     "metadata": {},
     "output_type": "execute_result"
    }
   ],
   "source": [
    "maal(\"getal1\", 3)"
   ]
  },
  {
   "cell_type": "code",
   "execution_count": 37,
   "id": "c3b57bbc-26bd-4ffc-bc87-a4404fd66ea6",
   "metadata": {
    "slideshow": {
     "slide_type": "subslide"
    },
    "tags": []
   },
   "outputs": [
    {
     "ename": "TypeError",
     "evalue": "can't multiply sequence by non-int of type 'str'",
     "output_type": "error",
     "traceback": [
      "\u001b[1;31m---------------------------------------------------------------------------\u001b[0m",
      "\u001b[1;31mTypeError\u001b[0m                                 Traceback (most recent call last)",
      "Cell \u001b[1;32mIn[37], line 1\u001b[0m\n\u001b[1;32m----> 1\u001b[0m \u001b[43mmaal\u001b[49m\u001b[43m(\u001b[49m\u001b[38;5;124;43m\"\u001b[39;49m\u001b[38;5;124;43mgetal1\u001b[39;49m\u001b[38;5;124;43m\"\u001b[39;49m\u001b[43m,\u001b[49m\u001b[43m \u001b[49m\u001b[38;5;124;43m\"\u001b[39;49m\u001b[38;5;124;43mgetal2\u001b[39;49m\u001b[38;5;124;43m\"\u001b[39;49m\u001b[43m)\u001b[49m\n",
      "Cell \u001b[1;32mIn[26], line 3\u001b[0m, in \u001b[0;36mmaal\u001b[1;34m(getal1, getal2)\u001b[0m\n\u001b[0;32m      1\u001b[0m \u001b[38;5;28;01mdef\u001b[39;00m \u001b[38;5;21mmaal\u001b[39m(getal1, getal2): \u001b[38;5;66;03m# deze lijn is de signatuur\u001b[39;00m\n\u001b[0;32m      2\u001b[0m     \u001b[38;5;66;03m# hier begint de body - 1 tab ingesprongen\u001b[39;00m\n\u001b[1;32m----> 3\u001b[0m     produkt \u001b[38;5;241m=\u001b[39m \u001b[43mgetal1\u001b[49m\u001b[43m \u001b[49m\u001b[38;5;241;43m*\u001b[39;49m\u001b[43m \u001b[49m\u001b[43mgetal2\u001b[49m\n\u001b[0;32m      4\u001b[0m     \u001b[38;5;28;01mreturn\u001b[39;00m produkt \u001b[38;5;66;03m# het resultaat wordt teruggegeven\u001b[39;00m\n\u001b[0;32m      6\u001b[0m     \u001b[38;5;28mprint\u001b[39m(\u001b[38;5;124m\"\u001b[39m\u001b[38;5;124mdit wordt nooit geprint\u001b[39m\u001b[38;5;124m\"\u001b[39m)\n",
      "\u001b[1;31mTypeError\u001b[0m: can't multiply sequence by non-int of type 'str'"
     ]
    }
   ],
   "source": [
    "maal(\"getal1\", \"getal2\")"
   ]
  },
  {
   "cell_type": "markdown",
   "id": "7a9e06bf-bd77-4c4b-aa83-2e89c9bd0a24",
   "metadata": {
    "slideshow": {
     "slide_type": "subslide"
    },
    "tags": []
   },
   "source": [
    "#### <center> **Positionele vs keyword argumenten**"
   ]
  },
  {
   "cell_type": "markdown",
   "id": "f792f2dd-e977-4d5d-bd49-324d051d812c",
   "metadata": {
    "slideshow": {
     "slide_type": "fragment"
    },
    "tags": []
   },
   "source": [
    "In het voorbeeld van de functie _maal()_ geven de oproepen \n",
    "```\n",
    " maal(4, 5)\n",
    " maal(5, 4)\n",
    " ```    \n",
    " hetzelfde resultaat, maar dit is meestal niet het geval. De volgorde van de argumenten is belangrijk. Tijdens de bovenste oproep gebeuren immers de volgende assignements vooraleer de body wordt uitgevoerd:\n",
    " ```\n",
    " getal1 = 4\n",
    " getal2 = 5\n",
    " ```\n",
    " Terwijl in de tweede oproep het net andersom is:\n",
    " ```\n",
    " getal1 = 5\n",
    " getal2 = 4\n",
    " ```\n",
    " En dit is een belangrijk verschil. Dit wordt duidelijk in het voorbeeld van de functie _deel()_ :"
   ]
  },
  {
   "cell_type": "code",
   "execution_count": 36,
   "id": "1a224e2c-877d-47d2-8a3b-967d8b03da36",
   "metadata": {
    "slideshow": {
     "slide_type": "subslide"
    },
    "tags": []
   },
   "outputs": [
    {
     "name": "stdout",
     "output_type": "stream",
     "text": [
      "0.8\n",
      "1.25\n"
     ]
    }
   ],
   "source": [
    "def deel(getal1,getal2):\n",
    "    result = getal1 / getal2\n",
    "    return result\n",
    "\n",
    "print(deel(4,5))\n",
    "print(deel(5,4))"
   ]
  },
  {
   "cell_type": "markdown",
   "id": "9aa6f857-c045-4812-a4a1-097ffc65f59a",
   "metadata": {
    "slideshow": {
     "slide_type": "subslide"
    },
    "tags": []
   },
   "source": [
    "<div class=\"alert fade alert-info\">\n",
    "De positie van de argumenten bij oproep bepaalt aan welke formele parameter ze toegekend gaan worden. We noemen deze argumenten dan ook <b> positional arguments </b>."
   ]
  },
  {
   "cell_type": "markdown",
   "id": "5c932ba5-6698-4455-ae46-64bf6811c3e3",
   "metadata": {
    "slideshow": {
     "slide_type": "fragment"
    },
    "tags": []
   },
   "source": [
    "<div class=\"alert fade alert-info\">\n",
    "Python laat ook <b> keyword argumenten</b> toe. Bij functieoproep specifiëren deze aan welke formele parameter het argument moet worden toegekend. De toekenning gebeurt hier dus niet op basis van positie."
   ]
  },
  {
   "cell_type": "code",
   "execution_count": 30,
   "id": "c0b474b0-19e3-4696-8a88-0350be475c80",
   "metadata": {
    "slideshow": {
     "slide_type": "subslide"
    },
    "tags": []
   },
   "outputs": [
    {
     "name": "stdout",
     "output_type": "stream",
     "text": [
      "20\n",
      "20\n"
     ]
    }
   ],
   "source": [
    "print(maal(getal1 = 4, getal2 = 5))\n",
    "print(maal(getal2 = 5, getal1 = 4))"
   ]
  },
  {
   "cell_type": "code",
   "execution_count": 57,
   "id": "b09b982d-5069-4ff8-a6ad-9c5cd27db071",
   "metadata": {
    "slideshow": {
     "slide_type": "fragment"
    },
    "tags": []
   },
   "outputs": [
    {
     "name": "stdout",
     "output_type": "stream",
     "text": [
      "0.8\n",
      "0.8\n"
     ]
    }
   ],
   "source": [
    "print(deel(getal1 = 4, getal2 = 5))\n",
    "print(deel(getal2 = 5, getal1 = 4))"
   ]
  },
  {
   "cell_type": "markdown",
   "id": "81eac913-5c7b-4539-9a2d-63138f8e2bb4",
   "metadata": {
    "slideshow": {
     "slide_type": "subslide"
    },
    "tags": []
   },
   "source": [
    "#### <center> **Optionele parameters**"
   ]
  },
  {
   "cell_type": "markdown",
   "id": "85361d55-8a14-4b4b-8adc-de022ba52639",
   "metadata": {
    "slideshow": {
     "slide_type": "fragment"
    },
    "tags": []
   },
   "source": [
    "<div class=\"alert fade alert-info\">\n",
    "    Python voorziet ook <b>optionele parameters</b>, dit zijn parameters die tijdens de functiedefinitie een default waarde meekrijgen, waardoor bij functieoproep er niet noodzakelijk een argument moet voorzien worden. Tenzij je de default waarde van de parameter wil overschrijven."
   ]
  },
  {
   "cell_type": "code",
   "execution_count": 58,
   "id": "347f3726-96f5-4a58-b3cd-15d986757e7e",
   "metadata": {
    "slideshow": {
     "slide_type": "subslide"
    },
    "tags": []
   },
   "outputs": [],
   "source": [
    "def maal_sum(getal1, getal2, getal3 = 1):\n",
    "    # getal1 en getal2 zijn beide verplichte parameters\n",
    "    # getal3 is een optionele parameter\n",
    "    return getal1 * getal2 + getal3"
   ]
  },
  {
   "cell_type": "code",
   "execution_count": 59,
   "id": "63604dd9-bf67-4ef9-8490-93dfc1a01f89",
   "metadata": {
    "slideshow": {
     "slide_type": "fragment"
    },
    "tags": []
   },
   "outputs": [
    {
     "name": "stdout",
     "output_type": "stream",
     "text": [
      "3\n",
      "5\n",
      "9\n",
      "5\n"
     ]
    }
   ],
   "source": [
    "print(maal_sum(1,2)) # positionele en default argument\n",
    "print(maal_sum(1,2,3)) # positionele argumenten\n",
    "print(maal_sum(getal3=5, getal2=2, getal1=2)) # keyword argumenten\n",
    "print(maal_sum(getal1=2, getal2=2)) # keyword + default"
   ]
  },
  {
   "cell_type": "code",
   "execution_count": 60,
   "id": "99ee3b4d-6f6f-4abc-97ae-3ec9f2c8e5c6",
   "metadata": {
    "slideshow": {
     "slide_type": "subslide"
    },
    "tags": []
   },
   "outputs": [
    {
     "name": "stdout",
     "output_type": "stream",
     "text": [
      "7\n",
      "1\n"
     ]
    },
    {
     "ename": "TypeError",
     "evalue": "maal_sum() missing 1 required positional argument: 'getal2'",
     "output_type": "error",
     "traceback": [
      "\u001b[1;31m---------------------------------------------------------------------------\u001b[0m",
      "\u001b[1;31mTypeError\u001b[0m                                 Traceback (most recent call last)",
      "Cell \u001b[1;32mIn[60], line 3\u001b[0m\n\u001b[0;32m      1\u001b[0m \u001b[38;5;28mprint\u001b[39m(maal_sum(\u001b[38;5;241m5\u001b[39m, getal3\u001b[38;5;241m=\u001b[39m\u001b[38;5;241m2\u001b[39m, getal2\u001b[38;5;241m=\u001b[39m\u001b[38;5;241m1\u001b[39m)) \u001b[38;5;66;03m# positioneel + keyword\u001b[39;00m\n\u001b[0;32m      2\u001b[0m \u001b[38;5;28mprint\u001b[39m(maal_sum(\u001b[38;5;241m8\u001b[39m, getal2\u001b[38;5;241m=\u001b[39m\u001b[38;5;241m0\u001b[39m)) \u001b[38;5;66;03m# positioneel, keyword en default\u001b[39;00m\n\u001b[1;32m----> 3\u001b[0m \u001b[38;5;28mprint\u001b[39m(\u001b[43mmaal_sum\u001b[49m\u001b[43m(\u001b[49m\u001b[38;5;241;43m5\u001b[39;49m\u001b[43m,\u001b[49m\u001b[43m \u001b[49m\u001b[43mgetal3\u001b[49m\u001b[38;5;241;43m=\u001b[39;49m\u001b[38;5;241;43m2\u001b[39;49m\u001b[43m)\u001b[49m)\n",
      "\u001b[1;31mTypeError\u001b[0m: maal_sum() missing 1 required positional argument: 'getal2'"
     ]
    }
   ],
   "source": [
    "print(maal_sum(5, getal3=2, getal2=1)) # positioneel + keyword\n",
    "print(maal_sum(8, getal2=0)) # positioneel, keyword en default\n",
    "print(maal_sum(5, getal3=2)) # error\n",
    "      "
   ]
  },
  {
   "cell_type": "markdown",
   "id": "07fb1e4d-5f25-4d4c-af2d-8fec6f51492f",
   "metadata": {
    "slideshow": {
     "slide_type": "subslide"
    },
    "tags": []
   },
   "source": [
    "#### <center> **Functies zonder return**"
   ]
  },
  {
   "cell_type": "markdown",
   "id": "4955d554-73c3-4108-94c4-e292c7ddb59d",
   "metadata": {
    "slideshow": {
     "slide_type": "fragment"
    },
    "tags": []
   },
   "source": [
    "Niet alle functies in Python hebben nood aan een _return_ statement. Sommige functies creëren een *side_effect* (bv. met een print() statement in de body). Ook deze functies geven een waarde terug, namelijk <kbd> None </kbd>, dat aangeeft dat er geen data aanwezig is.\n",
    "\n"
   ]
  },
  {
   "cell_type": "code",
   "execution_count": 7,
   "id": "3f045742-ce59-422c-bffc-d70f5e3bb673",
   "metadata": {
    "slideshow": {
     "slide_type": "fragment"
    },
    "tags": []
   },
   "outputs": [
    {
     "name": "stdout",
     "output_type": "stream",
     "text": [
      "Dag, katja\n",
      "Tot ziens!\n",
      "None\n",
      "<class 'NoneType'>\n"
     ]
    }
   ],
   "source": [
    "def tot_ziens(naam):\n",
    "    print(f'Dag, {naam}')\n",
    "    print(f'Tot ziens!')\n",
    "\n",
    "bye = tot_ziens(\"katja\")\n",
    "print(bye)\n",
    "print(type(bye))"
   ]
  },
  {
   "cell_type": "markdown",
   "id": "7f64d83b-858c-4d1b-93f8-21da18fd889e",
   "metadata": {
    "slideshow": {
     "slide_type": "slide"
    },
    "tags": []
   },
   "source": [
    "### <center> **4. Documentatie van functies**"
   ]
  },
  {
   "cell_type": "markdown",
   "id": "2550f53f-57a7-4074-bc1d-18eab5740e6f",
   "metadata": {
    "slideshow": {
     "slide_type": "fragment"
    },
    "tags": []
   },
   "source": [
    "Elke built-in Python functie komt met documentatie die je kan opvragen via de <kbd> help()</kbd> functie: "
   ]
  },
  {
   "cell_type": "code",
   "execution_count": 52,
   "id": "12331684-8866-477e-a52a-96afaf7e946a",
   "metadata": {
    "slideshow": {
     "slide_type": "fragment"
    },
    "tags": []
   },
   "outputs": [
    {
     "name": "stdout",
     "output_type": "stream",
     "text": [
      "Help on built-in function len in module builtins:\n",
      "\n",
      "len(obj, /)\n",
      "    Return the number of items in a container.\n",
      "\n"
     ]
    }
   ],
   "source": [
    "help(len)"
   ]
  },
  {
   "cell_type": "code",
   "execution_count": 53,
   "id": "2868455f-aa78-4267-b8c8-253ba2663fb0",
   "metadata": {
    "slideshow": {
     "slide_type": "fragment"
    },
    "tags": []
   },
   "outputs": [
    {
     "name": "stdout",
     "output_type": "stream",
     "text": [
      "Help on function maal in module __main__:\n",
      "\n",
      "maal(getal1, getal2)\n",
      "\n"
     ]
    }
   ],
   "source": [
    "help(maal)"
   ]
  },
  {
   "cell_type": "markdown",
   "id": "7f84418f-bfcd-4a71-a33d-95360c997d40",
   "metadata": {
    "slideshow": {
     "slide_type": "subslide"
    },
    "tags": []
   },
   "source": [
    "Voor de zelfgedefineerde functie _maal()_ geeft de _help()_ functie de signatuur terug maar er is nog geen informatie over wat de functie doet. Dit kan je toevoegen door een functie te voorzien van een  <b><span style=\"color:green;\"> docstring </span></b>, dit is een string literal die je tussen triple quotes plaatst net onder de functie signatuur. "
   ]
  },
  {
   "cell_type": "code",
   "execution_count": 54,
   "id": "28422004-1111-4ee5-ab6d-fb1ea05fa8a0",
   "metadata": {
    "slideshow": {
     "slide_type": "fragment"
    },
    "tags": []
   },
   "outputs": [],
   "source": [
    "def maal(getal1, getal2):\n",
    "    \"\"\"Geeft het produkt van getal1 en getal2 terug.\"\"\"\n",
    "    produkt = getal1 * getal2\n",
    "    return produkt"
   ]
  },
  {
   "cell_type": "code",
   "execution_count": 55,
   "id": "708995ee-c22c-439e-9a98-0041aec6e5dc",
   "metadata": {
    "slideshow": {
     "slide_type": "fragment"
    },
    "tags": []
   },
   "outputs": [
    {
     "name": "stdout",
     "output_type": "stream",
     "text": [
      "Help on function maal in module __main__:\n",
      "\n",
      "maal(getal1, getal2)\n",
      "    Geeft het produkt van getal1 en getal2 terug.\n",
      "\n"
     ]
    }
   ],
   "source": [
    "help(maal)"
   ]
  },
  {
   "cell_type": "markdown",
   "id": "ee6f9958-3cd1-4bc8-90b3-d6ed07463ef4",
   "metadata": {
    "slideshow": {
     "slide_type": "subslide"
    },
    "tags": []
   },
   "source": [
    "---\n",
    "**Merk op:**\n",
    "\n",
    "- Documentatie van code is **niet** hetzelfde als commentaar in de code\n",
    "- Volgens PEP8 moet elke functie een docstring hebben\n",
    "- Er bestaan ook specifieke stijlregels voor het schrijven van docstring zie PEP257\n",
    "\n",
    "---"
   ]
  },
  {
   "cell_type": "markdown",
   "id": "b073727e-8f75-4390-be38-070ea1617495",
   "metadata": {
    "slideshow": {
     "slide_type": "slide"
    },
    "tags": []
   },
   "source": [
    "### <center> **Extra materiaal**"
   ]
  },
  {
   "cell_type": "markdown",
   "id": "77a1178c-60cf-4a4e-b319-3e2caa7236fb",
   "metadata": {
    "slideshow": {
     "slide_type": "fragment"
    },
    "tags": []
   },
   "source": [
    "- [Python functions](https://www.programiz.com/python-programming/function)\n",
    "- [Online quiz](https://realpython.com/quizzes/python-basics-functions-and-loops/)"
   ]
  }
 ],
 "metadata": {
  "kernelspec": {
   "display_name": "Python 3 (ipykernel)",
   "language": "python",
   "name": "python3"
  },
  "language_info": {
   "codemirror_mode": {
    "name": "ipython",
    "version": 3
   },
   "file_extension": ".py",
   "mimetype": "text/x-python",
   "name": "python",
   "nbconvert_exporter": "python",
   "pygments_lexer": "ipython3",
   "version": "3.11.7"
  }
 },
 "nbformat": 4,
 "nbformat_minor": 5
}
